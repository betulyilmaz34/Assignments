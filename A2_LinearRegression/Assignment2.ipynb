{
  "cells": [
    {
      "cell_type": "markdown",
      "metadata": {
        "id": "view-in-github",
        "colab_type": "text"
      },
      "source": [
        "<a href=\"https://colab.research.google.com/github/betulyilmaz34/Assignments/blob/main/A2_LinearRegression/Assignment2.ipynb\" target=\"_parent\"><img src=\"https://colab.research.google.com/assets/colab-badge.svg\" alt=\"Open In Colab\"/></a>"
      ]
    },
    {
      "cell_type": "markdown",
      "metadata": {
        "id": "pxFPNerzM0Bh"
      },
      "source": [
        "### Assignment 2: Linear regression"
      ]
    },
    {
      "cell_type": "markdown",
      "metadata": {
        "id": "_UlcrXNNX-U5"
      },
      "source": [
        "**In this assignment, we will see:**\n",
        "- how to assess the impact of an experimental factor on our experimental measurement using **linear regression**\n",
        "- how to check the validity of linear regression assumptions in a dataset\n",
        "- how to **design regressors** to answer a specific scientific question\n",
        "- how to take into account the hetereogeneity of our sample population using **linear mixed models**"
      ]
    },
    {
      "cell_type": "markdown",
      "metadata": {
        "id": "QEOIZimCX-U6"
      },
      "source": [
        "<div class=\"alert alert-block alert-warning\">\n",
        "<b>Preparing for this assignment:</b>\n",
        "\n",
        "The following resources will help you to get ready to complete this assignment.\n",
        "<ul>\n",
        "    <li>Watch <a href=\"https://www.youtube.com/watch?v=KsVBBJRb9TE\" target=\"_blank\">this video</a> and then follow with <a href=\"https://www.youtube.com/watch?v=xIDjj6ZyFuw\" target=\"_blank\">this video</a> to learn the concepts about simple linear regression</li>\n",
        "    <li>For a complementary look on linear regression that put its into the more general framework of model fitting, watch <a href=\"https://www.youtube.com/watch?v=9JfXKmVB6qc\" target=\"_blank\">this video</a> (until 15:10) and then follow with <a href=\"https://www.youtube.com/watch?v=HumajfjJ37E\" target=\"_blank\">this video</a> (linear regression by minimizing squared errors) and <a href=\"https://www.youtube.com/watch?v=8mpNmzLKNfU\" target=\"_blank\">this one</a> (linear regression by maximizing likelihood). These are parts of the material for Model Fitting day from Neuromatch Academy which are accessible <a href=\"https://compneuro.neuromatch.io/tutorials/W1D2_ModelFitting/chapter_title.html\" target=\"_blank\">here</a>. </li>\n",
        "    <li> (Very optional) See <a href=\"https://www.cns.nyu.edu/~eero/NOTES/leastSquares.pdf\" target=\"_blank\">these notes</a> from Eero Simoncelli (NYU) if you want to delve more into the mathematics related to linear regression</li>\n",
        "</ul>\n",
        "</div>"
      ]
    },
    {
      "cell_type": "markdown",
      "metadata": {
        "id": "QyITPX2zX-U6"
      },
      "source": [
        "## Load the numerical judgment dataset"
      ]
    },
    {
      "cell_type": "markdown",
      "metadata": {
        "id": "zbAAQWRnX-U6"
      },
      "source": [
        "We will now use the dataset from the other experiment from the article that we used in the previous two tutorials (Talluri et al.,*Current\n",
        "\n",
        "Biology*): the **numerical judgment dataset**. The paradigm is presented in Figure 3 of the [article](https://www.cell.com/action/showPdf?pii=S0960-9822%2818%2930982-5). The structure of each trial is conceptually identical to the orientation judgment task:\n",
        "- first, a stimulus (here a sequence of number)\n",
        "- a discrimination task on this first stimulus (is the mean larger than 50?)\n",
        "- then a second stimulus (another sequence of numbers)\n",
        "- finally, a numerical judgment task (report the mean over the *two* sequences).\n",
        "\n",
        "We will address with linear regression the scientific question under focus in the original article: **is the judgment task corrupted by a confirmatory bias, i.e. a tendency to align their judgment with the intermittent choice?** More specifically, we will ask **whether subjects downweight evidence from the second stimulus if it is at odds with their intermediate choice** (i.e. if their intermediate choice was \">50\" and numbers in the second stimuli are small). The analyses we run will be a simplified version of the analyses in the original article.\n",
        "\n",
        "Load the data as a Pandas dataframe (as in Assignment 1). `x1` now represents the average value of numbers in the first sequence, and correspondingly for `x2`. Note also that this dataframe has one extra column, `binchoice`, which codes for the response of the subject on the classification task after stimulus 1 (-1: \"<50\"; 1: \">50\")."
      ]
    },
    {
      "cell_type": "code",
      "execution_count": 2,
      "metadata": {
        "scrolled": true,
        "id": "VagyQG3AX-U6",
        "outputId": "3f71b7d6-6931-49fd-94a3-d10ff8f2409f",
        "colab": {
          "base_uri": "https://localhost:8080/",
          "height": 206
        }
      },
      "outputs": [
        {
          "output_type": "execute_result",
          "data": {
            "text/plain": [
              "       x1  binchoice      x2     xavg  estim  subj\n",
              "0  45.375         -1  41.625  43.5000     44     1\n",
              "1  47.500          1  38.625  43.0625     41     1\n",
              "2  47.750          1  57.500  52.6250     54     1\n",
              "3  46.625         -1  38.375  42.5000     40     1\n",
              "4  47.250         -1  41.375  44.3125     45     1"
            ],
            "text/html": [
              "\n",
              "  <div id=\"df-81361ff3-5684-48a5-81f6-02760006e787\" class=\"colab-df-container\">\n",
              "    <div>\n",
              "<style scoped>\n",
              "    .dataframe tbody tr th:only-of-type {\n",
              "        vertical-align: middle;\n",
              "    }\n",
              "\n",
              "    .dataframe tbody tr th {\n",
              "        vertical-align: top;\n",
              "    }\n",
              "\n",
              "    .dataframe thead th {\n",
              "        text-align: right;\n",
              "    }\n",
              "</style>\n",
              "<table border=\"1\" class=\"dataframe\">\n",
              "  <thead>\n",
              "    <tr style=\"text-align: right;\">\n",
              "      <th></th>\n",
              "      <th>x1</th>\n",
              "      <th>binchoice</th>\n",
              "      <th>x2</th>\n",
              "      <th>xavg</th>\n",
              "      <th>estim</th>\n",
              "      <th>subj</th>\n",
              "    </tr>\n",
              "  </thead>\n",
              "  <tbody>\n",
              "    <tr>\n",
              "      <th>0</th>\n",
              "      <td>45.375</td>\n",
              "      <td>-1</td>\n",
              "      <td>41.625</td>\n",
              "      <td>43.5000</td>\n",
              "      <td>44</td>\n",
              "      <td>1</td>\n",
              "    </tr>\n",
              "    <tr>\n",
              "      <th>1</th>\n",
              "      <td>47.500</td>\n",
              "      <td>1</td>\n",
              "      <td>38.625</td>\n",
              "      <td>43.0625</td>\n",
              "      <td>41</td>\n",
              "      <td>1</td>\n",
              "    </tr>\n",
              "    <tr>\n",
              "      <th>2</th>\n",
              "      <td>47.750</td>\n",
              "      <td>1</td>\n",
              "      <td>57.500</td>\n",
              "      <td>52.6250</td>\n",
              "      <td>54</td>\n",
              "      <td>1</td>\n",
              "    </tr>\n",
              "    <tr>\n",
              "      <th>3</th>\n",
              "      <td>46.625</td>\n",
              "      <td>-1</td>\n",
              "      <td>38.375</td>\n",
              "      <td>42.5000</td>\n",
              "      <td>40</td>\n",
              "      <td>1</td>\n",
              "    </tr>\n",
              "    <tr>\n",
              "      <th>4</th>\n",
              "      <td>47.250</td>\n",
              "      <td>-1</td>\n",
              "      <td>41.375</td>\n",
              "      <td>44.3125</td>\n",
              "      <td>45</td>\n",
              "      <td>1</td>\n",
              "    </tr>\n",
              "  </tbody>\n",
              "</table>\n",
              "</div>\n",
              "    <div class=\"colab-df-buttons\">\n",
              "\n",
              "  <div class=\"colab-df-container\">\n",
              "    <button class=\"colab-df-convert\" onclick=\"convertToInteractive('df-81361ff3-5684-48a5-81f6-02760006e787')\"\n",
              "            title=\"Convert this dataframe to an interactive table.\"\n",
              "            style=\"display:none;\">\n",
              "\n",
              "  <svg xmlns=\"http://www.w3.org/2000/svg\" height=\"24px\" viewBox=\"0 -960 960 960\">\n",
              "    <path d=\"M120-120v-720h720v720H120Zm60-500h600v-160H180v160Zm220 220h160v-160H400v160Zm0 220h160v-160H400v160ZM180-400h160v-160H180v160Zm440 0h160v-160H620v160ZM180-180h160v-160H180v160Zm440 0h160v-160H620v160Z\"/>\n",
              "  </svg>\n",
              "    </button>\n",
              "\n",
              "  <style>\n",
              "    .colab-df-container {\n",
              "      display:flex;\n",
              "      gap: 12px;\n",
              "    }\n",
              "\n",
              "    .colab-df-convert {\n",
              "      background-color: #E8F0FE;\n",
              "      border: none;\n",
              "      border-radius: 50%;\n",
              "      cursor: pointer;\n",
              "      display: none;\n",
              "      fill: #1967D2;\n",
              "      height: 32px;\n",
              "      padding: 0 0 0 0;\n",
              "      width: 32px;\n",
              "    }\n",
              "\n",
              "    .colab-df-convert:hover {\n",
              "      background-color: #E2EBFA;\n",
              "      box-shadow: 0px 1px 2px rgba(60, 64, 67, 0.3), 0px 1px 3px 1px rgba(60, 64, 67, 0.15);\n",
              "      fill: #174EA6;\n",
              "    }\n",
              "\n",
              "    .colab-df-buttons div {\n",
              "      margin-bottom: 4px;\n",
              "    }\n",
              "\n",
              "    [theme=dark] .colab-df-convert {\n",
              "      background-color: #3B4455;\n",
              "      fill: #D2E3FC;\n",
              "    }\n",
              "\n",
              "    [theme=dark] .colab-df-convert:hover {\n",
              "      background-color: #434B5C;\n",
              "      box-shadow: 0px 1px 3px 1px rgba(0, 0, 0, 0.15);\n",
              "      filter: drop-shadow(0px 1px 2px rgba(0, 0, 0, 0.3));\n",
              "      fill: #FFFFFF;\n",
              "    }\n",
              "  </style>\n",
              "\n",
              "    <script>\n",
              "      const buttonEl =\n",
              "        document.querySelector('#df-81361ff3-5684-48a5-81f6-02760006e787 button.colab-df-convert');\n",
              "      buttonEl.style.display =\n",
              "        google.colab.kernel.accessAllowed ? 'block' : 'none';\n",
              "\n",
              "      async function convertToInteractive(key) {\n",
              "        const element = document.querySelector('#df-81361ff3-5684-48a5-81f6-02760006e787');\n",
              "        const dataTable =\n",
              "          await google.colab.kernel.invokeFunction('convertToInteractive',\n",
              "                                                    [key], {});\n",
              "        if (!dataTable) return;\n",
              "\n",
              "        const docLinkHtml = 'Like what you see? Visit the ' +\n",
              "          '<a target=\"_blank\" href=https://colab.research.google.com/notebooks/data_table.ipynb>data table notebook</a>'\n",
              "          + ' to learn more about interactive tables.';\n",
              "        element.innerHTML = '';\n",
              "        dataTable['output_type'] = 'display_data';\n",
              "        await google.colab.output.renderOutput(dataTable, element);\n",
              "        const docLink = document.createElement('div');\n",
              "        docLink.innerHTML = docLinkHtml;\n",
              "        element.appendChild(docLink);\n",
              "      }\n",
              "    </script>\n",
              "  </div>\n",
              "\n",
              "\n",
              "    <div id=\"df-b8a633b4-b5f7-45c3-a08d-05461faa50bd\">\n",
              "      <button class=\"colab-df-quickchart\" onclick=\"quickchart('df-b8a633b4-b5f7-45c3-a08d-05461faa50bd')\"\n",
              "                title=\"Suggest charts\"\n",
              "                style=\"display:none;\">\n",
              "\n",
              "<svg xmlns=\"http://www.w3.org/2000/svg\" height=\"24px\"viewBox=\"0 0 24 24\"\n",
              "     width=\"24px\">\n",
              "    <g>\n",
              "        <path d=\"M19 3H5c-1.1 0-2 .9-2 2v14c0 1.1.9 2 2 2h14c1.1 0 2-.9 2-2V5c0-1.1-.9-2-2-2zM9 17H7v-7h2v7zm4 0h-2V7h2v10zm4 0h-2v-4h2v4z\"/>\n",
              "    </g>\n",
              "</svg>\n",
              "      </button>\n",
              "\n",
              "<style>\n",
              "  .colab-df-quickchart {\n",
              "      --bg-color: #E8F0FE;\n",
              "      --fill-color: #1967D2;\n",
              "      --hover-bg-color: #E2EBFA;\n",
              "      --hover-fill-color: #174EA6;\n",
              "      --disabled-fill-color: #AAA;\n",
              "      --disabled-bg-color: #DDD;\n",
              "  }\n",
              "\n",
              "  [theme=dark] .colab-df-quickchart {\n",
              "      --bg-color: #3B4455;\n",
              "      --fill-color: #D2E3FC;\n",
              "      --hover-bg-color: #434B5C;\n",
              "      --hover-fill-color: #FFFFFF;\n",
              "      --disabled-bg-color: #3B4455;\n",
              "      --disabled-fill-color: #666;\n",
              "  }\n",
              "\n",
              "  .colab-df-quickchart {\n",
              "    background-color: var(--bg-color);\n",
              "    border: none;\n",
              "    border-radius: 50%;\n",
              "    cursor: pointer;\n",
              "    display: none;\n",
              "    fill: var(--fill-color);\n",
              "    height: 32px;\n",
              "    padding: 0;\n",
              "    width: 32px;\n",
              "  }\n",
              "\n",
              "  .colab-df-quickchart:hover {\n",
              "    background-color: var(--hover-bg-color);\n",
              "    box-shadow: 0 1px 2px rgba(60, 64, 67, 0.3), 0 1px 3px 1px rgba(60, 64, 67, 0.15);\n",
              "    fill: var(--button-hover-fill-color);\n",
              "  }\n",
              "\n",
              "  .colab-df-quickchart-complete:disabled,\n",
              "  .colab-df-quickchart-complete:disabled:hover {\n",
              "    background-color: var(--disabled-bg-color);\n",
              "    fill: var(--disabled-fill-color);\n",
              "    box-shadow: none;\n",
              "  }\n",
              "\n",
              "  .colab-df-spinner {\n",
              "    border: 2px solid var(--fill-color);\n",
              "    border-color: transparent;\n",
              "    border-bottom-color: var(--fill-color);\n",
              "    animation:\n",
              "      spin 1s steps(1) infinite;\n",
              "  }\n",
              "\n",
              "  @keyframes spin {\n",
              "    0% {\n",
              "      border-color: transparent;\n",
              "      border-bottom-color: var(--fill-color);\n",
              "      border-left-color: var(--fill-color);\n",
              "    }\n",
              "    20% {\n",
              "      border-color: transparent;\n",
              "      border-left-color: var(--fill-color);\n",
              "      border-top-color: var(--fill-color);\n",
              "    }\n",
              "    30% {\n",
              "      border-color: transparent;\n",
              "      border-left-color: var(--fill-color);\n",
              "      border-top-color: var(--fill-color);\n",
              "      border-right-color: var(--fill-color);\n",
              "    }\n",
              "    40% {\n",
              "      border-color: transparent;\n",
              "      border-right-color: var(--fill-color);\n",
              "      border-top-color: var(--fill-color);\n",
              "    }\n",
              "    60% {\n",
              "      border-color: transparent;\n",
              "      border-right-color: var(--fill-color);\n",
              "    }\n",
              "    80% {\n",
              "      border-color: transparent;\n",
              "      border-right-color: var(--fill-color);\n",
              "      border-bottom-color: var(--fill-color);\n",
              "    }\n",
              "    90% {\n",
              "      border-color: transparent;\n",
              "      border-bottom-color: var(--fill-color);\n",
              "    }\n",
              "  }\n",
              "</style>\n",
              "\n",
              "      <script>\n",
              "        async function quickchart(key) {\n",
              "          const quickchartButtonEl =\n",
              "            document.querySelector('#' + key + ' button');\n",
              "          quickchartButtonEl.disabled = true;  // To prevent multiple clicks.\n",
              "          quickchartButtonEl.classList.add('colab-df-spinner');\n",
              "          try {\n",
              "            const charts = await google.colab.kernel.invokeFunction(\n",
              "                'suggestCharts', [key], {});\n",
              "          } catch (error) {\n",
              "            console.error('Error during call to suggestCharts:', error);\n",
              "          }\n",
              "          quickchartButtonEl.classList.remove('colab-df-spinner');\n",
              "          quickchartButtonEl.classList.add('colab-df-quickchart-complete');\n",
              "        }\n",
              "        (() => {\n",
              "          let quickchartButtonEl =\n",
              "            document.querySelector('#df-b8a633b4-b5f7-45c3-a08d-05461faa50bd button');\n",
              "          quickchartButtonEl.style.display =\n",
              "            google.colab.kernel.accessAllowed ? 'block' : 'none';\n",
              "        })();\n",
              "      </script>\n",
              "    </div>\n",
              "\n",
              "    </div>\n",
              "  </div>\n"
            ],
            "application/vnd.google.colaboratory.intrinsic+json": {
              "type": "dataframe",
              "variable_name": "df",
              "summary": "{\n  \"name\": \"df\",\n  \"rows\": 1738,\n  \"fields\": [\n    {\n      \"column\": \"x1\",\n      \"properties\": {\n        \"dtype\": \"number\",\n        \"std\": 3.5428135338669726,\n        \"min\": 44.25,\n        \"max\": 55.375,\n        \"num_unique_values\": 49,\n        \"samples\": [\n          45.5,\n          47.375,\n          50.5\n        ],\n        \"semantic_type\": \"\",\n        \"description\": \"\"\n      }\n    },\n    {\n      \"column\": \"binchoice\",\n      \"properties\": {\n        \"dtype\": \"number\",\n        \"std\": 0,\n        \"min\": -1,\n        \"max\": 1,\n        \"num_unique_values\": 2,\n        \"samples\": [\n          1,\n          -1\n        ],\n        \"semantic_type\": \"\",\n        \"description\": \"\"\n      }\n    },\n    {\n      \"column\": \"x2\",\n      \"properties\": {\n        \"dtype\": \"number\",\n        \"std\": 7.059139895181619,\n        \"min\": 37.625,\n        \"max\": 62.5,\n        \"num_unique_values\": 77,\n        \"samples\": [\n          41.375,\n          60.625\n        ],\n        \"semantic_type\": \"\",\n        \"description\": \"\"\n      }\n    },\n    {\n      \"column\": \"xavg\",\n      \"properties\": {\n        \"dtype\": \"number\",\n        \"std\": 4.123763788071366,\n        \"min\": 41.0,\n        \"max\": 58.0625,\n        \"num_unique_values\": 71,\n        \"samples\": [\n          51.25,\n          43.5\n        ],\n        \"semantic_type\": \"\",\n        \"description\": \"\"\n      }\n    },\n    {\n      \"column\": \"estim\",\n      \"properties\": {\n        \"dtype\": \"number\",\n        \"std\": 6,\n        \"min\": 27,\n        \"max\": 73,\n        \"num_unique_values\": 42,\n        \"samples\": [\n          38,\n          61\n        ],\n        \"semantic_type\": \"\",\n        \"description\": \"\"\n      }\n    },\n    {\n      \"column\": \"subj\",\n      \"properties\": {\n        \"dtype\": \"number\",\n        \"std\": 6,\n        \"min\": 1,\n        \"max\": 21,\n        \"num_unique_values\": 21,\n        \"samples\": [\n          1,\n          18\n        ],\n        \"semantic_type\": \"\",\n        \"description\": \"\"\n      }\n    }\n  ]\n}"
            }
          },
          "metadata": {},
          "execution_count": 2
        }
      ],
      "source": [
        "# import typical packages\n",
        "import numpy as np\n",
        "import matplotlib.pyplot as plt\n",
        "import pandas as pd\n",
        "\n",
        "# load the data from github\n",
        "df = pd.read_csv(\"https://raw.githubusercontent.com/wimmerlab/MBC_data_analysis/main/A2_LinearRegression/Task_Numerical.csv\",sep=',')\n",
        "\n",
        "# uncomment if you prefer to load the data locally\n",
        "#df = pd.read_csv(\"Task_Numerical.csv\",sep=',')\n",
        "\n",
        "# list of subjects\n",
        "subjects = np.unique(df.subj)\n",
        "\n",
        "df.head()"
      ]
    },
    {
      "cell_type": "markdown",
      "metadata": {
        "id": "4YSOOvDuX-U7"
      },
      "source": [
        "## 1. Simple linear regression\n",
        "We will start by looking at the relationship between the subject report $y$ (i.e. variable `estim`, the reported mean at the end of the sequence) and a single measure: the mean over the whole sequence ``xavg``. We will assume a linear relationship: $y = \\beta_1 xavg + \\beta_0 + \\text{noise}$, where $\\beta_0$ is the intercept,  $\\beta_1$ is the slope, and the noise is zero-mean gaussian (with constant variance). This is the generative formula for simple linear regression. Our goal here is to estimate the values of the parameters $(\\beta_0,\\beta_1)$ from the data.\n",
        "\n",
        "### 1.1 Naive fitting\n",
        "To start with, we will adopt a naive strategy where we adjust manually the linear curve (i.e. the formula above, without the noise) so it captures the data as good as possible. This should give us more insight about the role of the intercept and slope.\n",
        "\n",
        "**Define a function that captures the linear relationship between xavg and y,  taking the intercept and slope as input.**"
      ]
    },
    {
      "cell_type": "code",
      "execution_count": 3,
      "metadata": {
        "id": "qWgaUvpXX-U8"
      },
      "outputs": [],
      "source": [
        "def linear_function(x, beta0, beta1):\n",
        "    \"\"\"\n",
        "    Computes the linear function\n",
        "    Args:\n",
        "       X (array): value(s) of the regressor\n",
        "       beta0 (float): intercept\n",
        "       beta1 (float): slope\n",
        "    \"\"\"\n",
        "\n",
        "    # use linear relationship\n",
        "    y = beta0 +beta1 * x\n",
        "\n",
        "    # output the result\n",
        "    return y"
      ]
    },
    {
      "cell_type": "markdown",
      "metadata": {
        "id": "aJranA7MX-U8"
      },
      "source": [
        "Now **complete the code below and run the cell**. It plots the function we have just defined (red line), along with the data points from one subject (each blue point represents a single trial). **Adjust the value of the slides to best capture the relationship between the average stimulus and the report from the data**."
      ]
    },
    {
      "cell_type": "code",
      "execution_count": 4,
      "metadata": {
        "id": "IfpYLCMvX-U8",
        "outputId": "555659e0-c772-4bf4-ccd2-46240cb1315b",
        "colab": {
          "base_uri": "https://localhost:8080/",
          "height": 513,
          "referenced_widgets": [
            "3ee53836131b4e66821bdb6ec29f46d6",
            "adcf7624149f4bd5b19b60908ba36c71",
            "4ca8689798664591bc56d8507accd0d8",
            "38c51d18e2de4704a8003b957bcd56c2",
            "b2008da1599e4f9a82ed68c1e0dfc815",
            "a5e7a73591304e26a5d18178d64948df",
            "778ca3c0b9e545848eeeada36b5dfdb8",
            "9528556b145e47c4a10feb58d3c8e73d",
            "3397851281f649a297870df4170adb8c",
            "6d8521fc0c0f486e9d3ed9219dce54a9"
          ]
        }
      },
      "outputs": [
        {
          "output_type": "display_data",
          "data": {
            "text/plain": [
              "interactive(children=(FloatSlider(value=20.0, description='beta0', max=50.0), FloatSlider(value=0.1, descripti…"
            ],
            "application/vnd.jupyter.widget-view+json": {
              "version_major": 2,
              "version_minor": 0,
              "model_id": "3ee53836131b4e66821bdb6ec29f46d6"
            }
          },
          "metadata": {}
        }
      ],
      "source": [
        "import ipywidgets as widgets       # interactive display\n",
        "#@title\n",
        "\n",
        "#select data from subject 1\n",
        "df1 = df[\"subj\"] == 1\n",
        "\n",
        "#@markdown Make sure you execute this cell to enable the widget!\n",
        "\n",
        "@widgets.interact(\n",
        "    beta0 =widgets.FloatSlider(20, min=0, max=50), # default, min and max values for intercept\n",
        "    beta1 =widgets.FloatSlider(0.1, min=0.0, max=1.0)) # defaul, min and max values for slope\n",
        "\n",
        "def plot_data_estimate(beta0, beta1):\n",
        "\n",
        "    # set x-values for your prediction, linearly scaled values (could be just two as we're drawing a line)\n",
        "    x_data = np.linspace(35,65,10)\n",
        "\n",
        "    # given the values in x_data, predict y_data values from our model with given parameters\n",
        "    y_data = linear_function(x_data, beta0, beta1)\n",
        "\n",
        "    # plot\n",
        "    plt.plot(x_data, y_data, 'r') # plot the model prediction with a line\n",
        "    plt.plot(df[df1][\"xavg\"], df[df1][\"estim\"], 'bo') # now plot the true data from our dataframe df as dots\n",
        "    plt.xlabel(\"stimulus average\");\n",
        "    plt.ylabel(\"estimate\");\n",
        "\n",
        "    # Add a dotted line indicating the identity line\n",
        "    plt.plot(x_data, x_data, linestyle='--', color='gray');\n",
        "\n",
        "    plt.show(); # needed in Colab"
      ]
    },
    {
      "cell_type": "markdown",
      "metadata": {
        "id": "-CAXH_5SX-U9"
      },
      "source": [
        "This was nice but we ignored the stochastic part of the linear regression model (the added Gaussian noise) which we would like to estimate as well, as it gives us an estimate of how much the model cannot explain about the data. To do so, we now need to simulate the model with noise and compare the distributions of points to the experimental one.\n",
        "First, **write a function that simulates the linear regression model (with noise), given some values of the regressor $xavg$ and parameter values**. Parameters now include the intercept $\\beta_0$, the slope $\\beta_1$ and also $\\sigma$, the standard deviation of the Gaussian noise. A Gaussian random variable can be drawn using `normal` from the `numpy` package."
      ]
    },
    {
      "cell_type": "code",
      "execution_count": 5,
      "metadata": {
        "id": "dGGHMnf4X-U9"
      },
      "outputs": [],
      "source": [
        "#import function\n",
        "from numpy.random import normal\n",
        "\n",
        "# define function that simulates the linear regression model\n",
        "def generate_linear_model(x, beta0, beta1, sigma):\n",
        "    \"\"\"\n",
        "    Simulates the simple linear model\n",
        "    Args:\n",
        "       X (array): value(s) of the regressor\n",
        "       beta0 (float): intercept\n",
        "       beta1 (float): slope\n",
        "       sigma (float): standard deviation of noise parameter\n",
        "    \"\"\"\n",
        "\n",
        "    # use linear relationship\n",
        "    y = beta0 +beta1 * x\n",
        "\n",
        "    # add gaussian noise with standard deviation = sigma\n",
        "    n = len(x)\n",
        "    y = y + normal(0, sigma, n)\n",
        "\n",
        "    # output the result\n",
        "    return y"
      ]
    },
    {
      "cell_type": "markdown",
      "metadata": {
        "id": "coha3cCGX-U9"
      },
      "source": [
        "Now run the cell below where the black dots represent model simulations while blue dots represent the data. Play with the knobs and **adjust the parameter values to match the two distribution qualitatively**."
      ]
    },
    {
      "cell_type": "code",
      "execution_count": 6,
      "metadata": {
        "id": "QbByd47FX-U9",
        "outputId": "db227a1e-aa0e-4f68-b369-bd38ab348c3a",
        "colab": {
          "base_uri": "https://localhost:8080/",
          "height": 545,
          "referenced_widgets": [
            "58f89a8d98e3423ea1e99f6cf0a7bf34",
            "1e58a2e42e45425b8f220f0dcc0f8102",
            "607e204c0e9f4f5ba77533217464a42b",
            "dc6d9438b7a643c1a85d60425a808b0b",
            "356e2985784044e49eecd82ccf16b000",
            "7cf01a61a1404e9f975fe401b3727bdf",
            "733a63d0fa5f419ca94ac71945479a2b",
            "90566fc0a49b4d1bb189dd70f11c623b",
            "80a1525c7ad7447791543d3cc00dcc52",
            "2d42dc872450466c8b4333d91c46129d",
            "8f47f74fb99843e1a50ad7b7de42816d",
            "5858c1e9974e4c1d906e9f7a899172af",
            "57489f5168994eff9e5e720307c66e7c"
          ]
        }
      },
      "outputs": [
        {
          "output_type": "display_data",
          "data": {
            "text/plain": [
              "interactive(children=(FloatSlider(value=20.0, description='beta0', max=50.0), FloatSlider(value=0.1, descripti…"
            ],
            "application/vnd.jupyter.widget-view+json": {
              "version_major": 2,
              "version_minor": 0,
              "model_id": "58f89a8d98e3423ea1e99f6cf0a7bf34"
            }
          },
          "metadata": {}
        }
      ],
      "source": [
        "@widgets.interact(\n",
        "    beta0 =widgets.FloatSlider(20, min=0, max=50), # default, min and max values for intercept\n",
        "    beta1 =widgets.FloatSlider(0.1, min=0.0, max=1.0), # defaul, min and max values for slope\n",
        "    sigma = widgets.FloatSlider(1, min=0.0, max=20.0)) # defaul, min and max values for noise\n",
        "\n",
        "def plot_simulated_vs_real_data_estimate(beta0, beta1, sigma):\n",
        "\n",
        "     # set x-values for your prediction, same as original dataset\n",
        "    x_data = df[df1].xavg\n",
        "\n",
        "     # given the values in x_data, predict y_data values from model with given parameters\n",
        "    y_data = generate_linear_model(x_data, beta0, beta1, sigma)\n",
        "\n",
        "    #plot\n",
        "    plt.plot(x_data, y_data, 'ko') # plot the model prediction with black dots\n",
        "    plt.plot(df[df1]['xavg'], df[df1]['estim'], 'bo') # now plot the true data from our dataframe df as blue dots\n",
        "    plt.xlabel(\"stimulus average\");\n",
        "    plt.ylabel(\"estimate\");\n",
        "\n",
        "    # Add a dotted line indicating the identity line\n",
        "    plt.plot(x_data, x_data, linestyle='--', color='gray');\n",
        "\n",
        "    plt.show(); # needed in Colab"
      ]
    },
    {
      "cell_type": "markdown",
      "metadata": {
        "id": "VacqahEnX-U9"
      },
      "source": [
        "### 1.2 Least-square regression\n",
        "\n",
        "We will now use a more principled approach called Ordinary Least-Square (OLS) regression, which minimizes the overall estimation error of the linear model. More precisely, it looks for the parameters $(\\beta_0,\\beta_1)$ that minimizes the sum over trials of the squares of errors.\n",
        "**Run OLS regression for subject 1 and obtain the coefficients of the linear regression that fits the data.**\n",
        "\n",
        " We can run this analysis with the function `ols` in `statsmodel.formula.api`. You just need to specify the formula (the dependent variable on the left, and the regressor(s) on the right) and the dataframe for the corresponding data."
      ]
    },
    {
      "cell_type": "code",
      "execution_count": 7,
      "metadata": {
        "ExecuteTime": {
          "end_time": "2022-02-04T22:46:53.929474Z",
          "start_time": "2022-02-04T22:46:53.866909Z"
        },
        "colab": {
          "base_uri": "https://localhost:8080/"
        },
        "id": "dONKI852M0Ed",
        "outputId": "1a2cfee4-c6e4-4792-fa6a-d6e37b081af8",
        "scrolled": true
      },
      "outputs": [
        {
          "output_type": "stream",
          "name": "stdout",
          "text": [
            "Coefficients: Intercept    21.133246\n",
            "xavg          0.658960\n",
            "dtype: float64\n"
          ]
        }
      ],
      "source": [
        "# import OLS from statsmodel package\n",
        "from statsmodels.formula.api import ols\n",
        "\n",
        "# define model formula and database (point to a dataframe)\n",
        "mod = ols(formula = 'estim ~ xavg' , data=df[df1])\n",
        "\n",
        "# fit the model\n",
        "res = mod.fit()\n",
        "\n",
        "# The coefficients\n",
        "print('Coefficients:', res.params)"
      ]
    },
    {
      "cell_type": "markdown",
      "metadata": {
        "id": "AdIpv4sJX-U9"
      },
      "source": [
        "You get a more complete summary using the command `summary`, including the $R^2$ (how much variance in the dependent variable does the model explains, from 0 to 1), and the confidence interval for each parameter - very useful if we want to determine if a weight is statistically different from 0 (check also the T-statistic)."
      ]
    },
    {
      "cell_type": "code",
      "execution_count": 8,
      "metadata": {
        "scrolled": true,
        "id": "-cAD0BcOX-U9",
        "outputId": "581b2d7b-30e8-4821-ce6e-74fa5d4fc59e",
        "colab": {
          "base_uri": "https://localhost:8080/",
          "height": 445
        }
      },
      "outputs": [
        {
          "output_type": "execute_result",
          "data": {
            "text/plain": [
              "<class 'statsmodels.iolib.summary.Summary'>\n",
              "\"\"\"\n",
              "                            OLS Regression Results                            \n",
              "==============================================================================\n",
              "Dep. Variable:                  estim   R-squared:                       0.251\n",
              "Model:                            OLS   Adj. R-squared:                  0.241\n",
              "Method:                 Least Squares   F-statistic:                     26.77\n",
              "Date:                Sat, 18 Oct 2025   Prob (F-statistic):           1.66e-06\n",
              "Time:                        16:21:36   Log-Likelihood:                -243.67\n",
              "No. Observations:                  82   AIC:                             491.3\n",
              "Df Residuals:                      80   BIC:                             496.2\n",
              "Df Model:                           1                                         \n",
              "Covariance Type:            nonrobust                                         \n",
              "==============================================================================\n",
              "                 coef    std err          t      P>|t|      [0.025      0.975]\n",
              "------------------------------------------------------------------------------\n",
              "Intercept     21.1332      6.473      3.265      0.002       8.252      34.015\n",
              "xavg           0.6590      0.127      5.174      0.000       0.406       0.912\n",
              "==============================================================================\n",
              "Omnibus:                        0.613   Durbin-Watson:                   1.426\n",
              "Prob(Omnibus):                  0.736   Jarque-Bera (JB):                0.579\n",
              "Skew:                           0.197   Prob(JB):                        0.749\n",
              "Kurtosis:                       2.879   Cond. No.                         623.\n",
              "==============================================================================\n",
              "\n",
              "Notes:\n",
              "[1] Standard Errors assume that the covariance matrix of the errors is correctly specified.\n",
              "\"\"\""
            ],
            "text/html": [
              "<table class=\"simpletable\">\n",
              "<caption>OLS Regression Results</caption>\n",
              "<tr>\n",
              "  <th>Dep. Variable:</th>          <td>estim</td>      <th>  R-squared:         </th> <td>   0.251</td>\n",
              "</tr>\n",
              "<tr>\n",
              "  <th>Model:</th>                   <td>OLS</td>       <th>  Adj. R-squared:    </th> <td>   0.241</td>\n",
              "</tr>\n",
              "<tr>\n",
              "  <th>Method:</th>             <td>Least Squares</td>  <th>  F-statistic:       </th> <td>   26.77</td>\n",
              "</tr>\n",
              "<tr>\n",
              "  <th>Date:</th>             <td>Sat, 18 Oct 2025</td> <th>  Prob (F-statistic):</th> <td>1.66e-06</td>\n",
              "</tr>\n",
              "<tr>\n",
              "  <th>Time:</th>                 <td>16:21:36</td>     <th>  Log-Likelihood:    </th> <td> -243.67</td>\n",
              "</tr>\n",
              "<tr>\n",
              "  <th>No. Observations:</th>      <td>    82</td>      <th>  AIC:               </th> <td>   491.3</td>\n",
              "</tr>\n",
              "<tr>\n",
              "  <th>Df Residuals:</th>          <td>    80</td>      <th>  BIC:               </th> <td>   496.2</td>\n",
              "</tr>\n",
              "<tr>\n",
              "  <th>Df Model:</th>              <td>     1</td>      <th>                     </th>     <td> </td>   \n",
              "</tr>\n",
              "<tr>\n",
              "  <th>Covariance Type:</th>      <td>nonrobust</td>    <th>                     </th>     <td> </td>   \n",
              "</tr>\n",
              "</table>\n",
              "<table class=\"simpletable\">\n",
              "<tr>\n",
              "      <td></td>         <th>coef</th>     <th>std err</th>      <th>t</th>      <th>P>|t|</th>  <th>[0.025</th>    <th>0.975]</th>  \n",
              "</tr>\n",
              "<tr>\n",
              "  <th>Intercept</th> <td>   21.1332</td> <td>    6.473</td> <td>    3.265</td> <td> 0.002</td> <td>    8.252</td> <td>   34.015</td>\n",
              "</tr>\n",
              "<tr>\n",
              "  <th>xavg</th>      <td>    0.6590</td> <td>    0.127</td> <td>    5.174</td> <td> 0.000</td> <td>    0.406</td> <td>    0.912</td>\n",
              "</tr>\n",
              "</table>\n",
              "<table class=\"simpletable\">\n",
              "<tr>\n",
              "  <th>Omnibus:</th>       <td> 0.613</td> <th>  Durbin-Watson:     </th> <td>   1.426</td>\n",
              "</tr>\n",
              "<tr>\n",
              "  <th>Prob(Omnibus):</th> <td> 0.736</td> <th>  Jarque-Bera (JB):  </th> <td>   0.579</td>\n",
              "</tr>\n",
              "<tr>\n",
              "  <th>Skew:</th>          <td> 0.197</td> <th>  Prob(JB):          </th> <td>   0.749</td>\n",
              "</tr>\n",
              "<tr>\n",
              "  <th>Kurtosis:</th>      <td> 2.879</td> <th>  Cond. No.          </th> <td>    623.</td>\n",
              "</tr>\n",
              "</table><br/><br/>Notes:<br/>[1] Standard Errors assume that the covariance matrix of the errors is correctly specified."
            ],
            "text/latex": "\\begin{center}\n\\begin{tabular}{lclc}\n\\toprule\n\\textbf{Dep. Variable:}    &      estim       & \\textbf{  R-squared:         } &     0.251   \\\\\n\\textbf{Model:}            &       OLS        & \\textbf{  Adj. R-squared:    } &     0.241   \\\\\n\\textbf{Method:}           &  Least Squares   & \\textbf{  F-statistic:       } &     26.77   \\\\\n\\textbf{Date:}             & Sat, 18 Oct 2025 & \\textbf{  Prob (F-statistic):} &  1.66e-06   \\\\\n\\textbf{Time:}             &     16:21:36     & \\textbf{  Log-Likelihood:    } &   -243.67   \\\\\n\\textbf{No. Observations:} &          82      & \\textbf{  AIC:               } &     491.3   \\\\\n\\textbf{Df Residuals:}     &          80      & \\textbf{  BIC:               } &     496.2   \\\\\n\\textbf{Df Model:}         &           1      & \\textbf{                     } &             \\\\\n\\textbf{Covariance Type:}  &    nonrobust     & \\textbf{                     } &             \\\\\n\\bottomrule\n\\end{tabular}\n\\begin{tabular}{lcccccc}\n                   & \\textbf{coef} & \\textbf{std err} & \\textbf{t} & \\textbf{P$> |$t$|$} & \\textbf{[0.025} & \\textbf{0.975]}  \\\\\n\\midrule\n\\textbf{Intercept} &      21.1332  &        6.473     &     3.265  &         0.002        &        8.252    &       34.015     \\\\\n\\textbf{xavg}      &       0.6590  &        0.127     &     5.174  &         0.000        &        0.406    &        0.912     \\\\\n\\bottomrule\n\\end{tabular}\n\\begin{tabular}{lclc}\n\\textbf{Omnibus:}       &  0.613 & \\textbf{  Durbin-Watson:     } &    1.426  \\\\\n\\textbf{Prob(Omnibus):} &  0.736 & \\textbf{  Jarque-Bera (JB):  } &    0.579  \\\\\n\\textbf{Skew:}          &  0.197 & \\textbf{  Prob(JB):          } &    0.749  \\\\\n\\textbf{Kurtosis:}      &  2.879 & \\textbf{  Cond. No.          } &     623.  \\\\\n\\bottomrule\n\\end{tabular}\n%\\caption{OLS Regression Results}\n\\end{center}\n\nNotes: \\newline\n [1] Standard Errors assume that the covariance matrix of the errors is correctly specified."
          },
          "metadata": {},
          "execution_count": 8
        }
      ],
      "source": [
        "#print the summary\n",
        "res.summary()"
      ]
    },
    {
      "cell_type": "markdown",
      "metadata": {
        "id": "BKfSXP6iX-U9"
      },
      "source": [
        "**Interpret the value of $R^2$.**"
      ]
    },
    {
      "cell_type": "markdown",
      "metadata": {
        "id": "pHobRdoNX-U9"
      },
      "source": [
        "R-squared:\t0.251\n",
        "It means my model can explain 25% of the variation in the data. That is, true average can only explain 25% of subject's estimate and the rest unexplained variance (75%) may suggest bias.\n"
      ]
    },
    {
      "cell_type": "markdown",
      "metadata": {
        "id": "qo_C_VfNX-U9"
      },
      "source": [
        "**How do the fitted coefficients compare to the ones we adjusted by hand?**"
      ]
    },
    {
      "cell_type": "markdown",
      "metadata": {
        "id": "Re1xGEnQX-U9"
      },
      "source": [
        "The values manually obtained from widget are beta0=37.70 and beta1= 0.30, while values obtained from computation are beta0=21.13 and beta1= 0.659\n"
      ]
    },
    {
      "cell_type": "markdown",
      "metadata": {
        "id": "jiDWfx7LX-U9"
      },
      "source": [
        "What about the noise parameter $\\sigma$? The estimated value is not provided directly in the table but we can easily compute it as the *root mean square error* (RMSE), i.e. $\\hat \\sigma = \\sqrt {\\frac 1 n \\sum_i e_i^2}$ where $ \\frac 1 n \\sum_i()$ refers to the mean over trials and $e_i$ is the *residual* (or error) for trial $i$, i.e. the difference on each trial between the expected value of the report (following the noiseless linear relationship) and the observed value.\n",
        "The array of residuals can be obtained using `res.resid`.\n",
        "**Compute the root mean square error.**"
      ]
    },
    {
      "cell_type": "code",
      "execution_count": 10,
      "metadata": {
        "id": "udU7y8ZPX-U9",
        "outputId": "b5f379d2-8872-4205-9cc8-3628dd8274e1",
        "colab": {
          "base_uri": "https://localhost:8080/"
        }
      },
      "outputs": [
        {
          "output_type": "stream",
          "name": "stdout",
          "text": [
            "Root Mean Squared Error (RMSE): 4.724205577915148\n"
          ]
        }
      ],
      "source": [
        "# Compute the mean square error\n",
        "mse = (res.resid**2).mean()\n",
        "\n",
        "# Take the square root\n",
        "rmse = np.sqrt(mse)\n",
        "\n",
        "print(\"Root Mean Squared Error (RMSE):\", rmse)"
      ]
    },
    {
      "cell_type": "markdown",
      "metadata": {
        "id": "KBN5cMuFX-U9"
      },
      "source": [
        "**Compare to the value of noise adjusted by hand.**"
      ]
    },
    {
      "cell_type": "markdown",
      "metadata": {
        "id": "KeabElK8X-U-"
      },
      "source": [
        "the value obtained using widget is 2.90, while the value obtained from computation is 4.72."
      ]
    },
    {
      "cell_type": "markdown",
      "metadata": {
        "id": "k8kcA2DZX-U-"
      },
      "source": [
        "### 1.3 Analysis of residuals\n",
        "Should we believe these results?\n",
        "\n",
        "One of the underlying assumption when using linear regression is the **normal distribution of independent residual errors**. It basically means two things:\n",
        "- that the noise in the model should be independent from the value of the regressor (a property that goes by the ugly name of *homoskedasticity*). Sometimes this hypothesis is not met, usually because of outliers, and that can corrupt the result of our analysis. We can check whether this is the case *a posteriori* by looking at the profile of the residuals.  The variability of these residuals should not change depending on the regressor value (here, stimulus average).\n",
        "- That the noise comes a Gaussian distribution. For this, we can check a posterior that distribution the residuals is more or less Gaussian.\n",
        "\n",
        "Watch the [second video on linear regression above](https://youtu.be/xIDjj6ZyFuw?si=QES8GYRwbY4H8Lu0&t=290) to understand these checks.\n",
        "\n",
        "Let's perform the first check . **Check this by plotting a scatter plot of model residuals vs. the value of the regressor**. Note that this is basically equivalent to removing the linear trend from the scatter plot of (stimulus, response)."
      ]
    },
    {
      "cell_type": "code",
      "execution_count": 11,
      "metadata": {
        "id": "afQmg0hWX-U-",
        "outputId": "cb22f03e-ce11-44dc-8740-e1ce0420f3bf",
        "colab": {
          "base_uri": "https://localhost:8080/",
          "height": 449
        }
      },
      "outputs": [
        {
          "output_type": "display_data",
          "data": {
            "text/plain": [
              "<Figure size 640x480 with 1 Axes>"
            ],
            "image/png": "[encoded data removed]"
          },
          "metadata": {}
        }
      ],
      "source": [
        "plt.figure();\n",
        "\n",
        "# plot the residuals versus the independent variable X in a scatter plot\n",
        "plt.scatter(df[df1]['xavg'], res.resid)\n",
        "plt.ylabel('Residuals');\n",
        "plt.xlabel('xavg');"
      ]
    },
    {
      "cell_type": "markdown",
      "metadata": {
        "id": "4leNIBXrX-U-"
      },
      "source": [
        "**What do we learn from this plot?**"
      ]
    },
    {
      "cell_type": "markdown",
      "metadata": {
        "id": "N0wnPUgnX-U-"
      },
      "source": [
        "The plot does not appear to form any systematic tendency or a shape. This suggests the residuals are independent of the value of the regressor."
      ]
    },
    {
      "cell_type": "markdown",
      "metadata": {
        "id": "qRZwDkvrX-U-"
      },
      "source": [
        "Now let's perform the second check: that the residuals are normally distributed. **Plot the distribution of residuals.**"
      ]
    },
    {
      "cell_type": "code",
      "execution_count": 12,
      "metadata": {
        "id": "FkE4p94JX-U-",
        "outputId": "d809ae89-dd34-4ae5-d656-be5f1c247c02",
        "colab": {
          "base_uri": "https://localhost:8080/",
          "height": 449
        }
      },
      "outputs": [
        {
          "output_type": "display_data",
          "data": {
            "text/plain": [
              "<Figure size 640x480 with 1 Axes>"
            ],
            "image/png": "[encoded data removed]"
          },
          "metadata": {}
        }
      ],
      "source": [
        "plt.figure;\n",
        "plt.hist(res.resid,bins=20);\n",
        "plt.xlabel('residuals');\n",
        "plt.ylabel('frequency');"
      ]
    },
    {
      "cell_type": "markdown",
      "metadata": {
        "id": "ZLFdqVgTX-U-"
      },
      "source": [
        "**What do you conclude?**"
      ]
    },
    {
      "cell_type": "markdown",
      "metadata": {
        "id": "6bLyX20WX-U-"
      },
      "source": [
        "The residuals follow a normal-distribution i.e. the noise comes from Gaussian distribution. It means noise is random and cannot be explained by a systematic factor."
      ]
    },
    {
      "cell_type": "markdown",
      "metadata": {
        "id": "1OtkHVueX-U-"
      },
      "source": [
        "This can be done in a more principled manner using quantile-quantile plots with `probplot` (from the `scipy` package). This is some (nonlinear) rescaling the cumulative histogram of the residuals so that, if the residuals are indeed normally distributed, the curve (marked by blue points) should not depart too far from the (red) diagonal line. As you can see, this is the case (except perhaps the little deviation on the far right which is due to the two errors larger than 10 - those two trials may be outliers)."
      ]
    },
    {
      "cell_type": "code",
      "execution_count": 13,
      "metadata": {
        "scrolled": true,
        "id": "N66AIu7jX-U-",
        "outputId": "3c488cd5-1b48-4c7f-b818-4a3adce7c6e4",
        "colab": {
          "base_uri": "https://localhost:8080/",
          "height": 472
        }
      },
      "outputs": [
        {
          "output_type": "display_data",
          "data": {
            "text/plain": [
              "<Figure size 640x480 with 1 Axes>"
            ],
            "image/png": "[encoded data removed]"
          },
          "metadata": {}
        }
      ],
      "source": [
        "# import the function\n",
        "from scipy.stats import probplot\n",
        "\n",
        "# draw quantile-quantile plot\n",
        "plt.figure;\n",
        "probplot(res.resid, plot=plt);"
      ]
    },
    {
      "cell_type": "markdown",
      "metadata": {
        "id": "5e2RIQogX-U-"
      },
      "source": [
        "**What do you conclude from all these checks?**"
      ]
    },
    {
      "cell_type": "markdown",
      "metadata": {
        "id": "SfNFIi0NX-U-"
      },
      "source": [
        "The model's performance is consistent, it can predict the dataset as a whole rather than doing so partly. It can also be used for p-values and t-statistical testings as errors are independent of the regressor."
      ]
    },
    {
      "cell_type": "markdown",
      "metadata": {
        "id": "aoiTsl32X-U-"
      },
      "source": [
        "## 2. Multiple linear regression\n",
        "Multiple linear regression extends the framework above to **estimate jointly the impact of various regressors** (or *independent variables*) on the dependent variable. For example, the simple linear regression above used only the average of the two stimuli as a regressor, which implicitly assumes that both stimuli have the same impact on participant reports. But there is no reason to assume it, and indeed across many tasks humans and non-human subjects tend to weigh differently different pieces of information when they are provided sequentially. Sometimes they weigh more the earlier stimuli (*primacy effect*), sometimes they weigh more the later stimuli (*recency effect*), sometimes it's more complicated.\n",
        "We can estimate this using multiple linear regression where each stimuli are provided as independent regressors.\n",
        "**Implement this regression analysis, again for subject 1.** You basically just need to update the formula from the single linear model, replacing the single regressor with the sum of the two regressors."
      ]
    },
    {
      "cell_type": "code",
      "execution_count": 16,
      "metadata": {
        "id": "6gFMy3_RX-VB",
        "outputId": "89dcf5d2-f8b0-4a54-ec20-73d0c9e47eca",
        "colab": {
          "base_uri": "https://localhost:8080/",
          "height": 501
        }
      },
      "outputs": [
        {
          "output_type": "execute_result",
          "data": {
            "text/plain": [
              "<class 'statsmodels.iolib.summary.Summary'>\n",
              "\"\"\"\n",
              "                            OLS Regression Results                            \n",
              "==============================================================================\n",
              "Dep. Variable:                  estim   R-squared:                       0.281\n",
              "Model:                            OLS   Adj. R-squared:                  0.263\n",
              "Method:                 Least Squares   F-statistic:                     15.46\n",
              "Date:                Sat, 18 Oct 2025   Prob (F-statistic):           2.15e-06\n",
              "Time:                        18:36:37   Log-Likelihood:                -241.96\n",
              "No. Observations:                  82   AIC:                             489.9\n",
              "Df Residuals:                      79   BIC:                             497.1\n",
              "Df Model:                           2                                         \n",
              "Covariance Type:            nonrobust                                         \n",
              "==============================================================================\n",
              "                 coef    std err          t      P>|t|      [0.025      0.975]\n",
              "------------------------------------------------------------------------------\n",
              "Intercept     29.4845      7.837      3.762      0.000      13.886      45.083\n",
              "x1             0.0870      0.146      0.595      0.554      -0.204       0.378\n",
              "x2             0.4005      0.074      5.432      0.000       0.254       0.547\n",
              "==============================================================================\n",
              "Omnibus:                        0.525   Durbin-Watson:                   1.371\n",
              "Prob(Omnibus):                  0.769   Jarque-Bera (JB):                0.669\n",
              "Skew:                           0.153   Prob(JB):                        0.716\n",
              "Kurtosis:                       2.680   Cond. No.                     1.08e+03\n",
              "==============================================================================\n",
              "\n",
              "Notes:\n",
              "[1] Standard Errors assume that the covariance matrix of the errors is correctly specified.\n",
              "[2] The condition number is large, 1.08e+03. This might indicate that there are\n",
              "strong multicollinearity or other numerical problems.\n",
              "\"\"\""
            ],
            "text/html": [
              "<table class=\"simpletable\">\n",
              "<caption>OLS Regression Results</caption>\n",
              "<tr>\n",
              "  <th>Dep. Variable:</th>          <td>estim</td>      <th>  R-squared:         </th> <td>   0.281</td>\n",
              "</tr>\n",
              "<tr>\n",
              "  <th>Model:</th>                   <td>OLS</td>       <th>  Adj. R-squared:    </th> <td>   0.263</td>\n",
              "</tr>\n",
              "<tr>\n",
              "  <th>Method:</th>             <td>Least Squares</td>  <th>  F-statistic:       </th> <td>   15.46</td>\n",
              "</tr>\n",
              "<tr>\n",
              "  <th>Date:</th>             <td>Sat, 18 Oct 2025</td> <th>  Prob (F-statistic):</th> <td>2.15e-06</td>\n",
              "</tr>\n",
              "<tr>\n",
              "  <th>Time:</th>                 <td>18:36:37</td>     <th>  Log-Likelihood:    </th> <td> -241.96</td>\n",
              "</tr>\n",
              "<tr>\n",
              "  <th>No. Observations:</th>      <td>    82</td>      <th>  AIC:               </th> <td>   489.9</td>\n",
              "</tr>\n",
              "<tr>\n",
              "  <th>Df Residuals:</th>          <td>    79</td>      <th>  BIC:               </th> <td>   497.1</td>\n",
              "</tr>\n",
              "<tr>\n",
              "  <th>Df Model:</th>              <td>     2</td>      <th>                     </th>     <td> </td>   \n",
              "</tr>\n",
              "<tr>\n",
              "  <th>Covariance Type:</th>      <td>nonrobust</td>    <th>                     </th>     <td> </td>   \n",
              "</tr>\n",
              "</table>\n",
              "<table class=\"simpletable\">\n",
              "<tr>\n",
              "      <td></td>         <th>coef</th>     <th>std err</th>      <th>t</th>      <th>P>|t|</th>  <th>[0.025</th>    <th>0.975]</th>  \n",
              "</tr>\n",
              "<tr>\n",
              "  <th>Intercept</th> <td>   29.4845</td> <td>    7.837</td> <td>    3.762</td> <td> 0.000</td> <td>   13.886</td> <td>   45.083</td>\n",
              "</tr>\n",
              "<tr>\n",
              "  <th>x1</th>        <td>    0.0870</td> <td>    0.146</td> <td>    0.595</td> <td> 0.554</td> <td>   -0.204</td> <td>    0.378</td>\n",
              "</tr>\n",
              "<tr>\n",
              "  <th>x2</th>        <td>    0.4005</td> <td>    0.074</td> <td>    5.432</td> <td> 0.000</td> <td>    0.254</td> <td>    0.547</td>\n",
              "</tr>\n",
              "</table>\n",
              "<table class=\"simpletable\">\n",
              "<tr>\n",
              "  <th>Omnibus:</th>       <td> 0.525</td> <th>  Durbin-Watson:     </th> <td>   1.371</td>\n",
              "</tr>\n",
              "<tr>\n",
              "  <th>Prob(Omnibus):</th> <td> 0.769</td> <th>  Jarque-Bera (JB):  </th> <td>   0.669</td>\n",
              "</tr>\n",
              "<tr>\n",
              "  <th>Skew:</th>          <td> 0.153</td> <th>  Prob(JB):          </th> <td>   0.716</td>\n",
              "</tr>\n",
              "<tr>\n",
              "  <th>Kurtosis:</th>      <td> 2.680</td> <th>  Cond. No.          </th> <td>1.08e+03</td>\n",
              "</tr>\n",
              "</table><br/><br/>Notes:<br/>[1] Standard Errors assume that the covariance matrix of the errors is correctly specified.<br/>[2] The condition number is large, 1.08e+03. This might indicate that there are<br/>strong multicollinearity or other numerical problems."
            ],
            "text/latex": "\\begin{center}\n\\begin{tabular}{lclc}\n\\toprule\n\\textbf{Dep. Variable:}    &      estim       & \\textbf{  R-squared:         } &     0.281   \\\\\n\\textbf{Model:}            &       OLS        & \\textbf{  Adj. R-squared:    } &     0.263   \\\\\n\\textbf{Method:}           &  Least Squares   & \\textbf{  F-statistic:       } &     15.46   \\\\\n\\textbf{Date:}             & Sat, 18 Oct 2025 & \\textbf{  Prob (F-statistic):} &  2.15e-06   \\\\\n\\textbf{Time:}             &     18:36:37     & \\textbf{  Log-Likelihood:    } &   -241.96   \\\\\n\\textbf{No. Observations:} &          82      & \\textbf{  AIC:               } &     489.9   \\\\\n\\textbf{Df Residuals:}     &          79      & \\textbf{  BIC:               } &     497.1   \\\\\n\\textbf{Df Model:}         &           2      & \\textbf{                     } &             \\\\\n\\textbf{Covariance Type:}  &    nonrobust     & \\textbf{                     } &             \\\\\n\\bottomrule\n\\end{tabular}\n\\begin{tabular}{lcccccc}\n                   & \\textbf{coef} & \\textbf{std err} & \\textbf{t} & \\textbf{P$> |$t$|$} & \\textbf{[0.025} & \\textbf{0.975]}  \\\\\n\\midrule\n\\textbf{Intercept} &      29.4845  &        7.837     &     3.762  &         0.000        &       13.886    &       45.083     \\\\\n\\textbf{x1}        &       0.0870  &        0.146     &     0.595  &         0.554        &       -0.204    &        0.378     \\\\\n\\textbf{x2}        &       0.4005  &        0.074     &     5.432  &         0.000        &        0.254    &        0.547     \\\\\n\\bottomrule\n\\end{tabular}\n\\begin{tabular}{lclc}\n\\textbf{Omnibus:}       &  0.525 & \\textbf{  Durbin-Watson:     } &    1.371  \\\\\n\\textbf{Prob(Omnibus):} &  0.769 & \\textbf{  Jarque-Bera (JB):  } &    0.669  \\\\\n\\textbf{Skew:}          &  0.153 & \\textbf{  Prob(JB):          } &    0.716  \\\\\n\\textbf{Kurtosis:}      &  2.680 & \\textbf{  Cond. No.          } & 1.08e+03  \\\\\n\\bottomrule\n\\end{tabular}\n%\\caption{OLS Regression Results}\n\\end{center}\n\nNotes: \\newline\n [1] Standard Errors assume that the covariance matrix of the errors is correctly specified. \\newline\n [2] The condition number is large, 1.08e+03. This might indicate that there are \\newline\n strong multicollinearity or other numerical problems."
          },
          "metadata": {},
          "execution_count": 16
        }
      ],
      "source": [
        "# define the multiple linear regression model\n",
        "mod = ols(formula = 'estim ~ x1 + x2', data= df[df1])\n",
        "\n",
        "# fit to data\n",
        "res = mod.fit()\n",
        "\n",
        "# print the summary\n",
        "res.summary()"
      ]
    },
    {
      "cell_type": "markdown",
      "metadata": {
        "id": "4dZPVfXYX-VB"
      },
      "source": [
        "**Plot the value of the weights for the two stimuli as a bar plot (with standard error as error bars).** The value of the weights (starting with the intercept) can be accessed through `res.params[:]`, while the standard errors are called by `res.bse[:]`,"
      ]
    },
    {
      "cell_type": "code",
      "execution_count": 17,
      "metadata": {
        "id": "8ecH8p2eX-VC",
        "outputId": "7441cb58-5c4b-4c9c-bd5b-d2296aee9b14",
        "colab": {
          "base_uri": "https://localhost:8080/",
          "height": 435
        }
      },
      "outputs": [
        {
          "output_type": "display_data",
          "data": {
            "text/plain": [
              "<Figure size 640x480 with 1 Axes>"
            ],
            "image/png": "[encoded data removed]"
          },
          "metadata": {}
        }
      ],
      "source": [
        "#creat figure\n",
        "plt.figure()\n",
        "\n",
        "# add bar plot with weights of the first and second stimulus\n",
        "plt.bar(range(2),res.params[1:])\n",
        "\n",
        "# add error bars with standard error of these weights\n",
        "plt.errorbar(range(2), res.params[1:], res.bse[1:],  fmt='k',linestyle='None');\n",
        "\n",
        "# add tick and axes labels\n",
        "plt.xticks(range(2), ['x1', 'x2']);\n",
        "plt.ylabel('coefficients');"
      ]
    },
    {
      "cell_type": "markdown",
      "metadata": {
        "id": "T0V38xp-X-VC"
      },
      "source": [
        "**What do you conclude?**"
      ]
    },
    {
      "cell_type": "markdown",
      "metadata": {
        "id": "u9UJw6DQX-VC"
      },
      "source": [
        "Here, stimulus condition 2 (x2)' coefficient is much greater than x1, reflecting subject's final decision is more affected by the stimulus 2. Also, error bars  do not overlap. This suggests the difference of two conditions are statistically significant, eliminating the possibility of results being by chance."
      ]
    },
    {
      "cell_type": "markdown",
      "metadata": {
        "id": "ol_y5at6X-VC"
      },
      "source": [
        "At this stage we will make a rapid change in the definition of the variables to ease the following analyses, using 50 as the reference point as it was used in the experiment. We will change $x_1$ to $x_1-50$ so that a positive value indicates evidence towards large mean (>50) and a negative value indicates evidence towards low mean (<50). This is done in the code below. Then we can pass the same analysis again and check that it actually does not change anything to the stimulus weights! (Although it does change the intercept)"
      ]
    },
    {
      "cell_type": "code",
      "execution_count": 18,
      "metadata": {
        "id": "0RpusecWX-VC",
        "outputId": "9dfc62e7-93b5-4aff-bd23-8b3df280425d",
        "colab": {
          "base_uri": "https://localhost:8080/",
          "height": 206
        }
      },
      "outputs": [
        {
          "output_type": "execute_result",
          "data": {
            "text/plain": [
              "      x1  binchoice      x2    xavg  estim  subj\n",
              "0 -4.625         -1  -8.375 -6.5000     44     1\n",
              "1 -2.500          1 -11.375 -6.9375     41     1\n",
              "2 -2.250          1   7.500  2.6250     54     1\n",
              "3 -3.375         -1 -11.625 -7.5000     40     1\n",
              "4 -2.750         -1  -8.625 -5.6875     45     1"
            ],
            "text/html": [
              "\n",
              "  <div id=\"df-76ec4f0f-a42b-4636-82d9-772c6ae7f4b2\" class=\"colab-df-container\">\n",
              "    <div>\n",
              "<style scoped>\n",
              "    .dataframe tbody tr th:only-of-type {\n",
              "        vertical-align: middle;\n",
              "    }\n",
              "\n",
              "    .dataframe tbody tr th {\n",
              "        vertical-align: top;\n",
              "    }\n",
              "\n",
              "    .dataframe thead th {\n",
              "        text-align: right;\n",
              "    }\n",
              "</style>\n",
              "<table border=\"1\" class=\"dataframe\">\n",
              "  <thead>\n",
              "    <tr style=\"text-align: right;\">\n",
              "      <th></th>\n",
              "      <th>x1</th>\n",
              "      <th>binchoice</th>\n",
              "      <th>x2</th>\n",
              "      <th>xavg</th>\n",
              "      <th>estim</th>\n",
              "      <th>subj</th>\n",
              "    </tr>\n",
              "  </thead>\n",
              "  <tbody>\n",
              "    <tr>\n",
              "      <th>0</th>\n",
              "      <td>-4.625</td>\n",
              "      <td>-1</td>\n",
              "      <td>-8.375</td>\n",
              "      <td>-6.5000</td>\n",
              "      <td>44</td>\n",
              "      <td>1</td>\n",
              "    </tr>\n",
              "    <tr>\n",
              "      <th>1</th>\n",
              "      <td>-2.500</td>\n",
              "      <td>1</td>\n",
              "      <td>-11.375</td>\n",
              "      <td>-6.9375</td>\n",
              "      <td>41</td>\n",
              "      <td>1</td>\n",
              "    </tr>\n",
              "    <tr>\n",
              "      <th>2</th>\n",
              "      <td>-2.250</td>\n",
              "      <td>1</td>\n",
              "      <td>7.500</td>\n",
              "      <td>2.6250</td>\n",
              "      <td>54</td>\n",
              "      <td>1</td>\n",
              "    </tr>\n",
              "    <tr>\n",
              "      <th>3</th>\n",
              "      <td>-3.375</td>\n",
              "      <td>-1</td>\n",
              "      <td>-11.625</td>\n",
              "      <td>-7.5000</td>\n",
              "      <td>40</td>\n",
              "      <td>1</td>\n",
              "    </tr>\n",
              "    <tr>\n",
              "      <th>4</th>\n",
              "      <td>-2.750</td>\n",
              "      <td>-1</td>\n",
              "      <td>-8.625</td>\n",
              "      <td>-5.6875</td>\n",
              "      <td>45</td>\n",
              "      <td>1</td>\n",
              "    </tr>\n",
              "  </tbody>\n",
              "</table>\n",
              "</div>\n",
              "    <div class=\"colab-df-buttons\">\n",
              "\n",
              "  <div class=\"colab-df-container\">\n",
              "    <button class=\"colab-df-convert\" onclick=\"convertToInteractive('df-76ec4f0f-a42b-4636-82d9-772c6ae7f4b2')\"\n",
              "            title=\"Convert this dataframe to an interactive table.\"\n",
              "            style=\"display:none;\">\n",
              "\n",
              "  <svg xmlns=\"http://www.w3.org/2000/svg\" height=\"24px\" viewBox=\"0 -960 960 960\">\n",
              "    <path d=\"M120-120v-720h720v720H120Zm60-500h600v-160H180v160Zm220 220h160v-160H400v160Zm0 220h160v-160H400v160ZM180-400h160v-160H180v160Zm440 0h160v-160H620v160ZM180-180h160v-160H180v160Zm440 0h160v-160H620v160Z\"/>\n",
              "  </svg>\n",
              "    </button>\n",
              "\n",
              "  <style>\n",
              "    .colab-df-container {\n",
              "      display:flex;\n",
              "      gap: 12px;\n",
              "    }\n",
              "\n",
              "    .colab-df-convert {\n",
              "      background-color: #E8F0FE;\n",
              "      border: none;\n",
              "      border-radius: 50%;\n",
              "      cursor: pointer;\n",
              "      display: none;\n",
              "      fill: #1967D2;\n",
              "      height: 32px;\n",
              "      padding: 0 0 0 0;\n",
              "      width: 32px;\n",
              "    }\n",
              "\n",
              "    .colab-df-convert:hover {\n",
              "      background-color: #E2EBFA;\n",
              "      box-shadow: 0px 1px 2px rgba(60, 64, 67, 0.3), 0px 1px 3px 1px rgba(60, 64, 67, 0.15);\n",
              "      fill: #174EA6;\n",
              "    }\n",
              "\n",
              "    .colab-df-buttons div {\n",
              "      margin-bottom: 4px;\n",
              "    }\n",
              "\n",
              "    [theme=dark] .colab-df-convert {\n",
              "      background-color: #3B4455;\n",
              "      fill: #D2E3FC;\n",
              "    }\n",
              "\n",
              "    [theme=dark] .colab-df-convert:hover {\n",
              "      background-color: #434B5C;\n",
              "      box-shadow: 0px 1px 3px 1px rgba(0, 0, 0, 0.15);\n",
              "      filter: drop-shadow(0px 1px 2px rgba(0, 0, 0, 0.3));\n",
              "      fill: #FFFFFF;\n",
              "    }\n",
              "  </style>\n",
              "\n",
              "    <script>\n",
              "      const buttonEl =\n",
              "        document.querySelector('#df-76ec4f0f-a42b-4636-82d9-772c6ae7f4b2 button.colab-df-convert');\n",
              "      buttonEl.style.display =\n",
              "        google.colab.kernel.accessAllowed ? 'block' : 'none';\n",
              "\n",
              "      async function convertToInteractive(key) {\n",
              "        const element = document.querySelector('#df-76ec4f0f-a42b-4636-82d9-772c6ae7f4b2');\n",
              "        const dataTable =\n",
              "          await google.colab.kernel.invokeFunction('convertToInteractive',\n",
              "                                                    [key], {});\n",
              "        if (!dataTable) return;\n",
              "\n",
              "        const docLinkHtml = 'Like what you see? Visit the ' +\n",
              "          '<a target=\"_blank\" href=https://colab.research.google.com/notebooks/data_table.ipynb>data table notebook</a>'\n",
              "          + ' to learn more about interactive tables.';\n",
              "        element.innerHTML = '';\n",
              "        dataTable['output_type'] = 'display_data';\n",
              "        await google.colab.output.renderOutput(dataTable, element);\n",
              "        const docLink = document.createElement('div');\n",
              "        docLink.innerHTML = docLinkHtml;\n",
              "        element.appendChild(docLink);\n",
              "      }\n",
              "    </script>\n",
              "  </div>\n",
              "\n",
              "\n",
              "    <div id=\"df-7dab2ad6-cc36-4770-9e24-e31276048001\">\n",
              "      <button class=\"colab-df-quickchart\" onclick=\"quickchart('df-7dab2ad6-cc36-4770-9e24-e31276048001')\"\n",
              "                title=\"Suggest charts\"\n",
              "                style=\"display:none;\">\n",
              "\n",
              "<svg xmlns=\"http://www.w3.org/2000/svg\" height=\"24px\"viewBox=\"0 0 24 24\"\n",
              "     width=\"24px\">\n",
              "    <g>\n",
              "        <path d=\"M19 3H5c-1.1 0-2 .9-2 2v14c0 1.1.9 2 2 2h14c1.1 0 2-.9 2-2V5c0-1.1-.9-2-2-2zM9 17H7v-7h2v7zm4 0h-2V7h2v10zm4 0h-2v-4h2v4z\"/>\n",
              "    </g>\n",
              "</svg>\n",
              "      </button>\n",
              "\n",
              "<style>\n",
              "  .colab-df-quickchart {\n",
              "      --bg-color: #E8F0FE;\n",
              "      --fill-color: #1967D2;\n",
              "      --hover-bg-color: #E2EBFA;\n",
              "      --hover-fill-color: #174EA6;\n",
              "      --disabled-fill-color: #AAA;\n",
              "      --disabled-bg-color: #DDD;\n",
              "  }\n",
              "\n",
              "  [theme=dark] .colab-df-quickchart {\n",
              "      --bg-color: #3B4455;\n",
              "      --fill-color: #D2E3FC;\n",
              "      --hover-bg-color: #434B5C;\n",
              "      --hover-fill-color: #FFFFFF;\n",
              "      --disabled-bg-color: #3B4455;\n",
              "      --disabled-fill-color: #666;\n",
              "  }\n",
              "\n",
              "  .colab-df-quickchart {\n",
              "    background-color: var(--bg-color);\n",
              "    border: none;\n",
              "    border-radius: 50%;\n",
              "    cursor: pointer;\n",
              "    display: none;\n",
              "    fill: var(--fill-color);\n",
              "    height: 32px;\n",
              "    padding: 0;\n",
              "    width: 32px;\n",
              "  }\n",
              "\n",
              "  .colab-df-quickchart:hover {\n",
              "    background-color: var(--hover-bg-color);\n",
              "    box-shadow: 0 1px 2px rgba(60, 64, 67, 0.3), 0 1px 3px 1px rgba(60, 64, 67, 0.15);\n",
              "    fill: var(--button-hover-fill-color);\n",
              "  }\n",
              "\n",
              "  .colab-df-quickchart-complete:disabled,\n",
              "  .colab-df-quickchart-complete:disabled:hover {\n",
              "    background-color: var(--disabled-bg-color);\n",
              "    fill: var(--disabled-fill-color);\n",
              "    box-shadow: none;\n",
              "  }\n",
              "\n",
              "  .colab-df-spinner {\n",
              "    border: 2px solid var(--fill-color);\n",
              "    border-color: transparent;\n",
              "    border-bottom-color: var(--fill-color);\n",
              "    animation:\n",
              "      spin 1s steps(1) infinite;\n",
              "  }\n",
              "\n",
              "  @keyframes spin {\n",
              "    0% {\n",
              "      border-color: transparent;\n",
              "      border-bottom-color: var(--fill-color);\n",
              "      border-left-color: var(--fill-color);\n",
              "    }\n",
              "    20% {\n",
              "      border-color: transparent;\n",
              "      border-left-color: var(--fill-color);\n",
              "      border-top-color: var(--fill-color);\n",
              "    }\n",
              "    30% {\n",
              "      border-color: transparent;\n",
              "      border-left-color: var(--fill-color);\n",
              "      border-top-color: var(--fill-color);\n",
              "      border-right-color: var(--fill-color);\n",
              "    }\n",
              "    40% {\n",
              "      border-color: transparent;\n",
              "      border-right-color: var(--fill-color);\n",
              "      border-top-color: var(--fill-color);\n",
              "    }\n",
              "    60% {\n",
              "      border-color: transparent;\n",
              "      border-right-color: var(--fill-color);\n",
              "    }\n",
              "    80% {\n",
              "      border-color: transparent;\n",
              "      border-right-color: var(--fill-color);\n",
              "      border-bottom-color: var(--fill-color);\n",
              "    }\n",
              "    90% {\n",
              "      border-color: transparent;\n",
              "      border-bottom-color: var(--fill-color);\n",
              "    }\n",
              "  }\n",
              "</style>\n",
              "\n",
              "      <script>\n",
              "        async function quickchart(key) {\n",
              "          const quickchartButtonEl =\n",
              "            document.querySelector('#' + key + ' button');\n",
              "          quickchartButtonEl.disabled = true;  // To prevent multiple clicks.\n",
              "          quickchartButtonEl.classList.add('colab-df-spinner');\n",
              "          try {\n",
              "            const charts = await google.colab.kernel.invokeFunction(\n",
              "                'suggestCharts', [key], {});\n",
              "          } catch (error) {\n",
              "            console.error('Error during call to suggestCharts:', error);\n",
              "          }\n",
              "          quickchartButtonEl.classList.remove('colab-df-spinner');\n",
              "          quickchartButtonEl.classList.add('colab-df-quickchart-complete');\n",
              "        }\n",
              "        (() => {\n",
              "          let quickchartButtonEl =\n",
              "            document.querySelector('#df-7dab2ad6-cc36-4770-9e24-e31276048001 button');\n",
              "          quickchartButtonEl.style.display =\n",
              "            google.colab.kernel.accessAllowed ? 'block' : 'none';\n",
              "        })();\n",
              "      </script>\n",
              "    </div>\n",
              "\n",
              "    </div>\n",
              "  </div>\n"
            ],
            "application/vnd.google.colaboratory.intrinsic+json": {
              "type": "dataframe",
              "variable_name": "df",
              "summary": "{\n  \"name\": \"df\",\n  \"rows\": 1738,\n  \"fields\": [\n    {\n      \"column\": \"x1\",\n      \"properties\": {\n        \"dtype\": \"number\",\n        \"std\": 3.5428135338669704,\n        \"min\": -5.75,\n        \"max\": 5.375,\n        \"num_unique_values\": 49,\n        \"samples\": [\n          -4.5,\n          -2.625,\n          0.5\n        ],\n        \"semantic_type\": \"\",\n        \"description\": \"\"\n      }\n    },\n    {\n      \"column\": \"binchoice\",\n      \"properties\": {\n        \"dtype\": \"number\",\n        \"std\": 0,\n        \"min\": -1,\n        \"max\": 1,\n        \"num_unique_values\": 2,\n        \"samples\": [\n          1,\n          -1\n        ],\n        \"semantic_type\": \"\",\n        \"description\": \"\"\n      }\n    },\n    {\n      \"column\": \"x2\",\n      \"properties\": {\n        \"dtype\": \"number\",\n        \"std\": 7.059139895181619,\n        \"min\": -12.375,\n        \"max\": 12.5,\n        \"num_unique_values\": 77,\n        \"samples\": [\n          -8.625,\n          10.625\n        ],\n        \"semantic_type\": \"\",\n        \"description\": \"\"\n      }\n    },\n    {\n      \"column\": \"xavg\",\n      \"properties\": {\n        \"dtype\": \"number\",\n        \"std\": 4.123763788071366,\n        \"min\": -9.0,\n        \"max\": 8.0625,\n        \"num_unique_values\": 71,\n        \"samples\": [\n          1.25,\n          -6.5\n        ],\n        \"semantic_type\": \"\",\n        \"description\": \"\"\n      }\n    },\n    {\n      \"column\": \"estim\",\n      \"properties\": {\n        \"dtype\": \"number\",\n        \"std\": 6,\n        \"min\": 27,\n        \"max\": 73,\n        \"num_unique_values\": 42,\n        \"samples\": [\n          38,\n          61\n        ],\n        \"semantic_type\": \"\",\n        \"description\": \"\"\n      }\n    },\n    {\n      \"column\": \"subj\",\n      \"properties\": {\n        \"dtype\": \"number\",\n        \"std\": 6,\n        \"min\": 1,\n        \"max\": 21,\n        \"num_unique_values\": 21,\n        \"samples\": [\n          1,\n          18\n        ],\n        \"semantic_type\": \"\",\n        \"description\": \"\"\n      }\n    }\n  ]\n}"
            }
          },
          "metadata": {},
          "execution_count": 18
        }
      ],
      "source": [
        "# use 50 as reference point\n",
        "df.x1 = df.x1 - 50\n",
        "df.x2 = df.x2 - 50\n",
        "df.xavg = df.xavg - 50\n",
        "df.head()"
      ]
    },
    {
      "cell_type": "code",
      "execution_count": 19,
      "metadata": {
        "id": "V14QA8fxX-VC",
        "outputId": "d9224fe2-d0e6-4b6d-e05f-94a58d06dc95",
        "colab": {
          "base_uri": "https://localhost:8080/",
          "height": 466
        }
      },
      "outputs": [
        {
          "output_type": "execute_result",
          "data": {
            "text/plain": [
              "<class 'statsmodels.iolib.summary.Summary'>\n",
              "\"\"\"\n",
              "                            OLS Regression Results                            \n",
              "==============================================================================\n",
              "Dep. Variable:                  estim   R-squared:                       0.281\n",
              "Model:                            OLS   Adj. R-squared:                  0.263\n",
              "Method:                 Least Squares   F-statistic:                     15.46\n",
              "Date:                Sat, 18 Oct 2025   Prob (F-statistic):           2.15e-06\n",
              "Time:                        19:12:05   Log-Likelihood:                -241.96\n",
              "No. Observations:                  82   AIC:                             489.9\n",
              "Df Residuals:                      79   BIC:                             497.1\n",
              "Df Model:                           2                                         \n",
              "Covariance Type:            nonrobust                                         \n",
              "==============================================================================\n",
              "                 coef    std err          t      P>|t|      [0.025      0.975]\n",
              "------------------------------------------------------------------------------\n",
              "Intercept     53.8585      0.541     99.593      0.000      52.782      54.935\n",
              "x1             0.0870      0.146      0.595      0.554      -0.204       0.378\n",
              "x2             0.4005      0.074      5.432      0.000       0.254       0.547\n",
              "==============================================================================\n",
              "Omnibus:                        0.525   Durbin-Watson:                   1.371\n",
              "Prob(Omnibus):                  0.769   Jarque-Bera (JB):                0.669\n",
              "Skew:                           0.153   Prob(JB):                        0.716\n",
              "Kurtosis:                       2.680   Cond. No.                         7.61\n",
              "==============================================================================\n",
              "\n",
              "Notes:\n",
              "[1] Standard Errors assume that the covariance matrix of the errors is correctly specified.\n",
              "\"\"\""
            ],
            "text/html": [
              "<table class=\"simpletable\">\n",
              "<caption>OLS Regression Results</caption>\n",
              "<tr>\n",
              "  <th>Dep. Variable:</th>          <td>estim</td>      <th>  R-squared:         </th> <td>   0.281</td>\n",
              "</tr>\n",
              "<tr>\n",
              "  <th>Model:</th>                   <td>OLS</td>       <th>  Adj. R-squared:    </th> <td>   0.263</td>\n",
              "</tr>\n",
              "<tr>\n",
              "  <th>Method:</th>             <td>Least Squares</td>  <th>  F-statistic:       </th> <td>   15.46</td>\n",
              "</tr>\n",
              "<tr>\n",
              "  <th>Date:</th>             <td>Sat, 18 Oct 2025</td> <th>  Prob (F-statistic):</th> <td>2.15e-06</td>\n",
              "</tr>\n",
              "<tr>\n",
              "  <th>Time:</th>                 <td>19:12:05</td>     <th>  Log-Likelihood:    </th> <td> -241.96</td>\n",
              "</tr>\n",
              "<tr>\n",
              "  <th>No. Observations:</th>      <td>    82</td>      <th>  AIC:               </th> <td>   489.9</td>\n",
              "</tr>\n",
              "<tr>\n",
              "  <th>Df Residuals:</th>          <td>    79</td>      <th>  BIC:               </th> <td>   497.1</td>\n",
              "</tr>\n",
              "<tr>\n",
              "  <th>Df Model:</th>              <td>     2</td>      <th>                     </th>     <td> </td>   \n",
              "</tr>\n",
              "<tr>\n",
              "  <th>Covariance Type:</th>      <td>nonrobust</td>    <th>                     </th>     <td> </td>   \n",
              "</tr>\n",
              "</table>\n",
              "<table class=\"simpletable\">\n",
              "<tr>\n",
              "      <td></td>         <th>coef</th>     <th>std err</th>      <th>t</th>      <th>P>|t|</th>  <th>[0.025</th>    <th>0.975]</th>  \n",
              "</tr>\n",
              "<tr>\n",
              "  <th>Intercept</th> <td>   53.8585</td> <td>    0.541</td> <td>   99.593</td> <td> 0.000</td> <td>   52.782</td> <td>   54.935</td>\n",
              "</tr>\n",
              "<tr>\n",
              "  <th>x1</th>        <td>    0.0870</td> <td>    0.146</td> <td>    0.595</td> <td> 0.554</td> <td>   -0.204</td> <td>    0.378</td>\n",
              "</tr>\n",
              "<tr>\n",
              "  <th>x2</th>        <td>    0.4005</td> <td>    0.074</td> <td>    5.432</td> <td> 0.000</td> <td>    0.254</td> <td>    0.547</td>\n",
              "</tr>\n",
              "</table>\n",
              "<table class=\"simpletable\">\n",
              "<tr>\n",
              "  <th>Omnibus:</th>       <td> 0.525</td> <th>  Durbin-Watson:     </th> <td>   1.371</td>\n",
              "</tr>\n",
              "<tr>\n",
              "  <th>Prob(Omnibus):</th> <td> 0.769</td> <th>  Jarque-Bera (JB):  </th> <td>   0.669</td>\n",
              "</tr>\n",
              "<tr>\n",
              "  <th>Skew:</th>          <td> 0.153</td> <th>  Prob(JB):          </th> <td>   0.716</td>\n",
              "</tr>\n",
              "<tr>\n",
              "  <th>Kurtosis:</th>      <td> 2.680</td> <th>  Cond. No.          </th> <td>    7.61</td>\n",
              "</tr>\n",
              "</table><br/><br/>Notes:<br/>[1] Standard Errors assume that the covariance matrix of the errors is correctly specified."
            ],
            "text/latex": "\\begin{center}\n\\begin{tabular}{lclc}\n\\toprule\n\\textbf{Dep. Variable:}    &      estim       & \\textbf{  R-squared:         } &     0.281   \\\\\n\\textbf{Model:}            &       OLS        & \\textbf{  Adj. R-squared:    } &     0.263   \\\\\n\\textbf{Method:}           &  Least Squares   & \\textbf{  F-statistic:       } &     15.46   \\\\\n\\textbf{Date:}             & Sat, 18 Oct 2025 & \\textbf{  Prob (F-statistic):} &  2.15e-06   \\\\\n\\textbf{Time:}             &     19:12:05     & \\textbf{  Log-Likelihood:    } &   -241.96   \\\\\n\\textbf{No. Observations:} &          82      & \\textbf{  AIC:               } &     489.9   \\\\\n\\textbf{Df Residuals:}     &          79      & \\textbf{  BIC:               } &     497.1   \\\\\n\\textbf{Df Model:}         &           2      & \\textbf{                     } &             \\\\\n\\textbf{Covariance Type:}  &    nonrobust     & \\textbf{                     } &             \\\\\n\\bottomrule\n\\end{tabular}\n\\begin{tabular}{lcccccc}\n                   & \\textbf{coef} & \\textbf{std err} & \\textbf{t} & \\textbf{P$> |$t$|$} & \\textbf{[0.025} & \\textbf{0.975]}  \\\\\n\\midrule\n\\textbf{Intercept} &      53.8585  &        0.541     &    99.593  &         0.000        &       52.782    &       54.935     \\\\\n\\textbf{x1}        &       0.0870  &        0.146     &     0.595  &         0.554        &       -0.204    &        0.378     \\\\\n\\textbf{x2}        &       0.4005  &        0.074     &     5.432  &         0.000        &        0.254    &        0.547     \\\\\n\\bottomrule\n\\end{tabular}\n\\begin{tabular}{lclc}\n\\textbf{Omnibus:}       &  0.525 & \\textbf{  Durbin-Watson:     } &    1.371  \\\\\n\\textbf{Prob(Omnibus):} &  0.769 & \\textbf{  Jarque-Bera (JB):  } &    0.669  \\\\\n\\textbf{Skew:}          &  0.153 & \\textbf{  Prob(JB):          } &    0.716  \\\\\n\\textbf{Kurtosis:}      &  2.680 & \\textbf{  Cond. No.          } &     7.61  \\\\\n\\bottomrule\n\\end{tabular}\n%\\caption{OLS Regression Results}\n\\end{center}\n\nNotes: \\newline\n [1] Standard Errors assume that the covariance matrix of the errors is correctly specified."
          },
          "metadata": {},
          "execution_count": 19
        }
      ],
      "source": [
        "# dataframe for first subject\n",
        "df1 = df[df.subj==1]\n",
        "\n",
        "# re-define the multiple linear regression model\n",
        "mod = ols(formula = 'estim ~ x1 + x2', data=df1)\n",
        "\n",
        "# fit to data again\n",
        "res = mod.fit()\n",
        "\n",
        "# print the summary\n",
        "res.summary()"
      ]
    },
    {
      "cell_type": "markdown",
      "metadata": {
        "id": "Un6ibZH2X-VC"
      },
      "source": [
        "## 3. Population analysis\n",
        "OK, this was just one subject. When we look for an effect in the general population, we use a two-level analysis:\n",
        "* 1) Fit the linear regression model for each subject, separately\n",
        "* 2) Compare the distribution of weights across subjects (e.g. with t-tests)\n",
        "\n",
        "**Use this two-level approach.** First, fit the same regression analysis for all subjects separately (with the two stimuli as regressors) and store the weights of all subjects. Then, plot the average value (across subjects) of the weights for stimulus 1 and stimulus 2 as a bar plot, with individual lines for the weights of individual subjects."
      ]
    },
    {
      "cell_type": "code",
      "execution_count": null,
      "metadata": {
        "scrolled": true,
        "id": "NkxRadQJX-VC"
      },
      "outputs": [],
      "source": [
        "#define numpy array where we will store the weights for all subjects (how many weights per subject?)\n",
        "pars = np.zeros((??,??))\n",
        "\n",
        "# loop through all subjects\n",
        "for i,s in enumerate(subjects):\n",
        "\n",
        "    # dataframe with data only for the corresponding subject\n",
        "    df_subj = ??\n",
        "\n",
        "    # define the corresponding model\n",
        "    mod = ols(??)\n",
        "\n",
        "    # fit the model\n",
        "    res = mod.fit()\n",
        "\n",
        "    # add the model weights to the array\n",
        "    pars[i,:] = res.params\n",
        "\n",
        "\n",
        "# compute the mean of all weights across subjects (axis defines if we average over rows or columns)\n",
        "mean_weights = np.mean(??,axis=0)\n",
        "\n",
        "# create figure\n",
        "plt.figure;\n",
        "\n",
        "# bar plot for mean weights for stimulus 1 and 2\n",
        "plt.bar(range(2),??);\n",
        "\n",
        "# add grey lines for weights of individual subjects\n",
        "for i in range(len(subjects)):\n",
        "    plt.plot(range(2),??,'grey');\n",
        "\n",
        "# add labels for ticks and axes\n",
        "plt.xticks(range(2),(??,??));\n",
        "plt.xlabel(\"stimulus\");\n",
        "plt.ylabel(\"weight\");"
      ]
    },
    {
      "cell_type": "markdown",
      "metadata": {
        "id": "bfE9tgEiX-VC"
      },
      "source": [
        "Now, **test formally whether there is a statistical difference across the population by using a *paired* t-test**. This is paired because for each subject we have a value for both distributions, that of the first and second stimulus weights. Paired t-tests are performed using `stats.ttest_rel`."
      ]
    },
    {
      "cell_type": "code",
      "execution_count": null,
      "metadata": {
        "id": "6NPNYs7fX-VC"
      },
      "outputs": [],
      "source": [
        "# Importing library\n",
        "import scipy.stats as stats\n",
        "\n",
        "# Performing the paired sample t-test\n",
        "stats.ttest_rel(??,??)"
      ]
    },
    {
      "cell_type": "markdown",
      "metadata": {
        "id": "benGqmBJX-VC"
      },
      "source": [
        "**What do you conclude?**"
      ]
    },
    {
      "cell_type": "markdown",
      "metadata": {
        "id": "Rd3ArzEeX-VC"
      },
      "source": []
    },
    {
      "cell_type": "markdown",
      "metadata": {
        "id": "HGWwAAt5X-VC"
      },
      "source": [
        "## 3. Testing the confirmation bias\n",
        "We are now finally in a position to test the central hypothesis of the experiment: that the intermediate choice biases the perception of the subsequent stimulus, such that this second stimulus will have a larger weight on the final report if is consistent with the intermediate choice than if it is inconsistent. Take some time to make sure you get this, because now we will want to put this in a (simple) equation.\n",
        "But first, let's **define a boolean array for this consistency and add it to the dataframe**. The value of the array should be true if the sign of `binchoice` is the same as that of $x2$ (i.e. if they are both positive, it means that the subject responded \">50\" at the intermediate choice, and that the mean of the second stimulus is above 50), false otherwise. Check that you did good."
      ]
    },
    {
      "cell_type": "code",
      "execution_count": null,
      "metadata": {
        "scrolled": true,
        "id": "DdbjUXXFX-VC"
      },
      "outputs": [],
      "source": [
        "# sign of x2\n",
        "sgn = ??\n",
        "\n",
        "# define boolean array for consistency\n",
        "consistent = ???\n",
        "\n",
        "# add to dataframe\n",
        "df['consistent'] = ??\n",
        "df.head()"
      ]
    },
    {
      "cell_type": "markdown",
      "metadata": {
        "id": "5ig0qAf5X-VC"
      },
      "source": [
        "The previous model (with no impact of the intermediate binary choice on the judgment) can be written as $y = \\beta_0 + \\beta_1 x_1 + \\beta_2 x_2  + \\text{noise}.$\n",
        "How can we change this model to capture a different impact of the second stimulus depending on consistency with the intermediate choice?\n",
        "**Write the equation below** (or equivalently, the definition of the regressors)."
      ]
    },
    {
      "cell_type": "markdown",
      "metadata": {
        "id": "x93SAYA2X-VC"
      },
      "source": []
    },
    {
      "cell_type": "markdown",
      "metadata": {
        "id": "th8XyJ6GX-VC"
      },
      "source": [
        "Now **add the two new regressors that you will need in the new regression model as variables to the dataframe.** Again, take some time to make sure on the first lines of the dataframe that the new variables do code what we expect them to code."
      ]
    },
    {
      "cell_type": "code",
      "execution_count": null,
      "metadata": {
        "id": "PtkPCN3aX-VD"
      },
      "outputs": [],
      "source": [
        "?????????\n",
        "\n",
        "# add as variables in dataframe\n",
        "df[??] = ??\n",
        "df[??] = ??\n",
        "\n",
        "df.head()"
      ]
    },
    {
      "cell_type": "markdown",
      "metadata": {
        "id": "tKxyGo1JX-VD"
      },
      "source": [
        "Almost there! Now **fit the new regression model on all subjects separately and plot the values of the two types of x2 weights one against another**. Specifically, instead of plotting lines as we did for the previous model, we will represent each pair of weights using a scatter plot, with the value of one weight on the x-axis and of the other weight on the y-axis. This way, systematic differences between the weights will be seen as points lying more on one side or the other of the diagonal."
      ]
    },
    {
      "cell_type": "code",
      "execution_count": null,
      "metadata": {
        "id": "iS36aDYrX-VD"
      },
      "outputs": [],
      "source": [
        "# create array for weights for each subject (how many weights per subject?)\n",
        "pars = np.zeros((??,??))\n",
        "\n",
        "# loop through all subjects\n",
        "for i,s in enumerate(subjects):\n",
        "\n",
        "    # dataframe for this subject\n",
        "    df_subj = ??\n",
        "\n",
        "    # define and fit regression model\n",
        "    mod = ols(????)\n",
        "    res = mod.fit()\n",
        "\n",
        "    # store values of the parameters\n",
        "    pars[i,:] = res.params\n",
        "\n",
        "# compute mean across subjects\n",
        "mean_weights = np.mean(??,axis=0)\n",
        "\n",
        "# create figure\n",
        "plt.figure;\n",
        "\n",
        "# add scatter plot, with values of one set of weights as X, and of the other set of weights as Y\n",
        "????\n",
        "\n",
        "# add gray diagonal line\n",
        "plt.plot((0,.8),(0,.8),'gray');\n",
        "\n",
        "# vertical and horizontal lines at 0\n",
        "plt.plot(plt.xlim(),(0,0),'k');\n",
        "plt.plot((0,0),plt.ylim(),'k');\n",
        "\n",
        "# axis labels\n",
        "????\n",
        "????"
      ]
    },
    {
      "cell_type": "markdown",
      "metadata": {
        "id": "8f1LBx7xX-VD"
      },
      "source": [
        "**Perform a paired T-test between the two sets of weights.**"
      ]
    },
    {
      "cell_type": "code",
      "execution_count": null,
      "metadata": {
        "scrolled": true,
        "id": "-wDJW2e7X-VD"
      },
      "outputs": [],
      "source": [
        "# Performing the paired sample t-test\n",
        "???????"
      ]
    },
    {
      "cell_type": "markdown",
      "metadata": {
        "id": "iJriFYtEX-VD"
      },
      "source": [
        "**What do you conclude?**"
      ]
    },
    {
      "cell_type": "markdown",
      "metadata": {
        "id": "FoQ5NVPrX-VD"
      },
      "source": []
    },
    {
      "cell_type": "markdown",
      "metadata": {
        "id": "_ae0M6GJX-VD"
      },
      "source": [
        "## 4 Modelling the whole population with a single model\n",
        "\n",
        "### 4.1 Naive approach with categorical variables\n",
        "We have seen above the typical two-level analysis when looking for an effect in a population of subjects: fit one model on each subject separately, and then compare the distribution of weights across participants. We will now explore single-step approaches where we would capture the whole dataset with a single regression model. The challenge is to take into account the variability of effects between different subjects in a single model."
      ]
    },
    {
      "cell_type": "markdown",
      "metadata": {
        "id": "klu1tOD6M0E8"
      },
      "source": [
        "We will start with a naive approach that will illustrate how to use **categorical regressors**.\n",
        "So let's say we want to capture the variability of participant biases, i.e. their idiosyncratic tendency to over- or under-evaluate the stimulus mean in their reports. In the linear model, this is captured by the intercept $\\beta_0$.\n",
        "So what we would like is a different intercept for each subject. This is done by adding subject identity as a categorical regressor in the design of a general linear model, which means simply `C(subj)` to the formula. This will estimate one weight for each subject (except the first subject taken as the reference).\n",
        "Note that this is different from simply adding `subj`, which would introduce a continuous instead of categorical regressor (i.e. it would capture a linear trend for later subjects to over-estimate or under-estimate compared to earlier subjects - this is not what we want!).\n",
        "**Add subject as a categorical variable to the linear regression model with x1 and x2 as regressors, and fit to the whole dataset.**"
      ]
    },
    {
      "cell_type": "code",
      "execution_count": null,
      "metadata": {
        "ExecuteTime": {
          "end_time": "2022-02-04T22:46:54.943241Z",
          "start_time": "2022-02-04T22:46:54.939949Z"
        },
        "id": "U0KMUTDDX-VD"
      },
      "outputs": [],
      "source": [
        "# define the multiple linear regression model\n",
        "mod = ols(formula = ???, data=??)\n",
        "\n",
        "# fit to data\n",
        "res = mod.fit()\n",
        "\n",
        "# print the summary\n",
        "res.summary()"
      ]
    },
    {
      "cell_type": "markdown",
      "metadata": {
        "id": "viuKviHQX-VD"
      },
      "source": [
        "**Can you find the weights for the regressor of interest? Why are the other regressors not “of interest”? Why do we include them, then?**"
      ]
    },
    {
      "cell_type": "markdown",
      "metadata": {
        "id": "zFg93phRX-VD"
      },
      "source": []
    },
    {
      "cell_type": "markdown",
      "metadata": {
        "id": "aYqGVeZ3X-VD"
      },
      "source": [
        "**How do you interpret subject weights?**"
      ]
    },
    {
      "cell_type": "markdown",
      "metadata": {
        "id": "Mr1wgSbkX-VD"
      },
      "source": []
    },
    {
      "cell_type": "markdown",
      "metadata": {
        "id": "3F8BvIKGX-VD"
      },
      "source": [
        "### 4.2 Linear mixed models\n",
        "Now we will take is a more principled approach to it, *linear mixed models*. In this framework, we consider subjects as *random factors*, i.e. factors that are not of interest per se but that contribute to the variability. Instead of estimating one parameter per subject, these models directly estimate the variance of the weight across the population (assuming, again, Gaussian statistics). In this way, one parameter of variance will take care of the variability across participants. Linear models that include both fixed factors (the baseline effect in the whole population - what we are generally interested in) and random factors (a variance parameter accounting for a family of regressors) are called \"mixed models\". These are usually the way that we should model subjects in our designs. Mixed models in the case of linear regression are called linear mixed models."
      ]
    },
    {
      "cell_type": "markdown",
      "metadata": {
        "id": "tLJZ36R5X-VD"
      },
      "source": [
        "Let us implement a linear mixed model where the random factor for the intercept of each participant. This is very similar to the traditional linear regression model we just defined with subject-specific biases, except that now we directly estimate the distribution of biases across the population, rather than each subject bias."
      ]
    },
    {
      "cell_type": "code",
      "execution_count": null,
      "metadata": {
        "ExecuteTime": {
          "end_time": "2022-02-04T22:46:55.260351Z",
          "start_time": "2022-02-04T22:46:54.971773Z"
        },
        "id": "OawmGQU2M0FF"
      },
      "outputs": [],
      "source": [
        "# import package\n",
        "from statsmodels.formula.api import mixedlm\n",
        "\n",
        "# define model:\n",
        "# - the fixed effects are given in the formula as for ols\n",
        "# - the random factor is defined by 'groups' (variable 'subj')\n",
        "# - the random effects (which weights should vary per subject) is defined by re_formula (here, just the intercept so \"~1\")\n",
        "mod_sub = mixedlm(formula='estim ~ x1 + x2', data=df, groups=df['subj'], re_formula=\"~1\")\n",
        "\n",
        "# fit the model\n",
        "res_sub = mod_sub.fit(maxiter=500,method=\"nm\", reml=\"false\")\n",
        "\n",
        "# show summary\n",
        "res_sub.summary()"
      ]
    },
    {
      "cell_type": "markdown",
      "metadata": {
        "id": "RLreZyrIX-VE"
      },
      "source": [
        "This model gives us a similar result to what we got when we modeled subjects as fixed factors above. But actually subjects will differ not only because of their overall bias, but also because of a different weighting of stimulus information. So a better model will incorporate this variability, by adding the first and second stimuli as random factors."
      ]
    },
    {
      "cell_type": "code",
      "execution_count": null,
      "metadata": {
        "ExecuteTime": {
          "end_time": "2022-02-04T22:46:56.059655Z",
          "start_time": "2022-02-04T22:46:55.261765Z"
        },
        "id": "DHdTeJjrX-VE"
      },
      "outputs": [],
      "source": [
        "from statsmodels.formula.api import mixedlm\n",
        "\n",
        "# same as above, but now the random effects include x1 and x2\n",
        "mod_sub = mixedlm(formula='estim ~ x1 + x2', data=df, groups=df['subj'], re_formula=\"~x1+x2\")\n",
        "res_sub = mod_sub.fit(maxiter=500,method=\"nm\", reml=\"false\")\n",
        "\n",
        "res_sub.summary()"
      ]
    }
  ],
  "metadata": {
    "colab": {
      "name": "assignment_4-full.ipynb",
      "provenance": [],
      "include_colab_link": true
    },
    "hide_input": false,
    "kernelspec": {
      "display_name": "Python 3 (ipykernel)",
      "language": "python",
      "name": "python3"
    },
    "language_info": {
      "codemirror_mode": {
        "name": "ipython",
        "version": 3
      },
      "file_extension": ".py",
      "mimetype": "text/x-python",
      "name": "python",
      "nbconvert_exporter": "python",
      "pygments_lexer": "ipython3",
      "version": "3.10.8"
    },
    "toc": {
      "base_numbering": 1,
      "nav_menu": {},
      "number_sections": true,
      "sideBar": true,
      "skip_h1_title": false,
      "title_cell": "Table of Contents",
      "title_sidebar": "Contents",
      "toc_cell": false,
      "toc_position": {},
      "toc_section_display": true,
      "toc_window_display": false
    },
    "varInspector": {
      "cols": {
        "lenName": 16,
        "lenType": 16,
        "lenVar": 40
      },
      "kernels_config": {
        "python": {
          "delete_cmd_postfix": "",
          "delete_cmd_prefix": "del ",
          "library": "var_list.py",
          "varRefreshCmd": "print(var_dic_list())"
        },
        "r": {
          "delete_cmd_postfix": ") ",
          "delete_cmd_prefix": "rm(",
          "library": "var_list.r",
          "varRefreshCmd": "cat(var_dic_list()) "
        }
      },
      "types_to_exclude": [
        "module",
        "function",
        "builtin_function_or_method",
        "instance",
        "_Feature"
      ],
      "window_display": false
    },
    "widgets": {
      "application/vnd.jupyter.widget-state+json": {
        "3ee53836131b4e66821bdb6ec29f46d6": {
          "model_module": "@jupyter-widgets/controls",
          "model_name": "VBoxModel",
          "model_module_version": "1.5.0",
          "state": {
            "_dom_classes": [
              "widget-interact"
            ],
            "_model_module": "@jupyter-widgets/controls",
            "_model_module_version": "1.5.0",
            "_model_name": "VBoxModel",
            "_view_count": null,
            "_view_module": "@jupyter-widgets/controls",
            "_view_module_version": "1.5.0",
            "_view_name": "VBoxView",
            "box_style": "",
            "children": [
              "IPY_MODEL_adcf7624149f4bd5b19b60908ba36c71",
              "IPY_MODEL_4ca8689798664591bc56d8507accd0d8",
              "IPY_MODEL_38c51d18e2de4704a8003b957bcd56c2"
            ],
            "layout": "IPY_MODEL_b2008da1599e4f9a82ed68c1e0dfc815"
          }
        },
        "adcf7624149f4bd5b19b60908ba36c71": {
          "model_module": "@jupyter-widgets/controls",
          "model_name": "FloatSliderModel",
          "model_module_version": "1.5.0",
          "state": {
            "_dom_classes": [],
            "_model_module": "@jupyter-widgets/controls",
            "_model_module_version": "1.5.0",
            "_model_name": "FloatSliderModel",
            "_view_count": null,
            "_view_module": "@jupyter-widgets/controls",
            "_view_module_version": "1.5.0",
            "_view_name": "FloatSliderView",
            "continuous_update": true,
            "description": "beta0",
            "description_tooltip": null,
            "disabled": false,
            "layout": "IPY_MODEL_a5e7a73591304e26a5d18178d64948df",
            "max": 50,
            "min": 0,
            "orientation": "horizontal",
            "readout": true,
            "readout_format": ".2f",
            "step": 0.1,
            "style": "IPY_MODEL_778ca3c0b9e545848eeeada36b5dfdb8",
            "value": 29.9
          }
        },
        "4ca8689798664591bc56d8507accd0d8": {
          "model_module": "@jupyter-widgets/controls",
          "model_name": "FloatSliderModel",
          "model_module_version": "1.5.0",
          "state": {
            "_dom_classes": [],
            "_model_module": "@jupyter-widgets/controls",
            "_model_module_version": "1.5.0",
            "_model_name": "FloatSliderModel",
            "_view_count": null,
            "_view_module": "@jupyter-widgets/controls",
            "_view_module_version": "1.5.0",
            "_view_name": "FloatSliderView",
            "continuous_update": true,
            "description": "beta1",
            "description_tooltip": null,
            "disabled": false,
            "layout": "IPY_MODEL_9528556b145e47c4a10feb58d3c8e73d",
            "max": 1,
            "min": 0,
            "orientation": "horizontal",
            "readout": true,
            "readout_format": ".2f",
            "step": 0.1,
            "style": "IPY_MODEL_3397851281f649a297870df4170adb8c",
            "value": 0.5
          }
        },
        "38c51d18e2de4704a8003b957bcd56c2": {
          "model_module": "@jupyter-widgets/output",
          "model_name": "OutputModel",
          "model_module_version": "1.0.0",
          "state": {
            "_dom_classes": [],
            "_model_module": "@jupyter-widgets/output",
            "_model_module_version": "1.0.0",
            "_model_name": "OutputModel",
            "_view_count": null,
            "_view_module": "@jupyter-widgets/output",
            "_view_module_version": "1.0.0",
            "_view_name": "OutputView",
            "layout": "IPY_MODEL_6d8521fc0c0f486e9d3ed9219dce54a9",
            "msg_id": "",
            "outputs": [
              {
                "output_type": "display_data",
                "data": {
                  "text/plain": "<Figure size 640x480 with 1 Axes>",
                  "image/png": "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\n"
                },
                "metadata": {}
              }
            ]
          }
        },
        "b2008da1599e4f9a82ed68c1e0dfc815": {
          "model_module": "@jupyter-widgets/base",
          "model_name": "LayoutModel",
          "model_module_version": "1.2.0",
          "state": {
            "_model_module": "@jupyter-widgets/base",
            "_model_module_version": "1.2.0",
            "_model_name": "LayoutModel",
            "_view_count": null,
            "_view_module": "@jupyter-widgets/base",
            "_view_module_version": "1.2.0",
            "_view_name": "LayoutView",
            "align_content": null,
            "align_items": null,
            "align_self": null,
            "border": null,
            "bottom": null,
            "display": null,
            "flex": null,
            "flex_flow": null,
            "grid_area": null,
            "grid_auto_columns": null,
            "grid_auto_flow": null,
            "grid_auto_rows": null,
            "grid_column": null,
            "grid_gap": null,
            "grid_row": null,
            "grid_template_areas": null,
            "grid_template_columns": null,
            "grid_template_rows": null,
            "height": null,
            "justify_content": null,
            "justify_items": null,
            "left": null,
            "margin": null,
            "max_height": null,
            "max_width": null,
            "min_height": null,
            "min_width": null,
            "object_fit": null,
            "object_position": null,
            "order": null,
            "overflow": null,
            "overflow_x": null,
            "overflow_y": null,
            "padding": null,
            "right": null,
            "top": null,
            "visibility": null,
            "width": null
          }
        },
        "a5e7a73591304e26a5d18178d64948df": {
          "model_module": "@jupyter-widgets/base",
          "model_name": "LayoutModel",
          "model_module_version": "1.2.0",
          "state": {
            "_model_module": "@jupyter-widgets/base",
            "_model_module_version": "1.2.0",
            "_model_name": "LayoutModel",
            "_view_count": null,
            "_view_module": "@jupyter-widgets/base",
            "_view_module_version": "1.2.0",
            "_view_name": "LayoutView",
            "align_content": null,
            "align_items": null,
            "align_self": null,
            "border": null,
            "bottom": null,
            "display": null,
            "flex": null,
            "flex_flow": null,
            "grid_area": null,
            "grid_auto_columns": null,
            "grid_auto_flow": null,
            "grid_auto_rows": null,
            "grid_column": null,
            "grid_gap": null,
            "grid_row": null,
            "grid_template_areas": null,
            "grid_template_columns": null,
            "grid_template_rows": null,
            "height": null,
            "justify_content": null,
            "justify_items": null,
            "left": null,
            "margin": null,
            "max_height": null,
            "max_width": null,
            "min_height": null,
            "min_width": null,
            "object_fit": null,
            "object_position": null,
            "order": null,
            "overflow": null,
            "overflow_x": null,
            "overflow_y": null,
            "padding": null,
            "right": null,
            "top": null,
            "visibility": null,
            "width": null
          }
        },
        "778ca3c0b9e545848eeeada36b5dfdb8": {
          "model_module": "@jupyter-widgets/controls",
          "model_name": "SliderStyleModel",
          "model_module_version": "1.5.0",
          "state": {
            "_model_module": "@jupyter-widgets/controls",
            "_model_module_version": "1.5.0",
            "_model_name": "SliderStyleModel",
            "_view_count": null,
            "_view_module": "@jupyter-widgets/base",
            "_view_module_version": "1.2.0",
            "_view_name": "StyleView",
            "description_width": "",
            "handle_color": null
          }
        },
        "9528556b145e47c4a10feb58d3c8e73d": {
          "model_module": "@jupyter-widgets/base",
          "model_name": "LayoutModel",
          "model_module_version": "1.2.0",
          "state": {
            "_model_module": "@jupyter-widgets/base",
            "_model_module_version": "1.2.0",
            "_model_name": "LayoutModel",
            "_view_count": null,
            "_view_module": "@jupyter-widgets/base",
            "_view_module_version": "1.2.0",
            "_view_name": "LayoutView",
            "align_content": null,
            "align_items": null,
            "align_self": null,
            "border": null,
            "bottom": null,
            "display": null,
            "flex": null,
            "flex_flow": null,
            "grid_area": null,
            "grid_auto_columns": null,
            "grid_auto_flow": null,
            "grid_auto_rows": null,
            "grid_column": null,
            "grid_gap": null,
            "grid_row": null,
            "grid_template_areas": null,
            "grid_template_columns": null,
            "grid_template_rows": null,
            "height": null,
            "justify_content": null,
            "justify_items": null,
            "left": null,
            "margin": null,
            "max_height": null,
            "max_width": null,
            "min_height": null,
            "min_width": null,
            "object_fit": null,
            "object_position": null,
            "order": null,
            "overflow": null,
            "overflow_x": null,
            "overflow_y": null,
            "padding": null,
            "right": null,
            "top": null,
            "visibility": null,
            "width": null
          }
        },
        "3397851281f649a297870df4170adb8c": {
          "model_module": "@jupyter-widgets/controls",
          "model_name": "SliderStyleModel",
          "model_module_version": "1.5.0",
          "state": {
            "_model_module": "@jupyter-widgets/controls",
            "_model_module_version": "1.5.0",
            "_model_name": "SliderStyleModel",
            "_view_count": null,
            "_view_module": "@jupyter-widgets/base",
            "_view_module_version": "1.2.0",
            "_view_name": "StyleView",
            "description_width": "",
            "handle_color": null
          }
        },
        "6d8521fc0c0f486e9d3ed9219dce54a9": {
          "model_module": "@jupyter-widgets/base",
          "model_name": "LayoutModel",
          "model_module_version": "1.2.0",
          "state": {
            "_model_module": "@jupyter-widgets/base",
            "_model_module_version": "1.2.0",
            "_model_name": "LayoutModel",
            "_view_count": null,
            "_view_module": "@jupyter-widgets/base",
            "_view_module_version": "1.2.0",
            "_view_name": "LayoutView",
            "align_content": null,
            "align_items": null,
            "align_self": null,
            "border": null,
            "bottom": null,
            "display": null,
            "flex": null,
            "flex_flow": null,
            "grid_area": null,
            "grid_auto_columns": null,
            "grid_auto_flow": null,
            "grid_auto_rows": null,
            "grid_column": null,
            "grid_gap": null,
            "grid_row": null,
            "grid_template_areas": null,
            "grid_template_columns": null,
            "grid_template_rows": null,
            "height": null,
            "justify_content": null,
            "justify_items": null,
            "left": null,
            "margin": null,
            "max_height": null,
            "max_width": null,
            "min_height": null,
            "min_width": null,
            "object_fit": null,
            "object_position": null,
            "order": null,
            "overflow": null,
            "overflow_x": null,
            "overflow_y": null,
            "padding": null,
            "right": null,
            "top": null,
            "visibility": null,
            "width": null
          }
        },
        "58f89a8d98e3423ea1e99f6cf0a7bf34": {
          "model_module": "@jupyter-widgets/controls",
          "model_name": "VBoxModel",
          "model_module_version": "1.5.0",
          "state": {
            "_dom_classes": [
              "widget-interact"
            ],
            "_model_module": "@jupyter-widgets/controls",
            "_model_module_version": "1.5.0",
            "_model_name": "VBoxModel",
            "_view_count": null,
            "_view_module": "@jupyter-widgets/controls",
            "_view_module_version": "1.5.0",
            "_view_name": "VBoxView",
            "box_style": "",
            "children": [
              "IPY_MODEL_1e58a2e42e45425b8f220f0dcc0f8102",
              "IPY_MODEL_607e204c0e9f4f5ba77533217464a42b",
              "IPY_MODEL_dc6d9438b7a643c1a85d60425a808b0b",
              "IPY_MODEL_356e2985784044e49eecd82ccf16b000"
            ],
            "layout": "IPY_MODEL_7cf01a61a1404e9f975fe401b3727bdf"
          }
        },
        "1e58a2e42e45425b8f220f0dcc0f8102": {
          "model_module": "@jupyter-widgets/controls",
          "model_name": "FloatSliderModel",
          "model_module_version": "1.5.0",
          "state": {
            "_dom_classes": [],
            "_model_module": "@jupyter-widgets/controls",
            "_model_module_version": "1.5.0",
            "_model_name": "FloatSliderModel",
            "_view_count": null,
            "_view_module": "@jupyter-widgets/controls",
            "_view_module_version": "1.5.0",
            "_view_name": "FloatSliderView",
            "continuous_update": true,
            "description": "beta0",
            "description_tooltip": null,
            "disabled": false,
            "layout": "IPY_MODEL_733a63d0fa5f419ca94ac71945479a2b",
            "max": 50,
            "min": 0,
            "orientation": "horizontal",
            "readout": true,
            "readout_format": ".2f",
            "step": 0.1,
            "style": "IPY_MODEL_90566fc0a49b4d1bb189dd70f11c623b",
            "value": 37.7
          }
        },
        "607e204c0e9f4f5ba77533217464a42b": {
          "model_module": "@jupyter-widgets/controls",
          "model_name": "FloatSliderModel",
          "model_module_version": "1.5.0",
          "state": {
            "_dom_classes": [],
            "_model_module": "@jupyter-widgets/controls",
            "_model_module_version": "1.5.0",
            "_model_name": "FloatSliderModel",
            "_view_count": null,
            "_view_module": "@jupyter-widgets/controls",
            "_view_module_version": "1.5.0",
            "_view_name": "FloatSliderView",
            "continuous_update": true,
            "description": "beta1",
            "description_tooltip": null,
            "disabled": false,
            "layout": "IPY_MODEL_80a1525c7ad7447791543d3cc00dcc52",
            "max": 1,
            "min": 0,
            "orientation": "horizontal",
            "readout": true,
            "readout_format": ".2f",
            "step": 0.1,
            "style": "IPY_MODEL_2d42dc872450466c8b4333d91c46129d",
            "value": 0.3
          }
        },
        "dc6d9438b7a643c1a85d60425a808b0b": {
          "model_module": "@jupyter-widgets/controls",
          "model_name": "FloatSliderModel",
          "model_module_version": "1.5.0",
          "state": {
            "_dom_classes": [],
            "_model_module": "@jupyter-widgets/controls",
            "_model_module_version": "1.5.0",
            "_model_name": "FloatSliderModel",
            "_view_count": null,
            "_view_module": "@jupyter-widgets/controls",
            "_view_module_version": "1.5.0",
            "_view_name": "FloatSliderView",
            "continuous_update": true,
            "description": "sigma",
            "description_tooltip": null,
            "disabled": false,
            "layout": "IPY_MODEL_8f47f74fb99843e1a50ad7b7de42816d",
            "max": 20,
            "min": 0,
            "orientation": "horizontal",
            "readout": true,
            "readout_format": ".2f",
            "step": 0.1,
            "style": "IPY_MODEL_5858c1e9974e4c1d906e9f7a899172af",
            "value": 2.9
          }
        },
        "356e2985784044e49eecd82ccf16b000": {
          "model_module": "@jupyter-widgets/output",
          "model_name": "OutputModel",
          "model_module_version": "1.0.0",
          "state": {
            "_dom_classes": [],
            "_model_module": "@jupyter-widgets/output",
            "_model_module_version": "1.0.0",
            "_model_name": "OutputModel",
            "_view_count": null,
            "_view_module": "@jupyter-widgets/output",
            "_view_module_version": "1.0.0",
            "_view_name": "OutputView",
            "layout": "IPY_MODEL_57489f5168994eff9e5e720307c66e7c",
            "msg_id": "",
            "outputs": [
              {
                "output_type": "display_data",
                "data": {
                  "text/plain": "<Figure size 640x480 with 1 Axes>",
                  "image/png": "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\n"
                },
                "metadata": {}
              }
            ]
          }
        },
        "7cf01a61a1404e9f975fe401b3727bdf": {
          "model_module": "@jupyter-widgets/base",
          "model_name": "LayoutModel",
          "model_module_version": "1.2.0",
          "state": {
            "_model_module": "@jupyter-widgets/base",
            "_model_module_version": "1.2.0",
            "_model_name": "LayoutModel",
            "_view_count": null,
            "_view_module": "@jupyter-widgets/base",
            "_view_module_version": "1.2.0",
            "_view_name": "LayoutView",
            "align_content": null,
            "align_items": null,
            "align_self": null,
            "border": null,
            "bottom": null,
            "display": null,
            "flex": null,
            "flex_flow": null,
            "grid_area": null,
            "grid_auto_columns": null,
            "grid_auto_flow": null,
            "grid_auto_rows": null,
            "grid_column": null,
            "grid_gap": null,
            "grid_row": null,
            "grid_template_areas": null,
            "grid_template_columns": null,
            "grid_template_rows": null,
            "height": null,
            "justify_content": null,
            "justify_items": null,
            "left": null,
            "margin": null,
            "max_height": null,
            "max_width": null,
            "min_height": null,
            "min_width": null,
            "object_fit": null,
            "object_position": null,
            "order": null,
            "overflow": null,
            "overflow_x": null,
            "overflow_y": null,
            "padding": null,
            "right": null,
            "top": null,
            "visibility": null,
            "width": null
          }
        },
        "733a63d0fa5f419ca94ac71945479a2b": {
          "model_module": "@jupyter-widgets/base",
          "model_name": "LayoutModel",
          "model_module_version": "1.2.0",
          "state": {
            "_model_module": "@jupyter-widgets/base",
            "_model_module_version": "1.2.0",
            "_model_name": "LayoutModel",
            "_view_count": null,
            "_view_module": "@jupyter-widgets/base",
            "_view_module_version": "1.2.0",
            "_view_name": "LayoutView",
            "align_content": null,
            "align_items": null,
            "align_self": null,
            "border": null,
            "bottom": null,
            "display": null,
            "flex": null,
            "flex_flow": null,
            "grid_area": null,
            "grid_auto_columns": null,
            "grid_auto_flow": null,
            "grid_auto_rows": null,
            "grid_column": null,
            "grid_gap": null,
            "grid_row": null,
            "grid_template_areas": null,
            "grid_template_columns": null,
            "grid_template_rows": null,
            "height": null,
            "justify_content": null,
            "justify_items": null,
            "left": null,
            "margin": null,
            "max_height": null,
            "max_width": null,
            "min_height": null,
            "min_width": null,
            "object_fit": null,
            "object_position": null,
            "order": null,
            "overflow": null,
            "overflow_x": null,
            "overflow_y": null,
            "padding": null,
            "right": null,
            "top": null,
            "visibility": null,
            "width": null
          }
        },
        "90566fc0a49b4d1bb189dd70f11c623b": {
          "model_module": "@jupyter-widgets/controls",
          "model_name": "SliderStyleModel",
          "model_module_version": "1.5.0",
          "state": {
            "_model_module": "@jupyter-widgets/controls",
            "_model_module_version": "1.5.0",
            "_model_name": "SliderStyleModel",
            "_view_count": null,
            "_view_module": "@jupyter-widgets/base",
            "_view_module_version": "1.2.0",
            "_view_name": "StyleView",
            "description_width": "",
            "handle_color": null
          }
        },
        "80a1525c7ad7447791543d3cc00dcc52": {
          "model_module": "@jupyter-widgets/base",
          "model_name": "LayoutModel",
          "model_module_version": "1.2.0",
          "state": {
            "_model_module": "@jupyter-widgets/base",
            "_model_module_version": "1.2.0",
            "_model_name": "LayoutModel",
            "_view_count": null,
            "_view_module": "@jupyter-widgets/base",
            "_view_module_version": "1.2.0",
            "_view_name": "LayoutView",
            "align_content": null,
            "align_items": null,
            "align_self": null,
            "border": null,
            "bottom": null,
            "display": null,
            "flex": null,
            "flex_flow": null,
            "grid_area": null,
            "grid_auto_columns": null,
            "grid_auto_flow": null,
            "grid_auto_rows": null,
            "grid_column": null,
            "grid_gap": null,
            "grid_row": null,
            "grid_template_areas": null,
            "grid_template_columns": null,
            "grid_template_rows": null,
            "height": null,
            "justify_content": null,
            "justify_items": null,
            "left": null,
            "margin": null,
            "max_height": null,
            "max_width": null,
            "min_height": null,
            "min_width": null,
            "object_fit": null,
            "object_position": null,
            "order": null,
            "overflow": null,
            "overflow_x": null,
            "overflow_y": null,
            "padding": null,
            "right": null,
            "top": null,
            "visibility": null,
            "width": null
          }
        },
        "2d42dc872450466c8b4333d91c46129d": {
          "model_module": "@jupyter-widgets/controls",
          "model_name": "SliderStyleModel",
          "model_module_version": "1.5.0",
          "state": {
            "_model_module": "@jupyter-widgets/controls",
            "_model_module_version": "1.5.0",
            "_model_name": "SliderStyleModel",
            "_view_count": null,
            "_view_module": "@jupyter-widgets/base",
            "_view_module_version": "1.2.0",
            "_view_name": "StyleView",
            "description_width": "",
            "handle_color": null
          }
        },
        "8f47f74fb99843e1a50ad7b7de42816d": {
          "model_module": "@jupyter-widgets/base",
          "model_name": "LayoutModel",
          "model_module_version": "1.2.0",
          "state": {
            "_model_module": "@jupyter-widgets/base",
            "_model_module_version": "1.2.0",
            "_model_name": "LayoutModel",
            "_view_count": null,
            "_view_module": "@jupyter-widgets/base",
            "_view_module_version": "1.2.0",
            "_view_name": "LayoutView",
            "align_content": null,
            "align_items": null,
            "align_self": null,
            "border": null,
            "bottom": null,
            "display": null,
            "flex": null,
            "flex_flow": null,
            "grid_area": null,
            "grid_auto_columns": null,
            "grid_auto_flow": null,
            "grid_auto_rows": null,
            "grid_column": null,
            "grid_gap": null,
            "grid_row": null,
            "grid_template_areas": null,
            "grid_template_columns": null,
            "grid_template_rows": null,
            "height": null,
            "justify_content": null,
            "justify_items": null,
            "left": null,
            "margin": null,
            "max_height": null,
            "max_width": null,
            "min_height": null,
            "min_width": null,
            "object_fit": null,
            "object_position": null,
            "order": null,
            "overflow": null,
            "overflow_x": null,
            "overflow_y": null,
            "padding": null,
            "right": null,
            "top": null,
            "visibility": null,
            "width": null
          }
        },
        "5858c1e9974e4c1d906e9f7a899172af": {
          "model_module": "@jupyter-widgets/controls",
          "model_name": "SliderStyleModel",
          "model_module_version": "1.5.0",
          "state": {
            "_model_module": "@jupyter-widgets/controls",
            "_model_module_version": "1.5.0",
            "_model_name": "SliderStyleModel",
            "_view_count": null,
            "_view_module": "@jupyter-widgets/base",
            "_view_module_version": "1.2.0",
            "_view_name": "StyleView",
            "description_width": "",
            "handle_color": null
          }
        },
        "57489f5168994eff9e5e720307c66e7c": {
          "model_module": "@jupyter-widgets/base",
          "model_name": "LayoutModel",
          "model_module_version": "1.2.0",
          "state": {
            "_model_module": "@jupyter-widgets/base",
            "_model_module_version": "1.2.0",
            "_model_name": "LayoutModel",
            "_view_count": null,
            "_view_module": "@jupyter-widgets/base",
            "_view_module_version": "1.2.0",
            "_view_name": "LayoutView",
            "align_content": null,
            "align_items": null,
            "align_self": null,
            "border": null,
            "bottom": null,
            "display": null,
            "flex": null,
            "flex_flow": null,
            "grid_area": null,
            "grid_auto_columns": null,
            "grid_auto_flow": null,
            "grid_auto_rows": null,
            "grid_column": null,
            "grid_gap": null,
            "grid_row": null,
            "grid_template_areas": null,
            "grid_template_columns": null,
            "grid_template_rows": null,
            "height": null,
            "justify_content": null,
            "justify_items": null,
            "left": null,
            "margin": null,
            "max_height": null,
            "max_width": null,
            "min_height": null,
            "min_width": null,
            "object_fit": null,
            "object_position": null,
            "order": null,
            "overflow": null,
            "overflow_x": null,
            "overflow_y": null,
            "padding": null,
            "right": null,
            "top": null,
            "visibility": null,
            "width": null
          }
        }
      }
    }
  },
  "nbformat": 4,
  "nbformat_minor": 0
}