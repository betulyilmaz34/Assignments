{
  "cells": [
    {
      "cell_type": "markdown",
      "metadata": {
        "id": "pxFPNerzM0Bh"
      },
      "source": [
        "### Assignment 2: Linear regression"
      ]
    },
    {
      "cell_type": "markdown",
      "metadata": {
        "id": "_UlcrXNNX-U5"
      },
      "source": [
        "**In this assignment, we will see:**\n",
        "- how to assess the impact of an experimental factor on our experimental measurement using **linear regression**\n",
        "- how to check the validity of linear regression assumptions in a dataset\n",
        "- how to **design regressors** to answer a specific scientific question\n",
        "- how to take into account the hetereogeneity of our sample population using **linear mixed models**"
      ]
    },
    {
      "cell_type": "markdown",
      "metadata": {
        "id": "QEOIZimCX-U6"
      },
      "source": [
        "<div class=\"alert alert-block alert-warning\">\n",
        "<b>Preparing for this assignment:</b>\n",
        "\n",
        "The following resources will help you to get ready to complete this assignment.\n",
        "<ul>\n",
        "    <li>Watch <a href=\"https://www.youtube.com/watch?v=KsVBBJRb9TE\" target=\"_blank\">this video</a> and then follow with <a href=\"https://www.youtube.com/watch?v=xIDjj6ZyFuw\" target=\"_blank\">this video</a> to learn the concepts about simple linear regression</li>\n",
        "    <li>For a complementary look on linear regression that put its into the more general framework of model fitting, watch <a href=\"https://www.youtube.com/watch?v=9JfXKmVB6qc\" target=\"_blank\">this video</a> (until 15:10) and then follow with <a href=\"https://www.youtube.com/watch?v=HumajfjJ37E\" target=\"_blank\">this video</a> (linear regression by minimizing squared errors) and <a href=\"https://www.youtube.com/watch?v=8mpNmzLKNfU\" target=\"_blank\">this one</a> (linear regression by maximizing likelihood). These are parts of the material for Model Fitting day from Neuromatch Academy which are accessible <a href=\"https://compneuro.neuromatch.io/tutorials/W1D2_ModelFitting/chapter_title.html\" target=\"_blank\">here</a>. </li>\n",
        "    <li> (Very optional) See <a href=\"https://www.cns.nyu.edu/~eero/NOTES/leastSquares.pdf\" target=\"_blank\">these notes</a> from Eero Simoncelli (NYU) if you want to delve more into the mathematics related to linear regression</li>\n",
        "</ul>\n",
        "</div>"
      ]
    },
    {
      "cell_type": "markdown",
      "metadata": {
        "id": "QyITPX2zX-U6"
      },
      "source": [
        "## Load the numerical judgment dataset"
      ]
    },
    {
      "cell_type": "markdown",
      "metadata": {
        "id": "zbAAQWRnX-U6"
      },
      "source": [
        "We will now use the dataset from the other experiment from the article that we used in the previous two tutorials (Talluri et al.,*Current\n",
        "\n",
        "Biology*): the **numerical judgment dataset**. The paradigm is presented in Figure 3 of the [article](https://www.cell.com/action/showPdf?pii=S0960-9822%2818%2930982-5). The structure of each trial is conceptually identical to the orientation judgment task:\n",
        "- first, a stimulus (here a sequence of number)\n",
        "- a discrimination task on this first stimulus (is the mean larger than 50?)\n",
        "- then a second stimulus (another sequence of numbers)\n",
        "- finally, a numerical judgment task (report the mean over the *two* sequences).\n",
        "\n",
        "We will address with linear regression the scientific question under focus in the original article: **is the judgment task corrupted by a confirmatory bias, i.e. a tendency to align their judgment with the intermittent choice?** More specifically, we will ask **whether subjects downweight evidence from the second stimulus if it is at odds with their intermediate choice** (i.e. if their intermediate choice was \">50\" and numbers in the second stimuli are small). The analyses we run will be a simplified version of the analyses in the original article.\n",
        "\n",
        "Load the data as a Pandas dataframe (as in Assignment 1). `x1` now represents the average value of numbers in the first sequence, and correspondingly for `x2`. Note also that this dataframe has one extra column, `binchoice`, which codes for the response of the subject on the classification task after stimulus 1 (-1: \"<50\"; 1: \">50\")."
      ]
    },
    {
      "cell_type": "code",
      "execution_count": 1,
      "metadata": {
        "scrolled": true,
        "colab": {
          "base_uri": "https://localhost:8080/",
          "height": 0
        },
        "id": "VagyQG3AX-U6",
        "outputId": "0e2f90fb-e0c4-416f-a908-d5a38c871d47"
      },
      "outputs": [
        {
          "output_type": "execute_result",
          "data": {
            "text/plain": [
              "       x1  binchoice      x2     xavg  estim  subj\n",
              "0  45.375         -1  41.625  43.5000     44     1\n",
              "1  47.500          1  38.625  43.0625     41     1\n",
              "2  47.750          1  57.500  52.6250     54     1\n",
              "3  46.625         -1  38.375  42.5000     40     1\n",
              "4  47.250         -1  41.375  44.3125     45     1"
            ],
            "text/html": [
              "\n",
              "  <div id=\"df-754ce276-5b37-4457-8d06-734929163d61\" class=\"colab-df-container\">\n",
              "    <div>\n",
              "<style scoped>\n",
              "    .dataframe tbody tr th:only-of-type {\n",
              "        vertical-align: middle;\n",
              "    }\n",
              "\n",
              "    .dataframe tbody tr th {\n",
              "        vertical-align: top;\n",
              "    }\n",
              "\n",
              "    .dataframe thead th {\n",
              "        text-align: right;\n",
              "    }\n",
              "</style>\n",
              "<table border=\"1\" class=\"dataframe\">\n",
              "  <thead>\n",
              "    <tr style=\"text-align: right;\">\n",
              "      <th></th>\n",
              "      <th>x1</th>\n",
              "      <th>binchoice</th>\n",
              "      <th>x2</th>\n",
              "      <th>xavg</th>\n",
              "      <th>estim</th>\n",
              "      <th>subj</th>\n",
              "    </tr>\n",
              "  </thead>\n",
              "  <tbody>\n",
              "    <tr>\n",
              "      <th>0</th>\n",
              "      <td>45.375</td>\n",
              "      <td>-1</td>\n",
              "      <td>41.625</td>\n",
              "      <td>43.5000</td>\n",
              "      <td>44</td>\n",
              "      <td>1</td>\n",
              "    </tr>\n",
              "    <tr>\n",
              "      <th>1</th>\n",
              "      <td>47.500</td>\n",
              "      <td>1</td>\n",
              "      <td>38.625</td>\n",
              "      <td>43.0625</td>\n",
              "      <td>41</td>\n",
              "      <td>1</td>\n",
              "    </tr>\n",
              "    <tr>\n",
              "      <th>2</th>\n",
              "      <td>47.750</td>\n",
              "      <td>1</td>\n",
              "      <td>57.500</td>\n",
              "      <td>52.6250</td>\n",
              "      <td>54</td>\n",
              "      <td>1</td>\n",
              "    </tr>\n",
              "    <tr>\n",
              "      <th>3</th>\n",
              "      <td>46.625</td>\n",
              "      <td>-1</td>\n",
              "      <td>38.375</td>\n",
              "      <td>42.5000</td>\n",
              "      <td>40</td>\n",
              "      <td>1</td>\n",
              "    </tr>\n",
              "    <tr>\n",
              "      <th>4</th>\n",
              "      <td>47.250</td>\n",
              "      <td>-1</td>\n",
              "      <td>41.375</td>\n",
              "      <td>44.3125</td>\n",
              "      <td>45</td>\n",
              "      <td>1</td>\n",
              "    </tr>\n",
              "  </tbody>\n",
              "</table>\n",
              "</div>\n",
              "    <div class=\"colab-df-buttons\">\n",
              "\n",
              "  <div class=\"colab-df-container\">\n",
              "    <button class=\"colab-df-convert\" onclick=\"convertToInteractive('df-754ce276-5b37-4457-8d06-734929163d61')\"\n",
              "            title=\"Convert this dataframe to an interactive table.\"\n",
              "            style=\"display:none;\">\n",
              "\n",
              "  <svg xmlns=\"http://www.w3.org/2000/svg\" height=\"24px\" viewBox=\"0 -960 960 960\">\n",
              "    <path d=\"M120-120v-720h720v720H120Zm60-500h600v-160H180v160Zm220 220h160v-160H400v160Zm0 220h160v-160H400v160ZM180-400h160v-160H180v160Zm440 0h160v-160H620v160ZM180-180h160v-160H180v160Zm440 0h160v-160H620v160Z\"/>\n",
              "  </svg>\n",
              "    </button>\n",
              "\n",
              "  <style>\n",
              "    .colab-df-container {\n",
              "      display:flex;\n",
              "      gap: 12px;\n",
              "    }\n",
              "\n",
              "    .colab-df-convert {\n",
              "      background-color: #E8F0FE;\n",
              "      border: none;\n",
              "      border-radius: 50%;\n",
              "      cursor: pointer;\n",
              "      display: none;\n",
              "      fill: #1967D2;\n",
              "      height: 32px;\n",
              "      padding: 0 0 0 0;\n",
              "      width: 32px;\n",
              "    }\n",
              "\n",
              "    .colab-df-convert:hover {\n",
              "      background-color: #E2EBFA;\n",
              "      box-shadow: 0px 1px 2px rgba(60, 64, 67, 0.3), 0px 1px 3px 1px rgba(60, 64, 67, 0.15);\n",
              "      fill: #174EA6;\n",
              "    }\n",
              "\n",
              "    .colab-df-buttons div {\n",
              "      margin-bottom: 4px;\n",
              "    }\n",
              "\n",
              "    [theme=dark] .colab-df-convert {\n",
              "      background-color: #3B4455;\n",
              "      fill: #D2E3FC;\n",
              "    }\n",
              "\n",
              "    [theme=dark] .colab-df-convert:hover {\n",
              "      background-color: #434B5C;\n",
              "      box-shadow: 0px 1px 3px 1px rgba(0, 0, 0, 0.15);\n",
              "      filter: drop-shadow(0px 1px 2px rgba(0, 0, 0, 0.3));\n",
              "      fill: #FFFFFF;\n",
              "    }\n",
              "  </style>\n",
              "\n",
              "    <script>\n",
              "      const buttonEl =\n",
              "        document.querySelector('#df-754ce276-5b37-4457-8d06-734929163d61 button.colab-df-convert');\n",
              "      buttonEl.style.display =\n",
              "        google.colab.kernel.accessAllowed ? 'block' : 'none';\n",
              "\n",
              "      async function convertToInteractive(key) {\n",
              "        const element = document.querySelector('#df-754ce276-5b37-4457-8d06-734929163d61');\n",
              "        const dataTable =\n",
              "          await google.colab.kernel.invokeFunction('convertToInteractive',\n",
              "                                                    [key], {});\n",
              "        if (!dataTable) return;\n",
              "\n",
              "        const docLinkHtml = 'Like what you see? Visit the ' +\n",
              "          '<a target=\"_blank\" href=https://colab.research.google.com/notebooks/data_table.ipynb>data table notebook</a>'\n",
              "          + ' to learn more about interactive tables.';\n",
              "        element.innerHTML = '';\n",
              "        dataTable['output_type'] = 'display_data';\n",
              "        await google.colab.output.renderOutput(dataTable, element);\n",
              "        const docLink = document.createElement('div');\n",
              "        docLink.innerHTML = docLinkHtml;\n",
              "        element.appendChild(docLink);\n",
              "      }\n",
              "    </script>\n",
              "  </div>\n",
              "\n",
              "\n",
              "    <div id=\"df-053306da-ccba-4686-b7a2-0ca3917989c9\">\n",
              "      <button class=\"colab-df-quickchart\" onclick=\"quickchart('df-053306da-ccba-4686-b7a2-0ca3917989c9')\"\n",
              "                title=\"Suggest charts\"\n",
              "                style=\"display:none;\">\n",
              "\n",
              "<svg xmlns=\"http://www.w3.org/2000/svg\" height=\"24px\"viewBox=\"0 0 24 24\"\n",
              "     width=\"24px\">\n",
              "    <g>\n",
              "        <path d=\"M19 3H5c-1.1 0-2 .9-2 2v14c0 1.1.9 2 2 2h14c1.1 0 2-.9 2-2V5c0-1.1-.9-2-2-2zM9 17H7v-7h2v7zm4 0h-2V7h2v10zm4 0h-2v-4h2v4z\"/>\n",
              "    </g>\n",
              "</svg>\n",
              "      </button>\n",
              "\n",
              "<style>\n",
              "  .colab-df-quickchart {\n",
              "      --bg-color: #E8F0FE;\n",
              "      --fill-color: #1967D2;\n",
              "      --hover-bg-color: #E2EBFA;\n",
              "      --hover-fill-color: #174EA6;\n",
              "      --disabled-fill-color: #AAA;\n",
              "      --disabled-bg-color: #DDD;\n",
              "  }\n",
              "\n",
              "  [theme=dark] .colab-df-quickchart {\n",
              "      --bg-color: #3B4455;\n",
              "      --fill-color: #D2E3FC;\n",
              "      --hover-bg-color: #434B5C;\n",
              "      --hover-fill-color: #FFFFFF;\n",
              "      --disabled-bg-color: #3B4455;\n",
              "      --disabled-fill-color: #666;\n",
              "  }\n",
              "\n",
              "  .colab-df-quickchart {\n",
              "    background-color: var(--bg-color);\n",
              "    border: none;\n",
              "    border-radius: 50%;\n",
              "    cursor: pointer;\n",
              "    display: none;\n",
              "    fill: var(--fill-color);\n",
              "    height: 32px;\n",
              "    padding: 0;\n",
              "    width: 32px;\n",
              "  }\n",
              "\n",
              "  .colab-df-quickchart:hover {\n",
              "    background-color: var(--hover-bg-color);\n",
              "    box-shadow: 0 1px 2px rgba(60, 64, 67, 0.3), 0 1px 3px 1px rgba(60, 64, 67, 0.15);\n",
              "    fill: var(--button-hover-fill-color);\n",
              "  }\n",
              "\n",
              "  .colab-df-quickchart-complete:disabled,\n",
              "  .colab-df-quickchart-complete:disabled:hover {\n",
              "    background-color: var(--disabled-bg-color);\n",
              "    fill: var(--disabled-fill-color);\n",
              "    box-shadow: none;\n",
              "  }\n",
              "\n",
              "  .colab-df-spinner {\n",
              "    border: 2px solid var(--fill-color);\n",
              "    border-color: transparent;\n",
              "    border-bottom-color: var(--fill-color);\n",
              "    animation:\n",
              "      spin 1s steps(1) infinite;\n",
              "  }\n",
              "\n",
              "  @keyframes spin {\n",
              "    0% {\n",
              "      border-color: transparent;\n",
              "      border-bottom-color: var(--fill-color);\n",
              "      border-left-color: var(--fill-color);\n",
              "    }\n",
              "    20% {\n",
              "      border-color: transparent;\n",
              "      border-left-color: var(--fill-color);\n",
              "      border-top-color: var(--fill-color);\n",
              "    }\n",
              "    30% {\n",
              "      border-color: transparent;\n",
              "      border-left-color: var(--fill-color);\n",
              "      border-top-color: var(--fill-color);\n",
              "      border-right-color: var(--fill-color);\n",
              "    }\n",
              "    40% {\n",
              "      border-color: transparent;\n",
              "      border-right-color: var(--fill-color);\n",
              "      border-top-color: var(--fill-color);\n",
              "    }\n",
              "    60% {\n",
              "      border-color: transparent;\n",
              "      border-right-color: var(--fill-color);\n",
              "    }\n",
              "    80% {\n",
              "      border-color: transparent;\n",
              "      border-right-color: var(--fill-color);\n",
              "      border-bottom-color: var(--fill-color);\n",
              "    }\n",
              "    90% {\n",
              "      border-color: transparent;\n",
              "      border-bottom-color: var(--fill-color);\n",
              "    }\n",
              "  }\n",
              "</style>\n",
              "\n",
              "      <script>\n",
              "        async function quickchart(key) {\n",
              "          const quickchartButtonEl =\n",
              "            document.querySelector('#' + key + ' button');\n",
              "          quickchartButtonEl.disabled = true;  // To prevent multiple clicks.\n",
              "          quickchartButtonEl.classList.add('colab-df-spinner');\n",
              "          try {\n",
              "            const charts = await google.colab.kernel.invokeFunction(\n",
              "                'suggestCharts', [key], {});\n",
              "          } catch (error) {\n",
              "            console.error('Error during call to suggestCharts:', error);\n",
              "          }\n",
              "          quickchartButtonEl.classList.remove('colab-df-spinner');\n",
              "          quickchartButtonEl.classList.add('colab-df-quickchart-complete');\n",
              "        }\n",
              "        (() => {\n",
              "          let quickchartButtonEl =\n",
              "            document.querySelector('#df-053306da-ccba-4686-b7a2-0ca3917989c9 button');\n",
              "          quickchartButtonEl.style.display =\n",
              "            google.colab.kernel.accessAllowed ? 'block' : 'none';\n",
              "        })();\n",
              "      </script>\n",
              "    </div>\n",
              "\n",
              "    </div>\n",
              "  </div>\n"
            ],
            "application/vnd.google.colaboratory.intrinsic+json": {
              "type": "dataframe",
              "variable_name": "df",
              "summary": "{\n  \"name\": \"df\",\n  \"rows\": 1738,\n  \"fields\": [\n    {\n      \"column\": \"x1\",\n      \"properties\": {\n        \"dtype\": \"number\",\n        \"std\": 3.5428135338669726,\n        \"min\": 44.25,\n        \"max\": 55.375,\n        \"num_unique_values\": 49,\n        \"samples\": [\n          45.5,\n          47.375,\n          50.5\n        ],\n        \"semantic_type\": \"\",\n        \"description\": \"\"\n      }\n    },\n    {\n      \"column\": \"binchoice\",\n      \"properties\": {\n        \"dtype\": \"number\",\n        \"std\": 0,\n        \"min\": -1,\n        \"max\": 1,\n        \"num_unique_values\": 2,\n        \"samples\": [\n          1,\n          -1\n        ],\n        \"semantic_type\": \"\",\n        \"description\": \"\"\n      }\n    },\n    {\n      \"column\": \"x2\",\n      \"properties\": {\n        \"dtype\": \"number\",\n        \"std\": 7.059139895181619,\n        \"min\": 37.625,\n        \"max\": 62.5,\n        \"num_unique_values\": 77,\n        \"samples\": [\n          41.375,\n          60.625\n        ],\n        \"semantic_type\": \"\",\n        \"description\": \"\"\n      }\n    },\n    {\n      \"column\": \"xavg\",\n      \"properties\": {\n        \"dtype\": \"number\",\n        \"std\": 4.123763788071366,\n        \"min\": 41.0,\n        \"max\": 58.0625,\n        \"num_unique_values\": 71,\n        \"samples\": [\n          51.25,\n          43.5\n        ],\n        \"semantic_type\": \"\",\n        \"description\": \"\"\n      }\n    },\n    {\n      \"column\": \"estim\",\n      \"properties\": {\n        \"dtype\": \"number\",\n        \"std\": 6,\n        \"min\": 27,\n        \"max\": 73,\n        \"num_unique_values\": 42,\n        \"samples\": [\n          38,\n          61\n        ],\n        \"semantic_type\": \"\",\n        \"description\": \"\"\n      }\n    },\n    {\n      \"column\": \"subj\",\n      \"properties\": {\n        \"dtype\": \"number\",\n        \"std\": 6,\n        \"min\": 1,\n        \"max\": 21,\n        \"num_unique_values\": 21,\n        \"samples\": [\n          1,\n          18\n        ],\n        \"semantic_type\": \"\",\n        \"description\": \"\"\n      }\n    }\n  ]\n}"
            }
          },
          "metadata": {},
          "execution_count": 1
        }
      ],
      "source": [
        "# import typical packages\n",
        "import numpy as np\n",
        "import matplotlib.pyplot as plt\n",
        "import pandas as pd\n",
        "\n",
        "# load the data from github\n",
        "df = pd.read_csv(\"https://raw.githubusercontent.com/wimmerlab/MBC_data_analysis/main/A2_LinearRegression/Task_Numerical.csv\",sep=',')\n",
        "\n",
        "# uncomment if you prefer to load the data locally\n",
        "#df = pd.read_csv(\"Task_Numerical.csv\",sep=',')\n",
        "\n",
        "# list of subjects\n",
        "subjects = np.unique(df.subj)\n",
        "\n",
        "df.head()"
      ]
    },
    {
      "cell_type": "markdown",
      "metadata": {
        "id": "4YSOOvDuX-U7"
      },
      "source": [
        "## 1. Simple linear regression\n",
        "We will start by looking at the relationship between the subject report $y$ (i.e. variable `estim`, the reported mean at the end of the sequence) and a single measure: the mean over the whole sequence ``xavg``. We will assume a linear relationship: $y = \\beta_1 xavg + \\beta_0 + \\text{noise}$, where $\\beta_0$ is the intercept,  $\\beta_1$ is the slope, and the noise is zero-mean gaussian (with constant variance). This is the generative formula for simple linear regression. Our goal here is to estimate the values of the parameters $(\\beta_0,\\beta_1)$ from the data.\n",
        "\n",
        "### 1.1 Naive fitting\n",
        "To start with, we will adopt a naive strategy where we adjust manually the linear curve (i.e. the formula above, without the noise) so it captures the data as good as possible. This should give us more insight about the role of the intercept and slope.\n",
        "\n",
        "**Define a function that captures the linear relationship between xavg and y,  taking the intercept and slope as input.**"
      ]
    },
    {
      "cell_type": "code",
      "execution_count": 2,
      "metadata": {
        "id": "qWgaUvpXX-U8"
      },
      "outputs": [],
      "source": [
        "def linear_function(x, beta0, beta1):\n",
        "    \"\"\"\n",
        "    Computes the linear function\n",
        "    Args:\n",
        "       X (array): value(s) of the regressor\n",
        "       beta0 (float): intercept\n",
        "       beta1 (float): slope\n",
        "    \"\"\"\n",
        "\n",
        "    # use linear relationship\n",
        "    y = beta0 +beta1 * x\n",
        "\n",
        "    # output the result\n",
        "    return y"
      ]
    },
    {
      "cell_type": "markdown",
      "metadata": {
        "id": "aJranA7MX-U8"
      },
      "source": [
        "Now **complete the code below and run the cell**. It plots the function we have just defined (red line), along with the data points from one subject (each blue point represents a single trial). **Adjust the value of the slides to best capture the relationship between the average stimulus and the report from the data**."
      ]
    },
    {
      "cell_type": "code",
      "execution_count": 3,
      "metadata": {
        "colab": {
          "base_uri": "https://localhost:8080/",
          "height": 517,
          "referenced_widgets": [
            "1892321592994cb295ac0a86ccbe235c",
            "d1e4afc9b1b443d1851bd0c0860c0643",
            "9fb248c426384b7b9e80b252319a8edb",
            "718c832c74ef4ca4a2923ef04903dd35",
            "d736d3d5870647faad26ed94f9848482",
            "c9b41935a5e84b99b8dfafd094b442ca",
            "32e1f3d17d294dc685fb8bd6fac49208",
            "a86af344aabd43fd8bf2fa924c5a6c3f",
            "066d78a5a4e543f39b1e0a787da7ec17",
            "90e12f3d31f84397b9c9d3243e1d11ab"
          ]
        },
        "id": "IfpYLCMvX-U8",
        "outputId": "3344bcc7-8d9c-4ff3-8112-9c2fcbb2e647"
      },
      "outputs": [
        {
          "output_type": "display_data",
          "data": {
            "text/plain": [
              "interactive(children=(FloatSlider(value=20.0, description='beta0', max=50.0), FloatSlider(value=0.1, descripti…"
            ],
            "application/vnd.jupyter.widget-view+json": {
              "version_major": 2,
              "version_minor": 0,
              "model_id": "1892321592994cb295ac0a86ccbe235c"
            }
          },
          "metadata": {}
        }
      ],
      "source": [
        "import ipywidgets as widgets       # interactive display\n",
        "#@title\n",
        "\n",
        "#select data from subject 1\n",
        "df1 = df[\"subj\"] == 1\n",
        "\n",
        "#@markdown Make sure you execute this cell to enable the widget!\n",
        "\n",
        "@widgets.interact(\n",
        "    beta0 =widgets.FloatSlider(20, min=0, max=50), # default, min and max values for intercept\n",
        "    beta1 =widgets.FloatSlider(0.1, min=0.0, max=1.0)) # defaul, min and max values for slope\n",
        "\n",
        "def plot_data_estimate(beta0, beta1):\n",
        "\n",
        "    # set x-values for your prediction, linearly scaled values (could be just two as we're drawing a line)\n",
        "    x_data = np.linspace(35,65,10)\n",
        "\n",
        "    # given the values in x_data, predict y_data values from our model with given parameters\n",
        "    y_data = linear_function(x_data, beta0, beta1)\n",
        "\n",
        "    # plot\n",
        "    plt.plot(x_data, y_data, 'r') # plot the model prediction with a line\n",
        "    plt.plot(df[df1][\"xavg\"], df[df1][\"estim\"], 'bo') # now plot the true data from our dataframe df as dots\n",
        "    plt.xlabel(\"stimulus average\");\n",
        "    plt.ylabel(\"estimate\");\n",
        "\n",
        "    # Add a dotted line indicating the identity line\n",
        "    plt.plot(x_data, x_data, linestyle='--', color='gray');\n",
        "\n",
        "    plt.show(); # needed in Colab"
      ]
    },
    {
      "cell_type": "markdown",
      "metadata": {
        "id": "-CAXH_5SX-U9"
      },
      "source": [
        "This was nice but we ignored the stochastic part of the linear regression model (the added Gaussian noise) which we would like to estimate as well, as it gives us an estimate of how much the model cannot explain about the data. To do so, we now need to simulate the model with noise and compare the distributions of points to the experimental one.\n",
        "First, **write a function that simulates the linear regression model (with noise), given some values of the regressor $xavg$ and parameter values**. Parameters now include the intercept $\\beta_0$, the slope $\\beta_1$ and also $\\sigma$, the standard deviation of the Gaussian noise. A Gaussian random variable can be drawn using `normal` from the `numpy` package."
      ]
    },
    {
      "cell_type": "code",
      "execution_count": 4,
      "metadata": {
        "id": "dGGHMnf4X-U9"
      },
      "outputs": [],
      "source": [
        "#import function\n",
        "from numpy.random import normal\n",
        "\n",
        "# define function that simulates the linear regression model\n",
        "def generate_linear_model(x, beta0, beta1, sigma):\n",
        "    \"\"\"\n",
        "    Simulates the simple linear model\n",
        "    Args:\n",
        "       X (array): value(s) of the regressor\n",
        "       beta0 (float): intercept\n",
        "       beta1 (float): slope\n",
        "       sigma (float): standard deviation of noise parameter\n",
        "    \"\"\"\n",
        "\n",
        "    # use linear relationship\n",
        "    y = beta0 +beta1 * x\n",
        "\n",
        "    # add gaussian noise with standard deviation = sigma\n",
        "    n = len(x)\n",
        "    y = y + normal(0, sigma, n)\n",
        "\n",
        "    # output the result\n",
        "    return y"
      ]
    },
    {
      "cell_type": "markdown",
      "metadata": {
        "id": "coha3cCGX-U9"
      },
      "source": [
        "Now run the cell below where the black dots represent model simulations while blue dots represent the data. Play with the knobs and **adjust the parameter values to match the two distribution qualitatively**."
      ]
    },
    {
      "cell_type": "code",
      "execution_count": 5,
      "metadata": {
        "colab": {
          "base_uri": "https://localhost:8080/",
          "height": 549,
          "referenced_widgets": [
            "75b898044b71424e9acbb58155c5e6e5",
            "9bd453abb2c54ff8b0c24212e1f194e1",
            "c218b9d950cd4400a7b9e73caa8632b5",
            "235ede16ceb446439ebf8ec6b0fcdeeb",
            "70739901eda940c6b9be8dea74a27728",
            "6496831f4d6e45a78b43657d338f20b2",
            "70458c23e4244a3ab2ae68ad9296fd94",
            "064050af27ae4136a869bb97804938ee",
            "b75b0f537d574d1083c1339b55f4495e",
            "4b2c049072cf46bf8637e06eeaf12dfe",
            "09136995dcf34fc9b77c60159a2095a8",
            "8bd986f527f244b3b6e5636eb375ec60",
            "de0c109016b94f73a3d7c1e378a98c8f"
          ]
        },
        "id": "QbByd47FX-U9",
        "outputId": "0abf32d4-fe9c-41e1-8095-74c6d932a9f0"
      },
      "outputs": [
        {
          "output_type": "display_data",
          "data": {
            "text/plain": [
              "interactive(children=(FloatSlider(value=20.0, description='beta0', max=50.0), FloatSlider(value=0.1, descripti…"
            ],
            "application/vnd.jupyter.widget-view+json": {
              "version_major": 2,
              "version_minor": 0,
              "model_id": "75b898044b71424e9acbb58155c5e6e5"
            }
          },
          "metadata": {}
        }
      ],
      "source": [
        "@widgets.interact(\n",
        "    beta0 =widgets.FloatSlider(20, min=0, max=50), # default, min and max values for intercept\n",
        "    beta1 =widgets.FloatSlider(0.1, min=0.0, max=1.0), # defaul, min and max values for slope\n",
        "    sigma = widgets.FloatSlider(1, min=0.0, max=20.0)) # defaul, min and max values for noise\n",
        "\n",
        "def plot_simulated_vs_real_data_estimate(beta0, beta1, sigma):\n",
        "\n",
        "     # set x-values for your prediction, same as original dataset\n",
        "    x_data = df[df1].xavg\n",
        "\n",
        "     # given the values in x_data, predict y_data values from model with given parameters\n",
        "    y_data = generate_linear_model(x_data, beta0, beta1, sigma)\n",
        "\n",
        "    #plot\n",
        "    plt.plot(x_data, y_data, 'ko') # plot the model prediction with black dots\n",
        "    plt.plot(df[df1]['xavg'], df[df1]['estim'], 'bo') # now plot the true data from our dataframe df as blue dots\n",
        "    plt.xlabel(\"stimulus average\");\n",
        "    plt.ylabel(\"estimate\");\n",
        "\n",
        "    # Add a dotted line indicating the identity line\n",
        "    plt.plot(x_data, x_data, linestyle='--', color='gray');\n",
        "\n",
        "    plt.show(); # needed in Colab"
      ]
    },
    {
      "cell_type": "markdown",
      "metadata": {
        "id": "VacqahEnX-U9"
      },
      "source": [
        "### 1.2 Least-square regression\n",
        "\n",
        "We will now use a more principled approach called Ordinary Least-Square (OLS) regression, which minimizes the overall estimation error of the linear model. More precisely, it looks for the parameters $(\\beta_0,\\beta_1)$ that minimizes the sum over trials of the squares of errors.\n",
        "**Run OLS regression for subject 1 and obtain the coefficients of the linear regression that fits the data.**\n",
        "\n",
        " We can run this analysis with the function `ols` in `statsmodel.formula.api`. You just need to specify the formula (the dependent variable on the left, and the regressor(s) on the right) and the dataframe for the corresponding data."
      ]
    },
    {
      "cell_type": "code",
      "execution_count": 6,
      "metadata": {
        "ExecuteTime": {
          "end_time": "2022-02-04T22:46:53.929474Z",
          "start_time": "2022-02-04T22:46:53.866909Z"
        },
        "colab": {
          "base_uri": "https://localhost:8080/"
        },
        "id": "dONKI852M0Ed",
        "outputId": "6a7a555f-7b9c-4ae9-9da2-51262de6deac",
        "scrolled": true
      },
      "outputs": [
        {
          "output_type": "stream",
          "name": "stdout",
          "text": [
            "Coefficients: Intercept    21.133246\n",
            "xavg          0.658960\n",
            "dtype: float64\n"
          ]
        }
      ],
      "source": [
        "# import OLS from statsmodel package\n",
        "from statsmodels.formula.api import ols\n",
        "\n",
        "# define model formula and database (point to a dataframe)\n",
        "mod = ols(formula = 'estim ~ xavg' , data=df[df1])\n",
        "\n",
        "# fit the model\n",
        "res = mod.fit()\n",
        "\n",
        "# The coefficients\n",
        "print('Coefficients:', res.params)"
      ]
    },
    {
      "cell_type": "markdown",
      "metadata": {
        "id": "AdIpv4sJX-U9"
      },
      "source": [
        "You get a more complete summary using the command `summary`, including the $R^2$ (how much variance in the dependent variable does the model explains, from 0 to 1), and the confidence interval for each parameter - very useful if we want to determine if a weight is statistically different from 0 (check also the T-statistic)."
      ]
    },
    {
      "cell_type": "code",
      "execution_count": 7,
      "metadata": {
        "scrolled": true,
        "colab": {
          "base_uri": "https://localhost:8080/",
          "height": 445
        },
        "id": "-cAD0BcOX-U9",
        "outputId": "6ed5d660-32b5-48b2-8b92-665bfed4f052"
      },
      "outputs": [
        {
          "output_type": "execute_result",
          "data": {
            "text/plain": [
              "<class 'statsmodels.iolib.summary.Summary'>\n",
              "\"\"\"\n",
              "                            OLS Regression Results                            \n",
              "==============================================================================\n",
              "Dep. Variable:                  estim   R-squared:                       0.251\n",
              "Model:                            OLS   Adj. R-squared:                  0.241\n",
              "Method:                 Least Squares   F-statistic:                     26.77\n",
              "Date:                Sun, 19 Oct 2025   Prob (F-statistic):           1.66e-06\n",
              "Time:                        18:30:59   Log-Likelihood:                -243.67\n",
              "No. Observations:                  82   AIC:                             491.3\n",
              "Df Residuals:                      80   BIC:                             496.2\n",
              "Df Model:                           1                                         \n",
              "Covariance Type:            nonrobust                                         \n",
              "==============================================================================\n",
              "                 coef    std err          t      P>|t|      [0.025      0.975]\n",
              "------------------------------------------------------------------------------\n",
              "Intercept     21.1332      6.473      3.265      0.002       8.252      34.015\n",
              "xavg           0.6590      0.127      5.174      0.000       0.406       0.912\n",
              "==============================================================================\n",
              "Omnibus:                        0.613   Durbin-Watson:                   1.426\n",
              "Prob(Omnibus):                  0.736   Jarque-Bera (JB):                0.579\n",
              "Skew:                           0.197   Prob(JB):                        0.749\n",
              "Kurtosis:                       2.879   Cond. No.                         623.\n",
              "==============================================================================\n",
              "\n",
              "Notes:\n",
              "[1] Standard Errors assume that the covariance matrix of the errors is correctly specified.\n",
              "\"\"\""
            ],
            "text/html": [
              "<table class=\"simpletable\">\n",
              "<caption>OLS Regression Results</caption>\n",
              "<tr>\n",
              "  <th>Dep. Variable:</th>          <td>estim</td>      <th>  R-squared:         </th> <td>   0.251</td>\n",
              "</tr>\n",
              "<tr>\n",
              "  <th>Model:</th>                   <td>OLS</td>       <th>  Adj. R-squared:    </th> <td>   0.241</td>\n",
              "</tr>\n",
              "<tr>\n",
              "  <th>Method:</th>             <td>Least Squares</td>  <th>  F-statistic:       </th> <td>   26.77</td>\n",
              "</tr>\n",
              "<tr>\n",
              "  <th>Date:</th>             <td>Sun, 19 Oct 2025</td> <th>  Prob (F-statistic):</th> <td>1.66e-06</td>\n",
              "</tr>\n",
              "<tr>\n",
              "  <th>Time:</th>                 <td>18:30:59</td>     <th>  Log-Likelihood:    </th> <td> -243.67</td>\n",
              "</tr>\n",
              "<tr>\n",
              "  <th>No. Observations:</th>      <td>    82</td>      <th>  AIC:               </th> <td>   491.3</td>\n",
              "</tr>\n",
              "<tr>\n",
              "  <th>Df Residuals:</th>          <td>    80</td>      <th>  BIC:               </th> <td>   496.2</td>\n",
              "</tr>\n",
              "<tr>\n",
              "  <th>Df Model:</th>              <td>     1</td>      <th>                     </th>     <td> </td>   \n",
              "</tr>\n",
              "<tr>\n",
              "  <th>Covariance Type:</th>      <td>nonrobust</td>    <th>                     </th>     <td> </td>   \n",
              "</tr>\n",
              "</table>\n",
              "<table class=\"simpletable\">\n",
              "<tr>\n",
              "      <td></td>         <th>coef</th>     <th>std err</th>      <th>t</th>      <th>P>|t|</th>  <th>[0.025</th>    <th>0.975]</th>  \n",
              "</tr>\n",
              "<tr>\n",
              "  <th>Intercept</th> <td>   21.1332</td> <td>    6.473</td> <td>    3.265</td> <td> 0.002</td> <td>    8.252</td> <td>   34.015</td>\n",
              "</tr>\n",
              "<tr>\n",
              "  <th>xavg</th>      <td>    0.6590</td> <td>    0.127</td> <td>    5.174</td> <td> 0.000</td> <td>    0.406</td> <td>    0.912</td>\n",
              "</tr>\n",
              "</table>\n",
              "<table class=\"simpletable\">\n",
              "<tr>\n",
              "  <th>Omnibus:</th>       <td> 0.613</td> <th>  Durbin-Watson:     </th> <td>   1.426</td>\n",
              "</tr>\n",
              "<tr>\n",
              "  <th>Prob(Omnibus):</th> <td> 0.736</td> <th>  Jarque-Bera (JB):  </th> <td>   0.579</td>\n",
              "</tr>\n",
              "<tr>\n",
              "  <th>Skew:</th>          <td> 0.197</td> <th>  Prob(JB):          </th> <td>   0.749</td>\n",
              "</tr>\n",
              "<tr>\n",
              "  <th>Kurtosis:</th>      <td> 2.879</td> <th>  Cond. No.          </th> <td>    623.</td>\n",
              "</tr>\n",
              "</table><br/><br/>Notes:<br/>[1] Standard Errors assume that the covariance matrix of the errors is correctly specified."
            ],
            "text/latex": "\\begin{center}\n\\begin{tabular}{lclc}\n\\toprule\n\\textbf{Dep. Variable:}    &      estim       & \\textbf{  R-squared:         } &     0.251   \\\\\n\\textbf{Model:}            &       OLS        & \\textbf{  Adj. R-squared:    } &     0.241   \\\\\n\\textbf{Method:}           &  Least Squares   & \\textbf{  F-statistic:       } &     26.77   \\\\\n\\textbf{Date:}             & Sun, 19 Oct 2025 & \\textbf{  Prob (F-statistic):} &  1.66e-06   \\\\\n\\textbf{Time:}             &     18:30:59     & \\textbf{  Log-Likelihood:    } &   -243.67   \\\\\n\\textbf{No. Observations:} &          82      & \\textbf{  AIC:               } &     491.3   \\\\\n\\textbf{Df Residuals:}     &          80      & \\textbf{  BIC:               } &     496.2   \\\\\n\\textbf{Df Model:}         &           1      & \\textbf{                     } &             \\\\\n\\textbf{Covariance Type:}  &    nonrobust     & \\textbf{                     } &             \\\\\n\\bottomrule\n\\end{tabular}\n\\begin{tabular}{lcccccc}\n                   & \\textbf{coef} & \\textbf{std err} & \\textbf{t} & \\textbf{P$> |$t$|$} & \\textbf{[0.025} & \\textbf{0.975]}  \\\\\n\\midrule\n\\textbf{Intercept} &      21.1332  &        6.473     &     3.265  &         0.002        &        8.252    &       34.015     \\\\\n\\textbf{xavg}      &       0.6590  &        0.127     &     5.174  &         0.000        &        0.406    &        0.912     \\\\\n\\bottomrule\n\\end{tabular}\n\\begin{tabular}{lclc}\n\\textbf{Omnibus:}       &  0.613 & \\textbf{  Durbin-Watson:     } &    1.426  \\\\\n\\textbf{Prob(Omnibus):} &  0.736 & \\textbf{  Jarque-Bera (JB):  } &    0.579  \\\\\n\\textbf{Skew:}          &  0.197 & \\textbf{  Prob(JB):          } &    0.749  \\\\\n\\textbf{Kurtosis:}      &  2.879 & \\textbf{  Cond. No.          } &     623.  \\\\\n\\bottomrule\n\\end{tabular}\n%\\caption{OLS Regression Results}\n\\end{center}\n\nNotes: \\newline\n [1] Standard Errors assume that the covariance matrix of the errors is correctly specified."
          },
          "metadata": {},
          "execution_count": 7
        }
      ],
      "source": [
        "#print the summary\n",
        "res.summary()"
      ]
    },
    {
      "cell_type": "markdown",
      "metadata": {
        "id": "BKfSXP6iX-U9"
      },
      "source": [
        "**Interpret the value of $R^2$.**"
      ]
    },
    {
      "cell_type": "markdown",
      "metadata": {
        "id": "pHobRdoNX-U9"
      },
      "source": [
        "R-squared:\t0.251\n",
        "It means my model can explain 25% of the variation in the data. That is, true average can only explain 25% of subject's estimate and the rest unexplained variance (75%) may suggest bias.\n"
      ]
    },
    {
      "cell_type": "markdown",
      "metadata": {
        "id": "qo_C_VfNX-U9"
      },
      "source": [
        "**How do the fitted coefficients compare to the ones we adjusted by hand?**"
      ]
    },
    {
      "cell_type": "markdown",
      "metadata": {
        "id": "Re1xGEnQX-U9"
      },
      "source": [
        "The values manually obtained from widget are beta0=37.70 and beta1= 0.30, while values obtained from computation are beta0=21.13 and beta1= 0.659\n"
      ]
    },
    {
      "cell_type": "markdown",
      "metadata": {
        "id": "jiDWfx7LX-U9"
      },
      "source": [
        "What about the noise parameter $\\sigma$? The estimated value is not provided directly in the table but we can easily compute it as the *root mean square error* (RMSE), i.e. $\\hat \\sigma = \\sqrt {\\frac 1 n \\sum_i e_i^2}$ where $ \\frac 1 n \\sum_i()$ refers to the mean over trials and $e_i$ is the *residual* (or error) for trial $i$, i.e. the difference on each trial between the expected value of the report (following the noiseless linear relationship) and the observed value.\n",
        "The array of residuals can be obtained using `res.resid`.\n",
        "**Compute the root mean square error.**"
      ]
    },
    {
      "cell_type": "code",
      "execution_count": 8,
      "metadata": {
        "colab": {
          "base_uri": "https://localhost:8080/"
        },
        "id": "udU7y8ZPX-U9",
        "outputId": "703a6136-43b7-47cd-b867-926c972ace87"
      },
      "outputs": [
        {
          "output_type": "stream",
          "name": "stdout",
          "text": [
            "Root Mean Squared Error (RMSE): 4.724205577915148\n"
          ]
        }
      ],
      "source": [
        "# Compute the mean square error\n",
        "mse = (res.resid**2).mean()\n",
        "\n",
        "# Take the square root\n",
        "rmse = np.sqrt(mse)\n",
        "\n",
        "print(\"Root Mean Squared Error (RMSE):\", rmse)"
      ]
    },
    {
      "cell_type": "markdown",
      "metadata": {
        "id": "KBN5cMuFX-U9"
      },
      "source": [
        "**Compare to the value of noise adjusted by hand.**"
      ]
    },
    {
      "cell_type": "markdown",
      "metadata": {
        "id": "KeabElK8X-U-"
      },
      "source": [
        "the value obtained using widget is 2.90, while the value obtained from computation is 4.72."
      ]
    },
    {
      "cell_type": "markdown",
      "metadata": {
        "id": "k8kcA2DZX-U-"
      },
      "source": [
        "### 1.3 Analysis of residuals\n",
        "Should we believe these results?\n",
        "\n",
        "One of the underlying assumption when using linear regression is the **normal distribution of independent residual errors**. It basically means two things:\n",
        "- that the noise in the model should be independent from the value of the regressor (a property that goes by the ugly name of *homoskedasticity*). Sometimes this hypothesis is not met, usually because of outliers, and that can corrupt the result of our analysis. We can check whether this is the case *a posteriori* by looking at the profile of the residuals.  The variability of these residuals should not change depending on the regressor value (here, stimulus average).\n",
        "- That the noise comes a Gaussian distribution. For this, we can check a posterior that distribution the residuals is more or less Gaussian.\n",
        "\n",
        "Watch the [second video on linear regression above](https://youtu.be/xIDjj6ZyFuw?si=QES8GYRwbY4H8Lu0&t=290) to understand these checks.\n",
        "\n",
        "Let's perform the first check . **Check this by plotting a scatter plot of model residuals vs. the value of the regressor**. Note that this is basically equivalent to removing the linear trend from the scatter plot of (stimulus, response)."
      ]
    },
    {
      "cell_type": "code",
      "execution_count": 9,
      "metadata": {
        "colab": {
          "base_uri": "https://localhost:8080/",
          "height": 449
        },
        "id": "afQmg0hWX-U-",
        "outputId": "95a8fbbd-cc86-4ca4-ce0d-bf4f7a059828"
      },
      "outputs": [
        {
          "output_type": "display_data",
          "data": {
            "text/plain": [
              "<Figure size 640x480 with 1 Axes>"
            ],
            "image/png": "[encoded data removed]"
          },
          "metadata": {}
        }
      ],
      "source": [
        "plt.figure();\n",
        "\n",
        "# plot the residuals versus the independent variable X in a scatter plot\n",
        "plt.scatter(df[df1]['xavg'], res.resid)\n",
        "plt.ylabel('Residuals');\n",
        "plt.xlabel('xavg');"
      ]
    },
    {
      "cell_type": "markdown",
      "metadata": {
        "id": "4leNIBXrX-U-"
      },
      "source": [
        "**What do we learn from this plot?**"
      ]
    },
    {
      "cell_type": "markdown",
      "metadata": {
        "id": "N0wnPUgnX-U-"
      },
      "source": [
        "The plot does not appear to form any systematic tendency or a shape. This suggests the residuals are independent of the value of the regressor."
      ]
    },
    {
      "cell_type": "markdown",
      "metadata": {
        "id": "qRZwDkvrX-U-"
      },
      "source": [
        "Now let's perform the second check: that the residuals are normally distributed. **Plot the distribution of residuals.**"
      ]
    },
    {
      "cell_type": "code",
      "execution_count": 10,
      "metadata": {
        "colab": {
          "base_uri": "https://localhost:8080/",
          "height": 449
        },
        "id": "FkE4p94JX-U-",
        "outputId": "a518986b-450f-4aa7-84e7-d6612131e2ad"
      },
      "outputs": [
        {
          "output_type": "display_data",
          "data": {
            "text/plain": [
              "<Figure size 640x480 with 1 Axes>"
            ],
            "image/png": "[encoded data removed]"
          },
          "metadata": {}
        }
      ],
      "source": [
        "plt.figure;\n",
        "plt.hist(res.resid,bins=20);\n",
        "plt.xlabel('residuals');\n",
        "plt.ylabel('frequency');"
      ]
    },
    {
      "cell_type": "markdown",
      "metadata": {
        "id": "ZLFdqVgTX-U-"
      },
      "source": [
        "**What do you conclude?**"
      ]
    },
    {
      "cell_type": "markdown",
      "metadata": {
        "id": "6bLyX20WX-U-"
      },
      "source": [
        "The residuals follow a normal-distribution i.e. the noise comes from Gaussian distribution. It means noise is random and cannot be explained by a systematic factor."
      ]
    },
    {
      "cell_type": "markdown",
      "metadata": {
        "id": "1OtkHVueX-U-"
      },
      "source": [
        "This can be done in a more principled manner using quantile-quantile plots with `probplot` (from the `scipy` package). This is some (nonlinear) rescaling the cumulative histogram of the residuals so that, if the residuals are indeed normally distributed, the curve (marked by blue points) should not depart too far from the (red) diagonal line. As you can see, this is the case (except perhaps the little deviation on the far right which is due to the two errors larger than 10 - those two trials may be outliers)."
      ]
    },
    {
      "cell_type": "code",
      "execution_count": 11,
      "metadata": {
        "scrolled": true,
        "colab": {
          "base_uri": "https://localhost:8080/",
          "height": 472
        },
        "id": "N66AIu7jX-U-",
        "outputId": "0e4d161a-677b-42f5-d5c2-1432c8f8b5ac"
      },
      "outputs": [
        {
          "output_type": "display_data",
          "data": {
            "text/plain": [
              "<Figure size 640x480 with 1 Axes>"
            ],
            "image/png": "[encoded data removed]"
          },
          "metadata": {}
        }
      ],
      "source": [
        "# import the function\n",
        "from scipy.stats import probplot\n",
        "\n",
        "# draw quantile-quantile plot\n",
        "plt.figure;\n",
        "probplot(res.resid, plot=plt);"
      ]
    },
    {
      "cell_type": "markdown",
      "metadata": {
        "id": "5e2RIQogX-U-"
      },
      "source": [
        "**What do you conclude from all these checks?**"
      ]
    },
    {
      "cell_type": "markdown",
      "metadata": {
        "id": "SfNFIi0NX-U-"
      },
      "source": [
        "The model's performance is consistent, it can predict the dataset as a whole rather than doing so partly. It can also be used for p-values and t-statistical testings as errors are independent of the regressor."
      ]
    },
    {
      "cell_type": "markdown",
      "metadata": {
        "id": "aoiTsl32X-U-"
      },
      "source": [
        "## 2. Multiple linear regression\n",
        "Multiple linear regression extends the framework above to **estimate jointly the impact of various regressors** (or *independent variables*) on the dependent variable. For example, the simple linear regression above used only the average of the two stimuli as a regressor, which implicitly assumes that both stimuli have the same impact on participant reports. But there is no reason to assume it, and indeed across many tasks humans and non-human subjects tend to weigh differently different pieces of information when they are provided sequentially. Sometimes they weigh more the earlier stimuli (*primacy effect*), sometimes they weigh more the later stimuli (*recency effect*), sometimes it's more complicated.\n",
        "We can estimate this using multiple linear regression where each stimuli are provided as independent regressors.\n",
        "**Implement this regression analysis, again for subject 1.** You basically just need to update the formula from the single linear model, replacing the single regressor with the sum of the two regressors."
      ]
    },
    {
      "cell_type": "code",
      "execution_count": 12,
      "metadata": {
        "colab": {
          "base_uri": "https://localhost:8080/",
          "height": 0
        },
        "id": "6gFMy3_RX-VB",
        "outputId": "c1b1f583-c80d-45dd-d2c5-46d976636094"
      },
      "outputs": [
        {
          "output_type": "execute_result",
          "data": {
            "text/plain": [
              "<class 'statsmodels.iolib.summary.Summary'>\n",
              "\"\"\"\n",
              "                            OLS Regression Results                            \n",
              "==============================================================================\n",
              "Dep. Variable:                  estim   R-squared:                       0.281\n",
              "Model:                            OLS   Adj. R-squared:                  0.263\n",
              "Method:                 Least Squares   F-statistic:                     15.46\n",
              "Date:                Sun, 19 Oct 2025   Prob (F-statistic):           2.15e-06\n",
              "Time:                        18:31:00   Log-Likelihood:                -241.96\n",
              "No. Observations:                  82   AIC:                             489.9\n",
              "Df Residuals:                      79   BIC:                             497.1\n",
              "Df Model:                           2                                         \n",
              "Covariance Type:            nonrobust                                         \n",
              "==============================================================================\n",
              "                 coef    std err          t      P>|t|      [0.025      0.975]\n",
              "------------------------------------------------------------------------------\n",
              "Intercept     29.4845      7.837      3.762      0.000      13.886      45.083\n",
              "x1             0.0870      0.146      0.595      0.554      -0.204       0.378\n",
              "x2             0.4005      0.074      5.432      0.000       0.254       0.547\n",
              "==============================================================================\n",
              "Omnibus:                        0.525   Durbin-Watson:                   1.371\n",
              "Prob(Omnibus):                  0.769   Jarque-Bera (JB):                0.669\n",
              "Skew:                           0.153   Prob(JB):                        0.716\n",
              "Kurtosis:                       2.680   Cond. No.                     1.08e+03\n",
              "==============================================================================\n",
              "\n",
              "Notes:\n",
              "[1] Standard Errors assume that the covariance matrix of the errors is correctly specified.\n",
              "[2] The condition number is large, 1.08e+03. This might indicate that there are\n",
              "strong multicollinearity or other numerical problems.\n",
              "\"\"\""
            ],
            "text/html": [
              "<table class=\"simpletable\">\n",
              "<caption>OLS Regression Results</caption>\n",
              "<tr>\n",
              "  <th>Dep. Variable:</th>          <td>estim</td>      <th>  R-squared:         </th> <td>   0.281</td>\n",
              "</tr>\n",
              "<tr>\n",
              "  <th>Model:</th>                   <td>OLS</td>       <th>  Adj. R-squared:    </th> <td>   0.263</td>\n",
              "</tr>\n",
              "<tr>\n",
              "  <th>Method:</th>             <td>Least Squares</td>  <th>  F-statistic:       </th> <td>   15.46</td>\n",
              "</tr>\n",
              "<tr>\n",
              "  <th>Date:</th>             <td>Sun, 19 Oct 2025</td> <th>  Prob (F-statistic):</th> <td>2.15e-06</td>\n",
              "</tr>\n",
              "<tr>\n",
              "  <th>Time:</th>                 <td>18:31:00</td>     <th>  Log-Likelihood:    </th> <td> -241.96</td>\n",
              "</tr>\n",
              "<tr>\n",
              "  <th>No. Observations:</th>      <td>    82</td>      <th>  AIC:               </th> <td>   489.9</td>\n",
              "</tr>\n",
              "<tr>\n",
              "  <th>Df Residuals:</th>          <td>    79</td>      <th>  BIC:               </th> <td>   497.1</td>\n",
              "</tr>\n",
              "<tr>\n",
              "  <th>Df Model:</th>              <td>     2</td>      <th>                     </th>     <td> </td>   \n",
              "</tr>\n",
              "<tr>\n",
              "  <th>Covariance Type:</th>      <td>nonrobust</td>    <th>                     </th>     <td> </td>   \n",
              "</tr>\n",
              "</table>\n",
              "<table class=\"simpletable\">\n",
              "<tr>\n",
              "      <td></td>         <th>coef</th>     <th>std err</th>      <th>t</th>      <th>P>|t|</th>  <th>[0.025</th>    <th>0.975]</th>  \n",
              "</tr>\n",
              "<tr>\n",
              "  <th>Intercept</th> <td>   29.4845</td> <td>    7.837</td> <td>    3.762</td> <td> 0.000</td> <td>   13.886</td> <td>   45.083</td>\n",
              "</tr>\n",
              "<tr>\n",
              "  <th>x1</th>        <td>    0.0870</td> <td>    0.146</td> <td>    0.595</td> <td> 0.554</td> <td>   -0.204</td> <td>    0.378</td>\n",
              "</tr>\n",
              "<tr>\n",
              "  <th>x2</th>        <td>    0.4005</td> <td>    0.074</td> <td>    5.432</td> <td> 0.000</td> <td>    0.254</td> <td>    0.547</td>\n",
              "</tr>\n",
              "</table>\n",
              "<table class=\"simpletable\">\n",
              "<tr>\n",
              "  <th>Omnibus:</th>       <td> 0.525</td> <th>  Durbin-Watson:     </th> <td>   1.371</td>\n",
              "</tr>\n",
              "<tr>\n",
              "  <th>Prob(Omnibus):</th> <td> 0.769</td> <th>  Jarque-Bera (JB):  </th> <td>   0.669</td>\n",
              "</tr>\n",
              "<tr>\n",
              "  <th>Skew:</th>          <td> 0.153</td> <th>  Prob(JB):          </th> <td>   0.716</td>\n",
              "</tr>\n",
              "<tr>\n",
              "  <th>Kurtosis:</th>      <td> 2.680</td> <th>  Cond. No.          </th> <td>1.08e+03</td>\n",
              "</tr>\n",
              "</table><br/><br/>Notes:<br/>[1] Standard Errors assume that the covariance matrix of the errors is correctly specified.<br/>[2] The condition number is large, 1.08e+03. This might indicate that there are<br/>strong multicollinearity or other numerical problems."
            ],
            "text/latex": "\\begin{center}\n\\begin{tabular}{lclc}\n\\toprule\n\\textbf{Dep. Variable:}    &      estim       & \\textbf{  R-squared:         } &     0.281   \\\\\n\\textbf{Model:}            &       OLS        & \\textbf{  Adj. R-squared:    } &     0.263   \\\\\n\\textbf{Method:}           &  Least Squares   & \\textbf{  F-statistic:       } &     15.46   \\\\\n\\textbf{Date:}             & Sun, 19 Oct 2025 & \\textbf{  Prob (F-statistic):} &  2.15e-06   \\\\\n\\textbf{Time:}             &     18:31:00     & \\textbf{  Log-Likelihood:    } &   -241.96   \\\\\n\\textbf{No. Observations:} &          82      & \\textbf{  AIC:               } &     489.9   \\\\\n\\textbf{Df Residuals:}     &          79      & \\textbf{  BIC:               } &     497.1   \\\\\n\\textbf{Df Model:}         &           2      & \\textbf{                     } &             \\\\\n\\textbf{Covariance Type:}  &    nonrobust     & \\textbf{                     } &             \\\\\n\\bottomrule\n\\end{tabular}\n\\begin{tabular}{lcccccc}\n                   & \\textbf{coef} & \\textbf{std err} & \\textbf{t} & \\textbf{P$> |$t$|$} & \\textbf{[0.025} & \\textbf{0.975]}  \\\\\n\\midrule\n\\textbf{Intercept} &      29.4845  &        7.837     &     3.762  &         0.000        &       13.886    &       45.083     \\\\\n\\textbf{x1}        &       0.0870  &        0.146     &     0.595  &         0.554        &       -0.204    &        0.378     \\\\\n\\textbf{x2}        &       0.4005  &        0.074     &     5.432  &         0.000        &        0.254    &        0.547     \\\\\n\\bottomrule\n\\end{tabular}\n\\begin{tabular}{lclc}\n\\textbf{Omnibus:}       &  0.525 & \\textbf{  Durbin-Watson:     } &    1.371  \\\\\n\\textbf{Prob(Omnibus):} &  0.769 & \\textbf{  Jarque-Bera (JB):  } &    0.669  \\\\\n\\textbf{Skew:}          &  0.153 & \\textbf{  Prob(JB):          } &    0.716  \\\\\n\\textbf{Kurtosis:}      &  2.680 & \\textbf{  Cond. No.          } & 1.08e+03  \\\\\n\\bottomrule\n\\end{tabular}\n%\\caption{OLS Regression Results}\n\\end{center}\n\nNotes: \\newline\n [1] Standard Errors assume that the covariance matrix of the errors is correctly specified. \\newline\n [2] The condition number is large, 1.08e+03. This might indicate that there are \\newline\n strong multicollinearity or other numerical problems."
          },
          "metadata": {},
          "execution_count": 12
        }
      ],
      "source": [
        "# define the multiple linear regression model\n",
        "mod = ols(formula = 'estim ~ x1 + x2', data= df[df1])\n",
        "\n",
        "# fit to data\n",
        "res = mod.fit()\n",
        "\n",
        "# print the summary\n",
        "res.summary()"
      ]
    },
    {
      "cell_type": "markdown",
      "metadata": {
        "id": "4dZPVfXYX-VB"
      },
      "source": [
        "**Plot the value of the weights for the two stimuli as a bar plot (with standard error as error bars).** The value of the weights (starting with the intercept) can be accessed through `res.params[:]`, while the standard errors are called by `res.bse[:]`,"
      ]
    },
    {
      "cell_type": "code",
      "execution_count": 13,
      "metadata": {
        "colab": {
          "base_uri": "https://localhost:8080/",
          "height": 0
        },
        "id": "8ecH8p2eX-VC",
        "outputId": "6561cd2f-0f63-47ef-e014-39f34f7584bc"
      },
      "outputs": [
        {
          "output_type": "display_data",
          "data": {
            "text/plain": [
              "<Figure size 640x480 with 1 Axes>"
            ],
            "image/png": "[encoded data removed]"
          },
          "metadata": {}
        }
      ],
      "source": [
        "#creat figure\n",
        "plt.figure()\n",
        "\n",
        "# add bar plot with weights of the first and second stimulus\n",
        "plt.bar(range(2),res.params[1:])\n",
        "\n",
        "# add error bars with standard error of these weights\n",
        "plt.errorbar(range(2), res.params[1:], res.bse[1:],  fmt='k',linestyle='None');\n",
        "\n",
        "# add tick and axes labels\n",
        "plt.xticks(range(2), ['x1', 'x2']);\n",
        "plt.ylabel('coefficients');"
      ]
    },
    {
      "cell_type": "markdown",
      "metadata": {
        "id": "T0V38xp-X-VC"
      },
      "source": [
        "**What do you conclude?**"
      ]
    },
    {
      "cell_type": "markdown",
      "metadata": {
        "id": "u9UJw6DQX-VC"
      },
      "source": [
        "Here, stimulus condition 2 (x2)' coefficient is much greater than x1, reflecting subject's final decision is more affected by the stimulus 2. Also, error bars  do not overlap. This suggests the difference of two conditions are statistically significant, eliminating the possibility of results being by chance."
      ]
    },
    {
      "cell_type": "markdown",
      "metadata": {
        "id": "ol_y5at6X-VC"
      },
      "source": [
        "At this stage we will make a rapid change in the definition of the variables to ease the following analyses, using 50 as the reference point as it was used in the experiment. We will change $x_1$ to $x_1-50$ so that a positive value indicates evidence towards large mean (>50) and a negative value indicates evidence towards low mean (<50). This is done in the code below. Then we can pass the same analysis again and check that it actually does not change anything to the stimulus weights! (Although it does change the intercept)"
      ]
    },
    {
      "cell_type": "code",
      "execution_count": 14,
      "metadata": {
        "colab": {
          "base_uri": "https://localhost:8080/",
          "height": 0
        },
        "id": "0RpusecWX-VC",
        "outputId": "98b2b18a-96e8-4439-e509-c8af6b06165f"
      },
      "outputs": [
        {
          "output_type": "execute_result",
          "data": {
            "text/plain": [
              "      x1  binchoice      x2    xavg  estim  subj\n",
              "0 -4.625         -1  -8.375 -6.5000     44     1\n",
              "1 -2.500          1 -11.375 -6.9375     41     1\n",
              "2 -2.250          1   7.500  2.6250     54     1\n",
              "3 -3.375         -1 -11.625 -7.5000     40     1\n",
              "4 -2.750         -1  -8.625 -5.6875     45     1"
            ],
            "text/html": [
              "\n",
              "  <div id=\"df-af5ca942-9b3f-429d-9b9b-e20f2baca347\" class=\"colab-df-container\">\n",
              "    <div>\n",
              "<style scoped>\n",
              "    .dataframe tbody tr th:only-of-type {\n",
              "        vertical-align: middle;\n",
              "    }\n",
              "\n",
              "    .dataframe tbody tr th {\n",
              "        vertical-align: top;\n",
              "    }\n",
              "\n",
              "    .dataframe thead th {\n",
              "        text-align: right;\n",
              "    }\n",
              "</style>\n",
              "<table border=\"1\" class=\"dataframe\">\n",
              "  <thead>\n",
              "    <tr style=\"text-align: right;\">\n",
              "      <th></th>\n",
              "      <th>x1</th>\n",
              "      <th>binchoice</th>\n",
              "      <th>x2</th>\n",
              "      <th>xavg</th>\n",
              "      <th>estim</th>\n",
              "      <th>subj</th>\n",
              "    </tr>\n",
              "  </thead>\n",
              "  <tbody>\n",
              "    <tr>\n",
              "      <th>0</th>\n",
              "      <td>-4.625</td>\n",
              "      <td>-1</td>\n",
              "      <td>-8.375</td>\n",
              "      <td>-6.5000</td>\n",
              "      <td>44</td>\n",
              "      <td>1</td>\n",
              "    </tr>\n",
              "    <tr>\n",
              "      <th>1</th>\n",
              "      <td>-2.500</td>\n",
              "      <td>1</td>\n",
              "      <td>-11.375</td>\n",
              "      <td>-6.9375</td>\n",
              "      <td>41</td>\n",
              "      <td>1</td>\n",
              "    </tr>\n",
              "    <tr>\n",
              "      <th>2</th>\n",
              "      <td>-2.250</td>\n",
              "      <td>1</td>\n",
              "      <td>7.500</td>\n",
              "      <td>2.6250</td>\n",
              "      <td>54</td>\n",
              "      <td>1</td>\n",
              "    </tr>\n",
              "    <tr>\n",
              "      <th>3</th>\n",
              "      <td>-3.375</td>\n",
              "      <td>-1</td>\n",
              "      <td>-11.625</td>\n",
              "      <td>-7.5000</td>\n",
              "      <td>40</td>\n",
              "      <td>1</td>\n",
              "    </tr>\n",
              "    <tr>\n",
              "      <th>4</th>\n",
              "      <td>-2.750</td>\n",
              "      <td>-1</td>\n",
              "      <td>-8.625</td>\n",
              "      <td>-5.6875</td>\n",
              "      <td>45</td>\n",
              "      <td>1</td>\n",
              "    </tr>\n",
              "  </tbody>\n",
              "</table>\n",
              "</div>\n",
              "    <div class=\"colab-df-buttons\">\n",
              "\n",
              "  <div class=\"colab-df-container\">\n",
              "    <button class=\"colab-df-convert\" onclick=\"convertToInteractive('df-af5ca942-9b3f-429d-9b9b-e20f2baca347')\"\n",
              "            title=\"Convert this dataframe to an interactive table.\"\n",
              "            style=\"display:none;\">\n",
              "\n",
              "  <svg xmlns=\"http://www.w3.org/2000/svg\" height=\"24px\" viewBox=\"0 -960 960 960\">\n",
              "    <path d=\"M120-120v-720h720v720H120Zm60-500h600v-160H180v160Zm220 220h160v-160H400v160Zm0 220h160v-160H400v160ZM180-400h160v-160H180v160Zm440 0h160v-160H620v160ZM180-180h160v-160H180v160Zm440 0h160v-160H620v160Z\"/>\n",
              "  </svg>\n",
              "    </button>\n",
              "\n",
              "  <style>\n",
              "    .colab-df-container {\n",
              "      display:flex;\n",
              "      gap: 12px;\n",
              "    }\n",
              "\n",
              "    .colab-df-convert {\n",
              "      background-color: #E8F0FE;\n",
              "      border: none;\n",
              "      border-radius: 50%;\n",
              "      cursor: pointer;\n",
              "      display: none;\n",
              "      fill: #1967D2;\n",
              "      height: 32px;\n",
              "      padding: 0 0 0 0;\n",
              "      width: 32px;\n",
              "    }\n",
              "\n",
              "    .colab-df-convert:hover {\n",
              "      background-color: #E2EBFA;\n",
              "      box-shadow: 0px 1px 2px rgba(60, 64, 67, 0.3), 0px 1px 3px 1px rgba(60, 64, 67, 0.15);\n",
              "      fill: #174EA6;\n",
              "    }\n",
              "\n",
              "    .colab-df-buttons div {\n",
              "      margin-bottom: 4px;\n",
              "    }\n",
              "\n",
              "    [theme=dark] .colab-df-convert {\n",
              "      background-color: #3B4455;\n",
              "      fill: #D2E3FC;\n",
              "    }\n",
              "\n",
              "    [theme=dark] .colab-df-convert:hover {\n",
              "      background-color: #434B5C;\n",
              "      box-shadow: 0px 1px 3px 1px rgba(0, 0, 0, 0.15);\n",
              "      filter: drop-shadow(0px 1px 2px rgba(0, 0, 0, 0.3));\n",
              "      fill: #FFFFFF;\n",
              "    }\n",
              "  </style>\n",
              "\n",
              "    <script>\n",
              "      const buttonEl =\n",
              "        document.querySelector('#df-af5ca942-9b3f-429d-9b9b-e20f2baca347 button.colab-df-convert');\n",
              "      buttonEl.style.display =\n",
              "        google.colab.kernel.accessAllowed ? 'block' : 'none';\n",
              "\n",
              "      async function convertToInteractive(key) {\n",
              "        const element = document.querySelector('#df-af5ca942-9b3f-429d-9b9b-e20f2baca347');\n",
              "        const dataTable =\n",
              "          await google.colab.kernel.invokeFunction('convertToInteractive',\n",
              "                                                    [key], {});\n",
              "        if (!dataTable) return;\n",
              "\n",
              "        const docLinkHtml = 'Like what you see? Visit the ' +\n",
              "          '<a target=\"_blank\" href=https://colab.research.google.com/notebooks/data_table.ipynb>data table notebook</a>'\n",
              "          + ' to learn more about interactive tables.';\n",
              "        element.innerHTML = '';\n",
              "        dataTable['output_type'] = 'display_data';\n",
              "        await google.colab.output.renderOutput(dataTable, element);\n",
              "        const docLink = document.createElement('div');\n",
              "        docLink.innerHTML = docLinkHtml;\n",
              "        element.appendChild(docLink);\n",
              "      }\n",
              "    </script>\n",
              "  </div>\n",
              "\n",
              "\n",
              "    <div id=\"df-039160e7-bfa8-4823-8da1-bfdadb86d6fb\">\n",
              "      <button class=\"colab-df-quickchart\" onclick=\"quickchart('df-039160e7-bfa8-4823-8da1-bfdadb86d6fb')\"\n",
              "                title=\"Suggest charts\"\n",
              "                style=\"display:none;\">\n",
              "\n",
              "<svg xmlns=\"http://www.w3.org/2000/svg\" height=\"24px\"viewBox=\"0 0 24 24\"\n",
              "     width=\"24px\">\n",
              "    <g>\n",
              "        <path d=\"M19 3H5c-1.1 0-2 .9-2 2v14c0 1.1.9 2 2 2h14c1.1 0 2-.9 2-2V5c0-1.1-.9-2-2-2zM9 17H7v-7h2v7zm4 0h-2V7h2v10zm4 0h-2v-4h2v4z\"/>\n",
              "    </g>\n",
              "</svg>\n",
              "      </button>\n",
              "\n",
              "<style>\n",
              "  .colab-df-quickchart {\n",
              "      --bg-color: #E8F0FE;\n",
              "      --fill-color: #1967D2;\n",
              "      --hover-bg-color: #E2EBFA;\n",
              "      --hover-fill-color: #174EA6;\n",
              "      --disabled-fill-color: #AAA;\n",
              "      --disabled-bg-color: #DDD;\n",
              "  }\n",
              "\n",
              "  [theme=dark] .colab-df-quickchart {\n",
              "      --bg-color: #3B4455;\n",
              "      --fill-color: #D2E3FC;\n",
              "      --hover-bg-color: #434B5C;\n",
              "      --hover-fill-color: #FFFFFF;\n",
              "      --disabled-bg-color: #3B4455;\n",
              "      --disabled-fill-color: #666;\n",
              "  }\n",
              "\n",
              "  .colab-df-quickchart {\n",
              "    background-color: var(--bg-color);\n",
              "    border: none;\n",
              "    border-radius: 50%;\n",
              "    cursor: pointer;\n",
              "    display: none;\n",
              "    fill: var(--fill-color);\n",
              "    height: 32px;\n",
              "    padding: 0;\n",
              "    width: 32px;\n",
              "  }\n",
              "\n",
              "  .colab-df-quickchart:hover {\n",
              "    background-color: var(--hover-bg-color);\n",
              "    box-shadow: 0 1px 2px rgba(60, 64, 67, 0.3), 0 1px 3px 1px rgba(60, 64, 67, 0.15);\n",
              "    fill: var(--button-hover-fill-color);\n",
              "  }\n",
              "\n",
              "  .colab-df-quickchart-complete:disabled,\n",
              "  .colab-df-quickchart-complete:disabled:hover {\n",
              "    background-color: var(--disabled-bg-color);\n",
              "    fill: var(--disabled-fill-color);\n",
              "    box-shadow: none;\n",
              "  }\n",
              "\n",
              "  .colab-df-spinner {\n",
              "    border: 2px solid var(--fill-color);\n",
              "    border-color: transparent;\n",
              "    border-bottom-color: var(--fill-color);\n",
              "    animation:\n",
              "      spin 1s steps(1) infinite;\n",
              "  }\n",
              "\n",
              "  @keyframes spin {\n",
              "    0% {\n",
              "      border-color: transparent;\n",
              "      border-bottom-color: var(--fill-color);\n",
              "      border-left-color: var(--fill-color);\n",
              "    }\n",
              "    20% {\n",
              "      border-color: transparent;\n",
              "      border-left-color: var(--fill-color);\n",
              "      border-top-color: var(--fill-color);\n",
              "    }\n",
              "    30% {\n",
              "      border-color: transparent;\n",
              "      border-left-color: var(--fill-color);\n",
              "      border-top-color: var(--fill-color);\n",
              "      border-right-color: var(--fill-color);\n",
              "    }\n",
              "    40% {\n",
              "      border-color: transparent;\n",
              "      border-right-color: var(--fill-color);\n",
              "      border-top-color: var(--fill-color);\n",
              "    }\n",
              "    60% {\n",
              "      border-color: transparent;\n",
              "      border-right-color: var(--fill-color);\n",
              "    }\n",
              "    80% {\n",
              "      border-color: transparent;\n",
              "      border-right-color: var(--fill-color);\n",
              "      border-bottom-color: var(--fill-color);\n",
              "    }\n",
              "    90% {\n",
              "      border-color: transparent;\n",
              "      border-bottom-color: var(--fill-color);\n",
              "    }\n",
              "  }\n",
              "</style>\n",
              "\n",
              "      <script>\n",
              "        async function quickchart(key) {\n",
              "          const quickchartButtonEl =\n",
              "            document.querySelector('#' + key + ' button');\n",
              "          quickchartButtonEl.disabled = true;  // To prevent multiple clicks.\n",
              "          quickchartButtonEl.classList.add('colab-df-spinner');\n",
              "          try {\n",
              "            const charts = await google.colab.kernel.invokeFunction(\n",
              "                'suggestCharts', [key], {});\n",
              "          } catch (error) {\n",
              "            console.error('Error during call to suggestCharts:', error);\n",
              "          }\n",
              "          quickchartButtonEl.classList.remove('colab-df-spinner');\n",
              "          quickchartButtonEl.classList.add('colab-df-quickchart-complete');\n",
              "        }\n",
              "        (() => {\n",
              "          let quickchartButtonEl =\n",
              "            document.querySelector('#df-039160e7-bfa8-4823-8da1-bfdadb86d6fb button');\n",
              "          quickchartButtonEl.style.display =\n",
              "            google.colab.kernel.accessAllowed ? 'block' : 'none';\n",
              "        })();\n",
              "      </script>\n",
              "    </div>\n",
              "\n",
              "    </div>\n",
              "  </div>\n"
            ],
            "application/vnd.google.colaboratory.intrinsic+json": {
              "type": "dataframe",
              "variable_name": "df",
              "summary": "{\n  \"name\": \"df\",\n  \"rows\": 1738,\n  \"fields\": [\n    {\n      \"column\": \"x1\",\n      \"properties\": {\n        \"dtype\": \"number\",\n        \"std\": 3.5428135338669704,\n        \"min\": -5.75,\n        \"max\": 5.375,\n        \"num_unique_values\": 49,\n        \"samples\": [\n          -4.5,\n          -2.625,\n          0.5\n        ],\n        \"semantic_type\": \"\",\n        \"description\": \"\"\n      }\n    },\n    {\n      \"column\": \"binchoice\",\n      \"properties\": {\n        \"dtype\": \"number\",\n        \"std\": 0,\n        \"min\": -1,\n        \"max\": 1,\n        \"num_unique_values\": 2,\n        \"samples\": [\n          1,\n          -1\n        ],\n        \"semantic_type\": \"\",\n        \"description\": \"\"\n      }\n    },\n    {\n      \"column\": \"x2\",\n      \"properties\": {\n        \"dtype\": \"number\",\n        \"std\": 7.059139895181619,\n        \"min\": -12.375,\n        \"max\": 12.5,\n        \"num_unique_values\": 77,\n        \"samples\": [\n          -8.625,\n          10.625\n        ],\n        \"semantic_type\": \"\",\n        \"description\": \"\"\n      }\n    },\n    {\n      \"column\": \"xavg\",\n      \"properties\": {\n        \"dtype\": \"number\",\n        \"std\": 4.123763788071366,\n        \"min\": -9.0,\n        \"max\": 8.0625,\n        \"num_unique_values\": 71,\n        \"samples\": [\n          1.25,\n          -6.5\n        ],\n        \"semantic_type\": \"\",\n        \"description\": \"\"\n      }\n    },\n    {\n      \"column\": \"estim\",\n      \"properties\": {\n        \"dtype\": \"number\",\n        \"std\": 6,\n        \"min\": 27,\n        \"max\": 73,\n        \"num_unique_values\": 42,\n        \"samples\": [\n          38,\n          61\n        ],\n        \"semantic_type\": \"\",\n        \"description\": \"\"\n      }\n    },\n    {\n      \"column\": \"subj\",\n      \"properties\": {\n        \"dtype\": \"number\",\n        \"std\": 6,\n        \"min\": 1,\n        \"max\": 21,\n        \"num_unique_values\": 21,\n        \"samples\": [\n          1,\n          18\n        ],\n        \"semantic_type\": \"\",\n        \"description\": \"\"\n      }\n    }\n  ]\n}"
            }
          },
          "metadata": {},
          "execution_count": 14
        }
      ],
      "source": [
        "# use 50 as reference point\n",
        "df.x1 = df.x1 - 50\n",
        "df.x2 = df.x2 - 50\n",
        "df.xavg = df.xavg - 50\n",
        "df.head()"
      ]
    },
    {
      "cell_type": "code",
      "execution_count": 15,
      "metadata": {
        "colab": {
          "base_uri": "https://localhost:8080/",
          "height": 0
        },
        "id": "V14QA8fxX-VC",
        "outputId": "13f5ccbd-7d0b-4e04-84dd-b94e73f5ce08"
      },
      "outputs": [
        {
          "output_type": "execute_result",
          "data": {
            "text/plain": [
              "<class 'statsmodels.iolib.summary.Summary'>\n",
              "\"\"\"\n",
              "                            OLS Regression Results                            \n",
              "==============================================================================\n",
              "Dep. Variable:                  estim   R-squared:                       0.281\n",
              "Model:                            OLS   Adj. R-squared:                  0.263\n",
              "Method:                 Least Squares   F-statistic:                     15.46\n",
              "Date:                Sun, 19 Oct 2025   Prob (F-statistic):           2.15e-06\n",
              "Time:                        18:31:00   Log-Likelihood:                -241.96\n",
              "No. Observations:                  82   AIC:                             489.9\n",
              "Df Residuals:                      79   BIC:                             497.1\n",
              "Df Model:                           2                                         \n",
              "Covariance Type:            nonrobust                                         \n",
              "==============================================================================\n",
              "                 coef    std err          t      P>|t|      [0.025      0.975]\n",
              "------------------------------------------------------------------------------\n",
              "Intercept     53.8585      0.541     99.593      0.000      52.782      54.935\n",
              "x1             0.0870      0.146      0.595      0.554      -0.204       0.378\n",
              "x2             0.4005      0.074      5.432      0.000       0.254       0.547\n",
              "==============================================================================\n",
              "Omnibus:                        0.525   Durbin-Watson:                   1.371\n",
              "Prob(Omnibus):                  0.769   Jarque-Bera (JB):                0.669\n",
              "Skew:                           0.153   Prob(JB):                        0.716\n",
              "Kurtosis:                       2.680   Cond. No.                         7.61\n",
              "==============================================================================\n",
              "\n",
              "Notes:\n",
              "[1] Standard Errors assume that the covariance matrix of the errors is correctly specified.\n",
              "\"\"\""
            ],
            "text/html": [
              "<table class=\"simpletable\">\n",
              "<caption>OLS Regression Results</caption>\n",
              "<tr>\n",
              "  <th>Dep. Variable:</th>          <td>estim</td>      <th>  R-squared:         </th> <td>   0.281</td>\n",
              "</tr>\n",
              "<tr>\n",
              "  <th>Model:</th>                   <td>OLS</td>       <th>  Adj. R-squared:    </th> <td>   0.263</td>\n",
              "</tr>\n",
              "<tr>\n",
              "  <th>Method:</th>             <td>Least Squares</td>  <th>  F-statistic:       </th> <td>   15.46</td>\n",
              "</tr>\n",
              "<tr>\n",
              "  <th>Date:</th>             <td>Sun, 19 Oct 2025</td> <th>  Prob (F-statistic):</th> <td>2.15e-06</td>\n",
              "</tr>\n",
              "<tr>\n",
              "  <th>Time:</th>                 <td>18:31:00</td>     <th>  Log-Likelihood:    </th> <td> -241.96</td>\n",
              "</tr>\n",
              "<tr>\n",
              "  <th>No. Observations:</th>      <td>    82</td>      <th>  AIC:               </th> <td>   489.9</td>\n",
              "</tr>\n",
              "<tr>\n",
              "  <th>Df Residuals:</th>          <td>    79</td>      <th>  BIC:               </th> <td>   497.1</td>\n",
              "</tr>\n",
              "<tr>\n",
              "  <th>Df Model:</th>              <td>     2</td>      <th>                     </th>     <td> </td>   \n",
              "</tr>\n",
              "<tr>\n",
              "  <th>Covariance Type:</th>      <td>nonrobust</td>    <th>                     </th>     <td> </td>   \n",
              "</tr>\n",
              "</table>\n",
              "<table class=\"simpletable\">\n",
              "<tr>\n",
              "      <td></td>         <th>coef</th>     <th>std err</th>      <th>t</th>      <th>P>|t|</th>  <th>[0.025</th>    <th>0.975]</th>  \n",
              "</tr>\n",
              "<tr>\n",
              "  <th>Intercept</th> <td>   53.8585</td> <td>    0.541</td> <td>   99.593</td> <td> 0.000</td> <td>   52.782</td> <td>   54.935</td>\n",
              "</tr>\n",
              "<tr>\n",
              "  <th>x1</th>        <td>    0.0870</td> <td>    0.146</td> <td>    0.595</td> <td> 0.554</td> <td>   -0.204</td> <td>    0.378</td>\n",
              "</tr>\n",
              "<tr>\n",
              "  <th>x2</th>        <td>    0.4005</td> <td>    0.074</td> <td>    5.432</td> <td> 0.000</td> <td>    0.254</td> <td>    0.547</td>\n",
              "</tr>\n",
              "</table>\n",
              "<table class=\"simpletable\">\n",
              "<tr>\n",
              "  <th>Omnibus:</th>       <td> 0.525</td> <th>  Durbin-Watson:     </th> <td>   1.371</td>\n",
              "</tr>\n",
              "<tr>\n",
              "  <th>Prob(Omnibus):</th> <td> 0.769</td> <th>  Jarque-Bera (JB):  </th> <td>   0.669</td>\n",
              "</tr>\n",
              "<tr>\n",
              "  <th>Skew:</th>          <td> 0.153</td> <th>  Prob(JB):          </th> <td>   0.716</td>\n",
              "</tr>\n",
              "<tr>\n",
              "  <th>Kurtosis:</th>      <td> 2.680</td> <th>  Cond. No.          </th> <td>    7.61</td>\n",
              "</tr>\n",
              "</table><br/><br/>Notes:<br/>[1] Standard Errors assume that the covariance matrix of the errors is correctly specified."
            ],
            "text/latex": "\\begin{center}\n\\begin{tabular}{lclc}\n\\toprule\n\\textbf{Dep. Variable:}    &      estim       & \\textbf{  R-squared:         } &     0.281   \\\\\n\\textbf{Model:}            &       OLS        & \\textbf{  Adj. R-squared:    } &     0.263   \\\\\n\\textbf{Method:}           &  Least Squares   & \\textbf{  F-statistic:       } &     15.46   \\\\\n\\textbf{Date:}             & Sun, 19 Oct 2025 & \\textbf{  Prob (F-statistic):} &  2.15e-06   \\\\\n\\textbf{Time:}             &     18:31:00     & \\textbf{  Log-Likelihood:    } &   -241.96   \\\\\n\\textbf{No. Observations:} &          82      & \\textbf{  AIC:               } &     489.9   \\\\\n\\textbf{Df Residuals:}     &          79      & \\textbf{  BIC:               } &     497.1   \\\\\n\\textbf{Df Model:}         &           2      & \\textbf{                     } &             \\\\\n\\textbf{Covariance Type:}  &    nonrobust     & \\textbf{                     } &             \\\\\n\\bottomrule\n\\end{tabular}\n\\begin{tabular}{lcccccc}\n                   & \\textbf{coef} & \\textbf{std err} & \\textbf{t} & \\textbf{P$> |$t$|$} & \\textbf{[0.025} & \\textbf{0.975]}  \\\\\n\\midrule\n\\textbf{Intercept} &      53.8585  &        0.541     &    99.593  &         0.000        &       52.782    &       54.935     \\\\\n\\textbf{x1}        &       0.0870  &        0.146     &     0.595  &         0.554        &       -0.204    &        0.378     \\\\\n\\textbf{x2}        &       0.4005  &        0.074     &     5.432  &         0.000        &        0.254    &        0.547     \\\\\n\\bottomrule\n\\end{tabular}\n\\begin{tabular}{lclc}\n\\textbf{Omnibus:}       &  0.525 & \\textbf{  Durbin-Watson:     } &    1.371  \\\\\n\\textbf{Prob(Omnibus):} &  0.769 & \\textbf{  Jarque-Bera (JB):  } &    0.669  \\\\\n\\textbf{Skew:}          &  0.153 & \\textbf{  Prob(JB):          } &    0.716  \\\\\n\\textbf{Kurtosis:}      &  2.680 & \\textbf{  Cond. No.          } &     7.61  \\\\\n\\bottomrule\n\\end{tabular}\n%\\caption{OLS Regression Results}\n\\end{center}\n\nNotes: \\newline\n [1] Standard Errors assume that the covariance matrix of the errors is correctly specified."
          },
          "metadata": {},
          "execution_count": 15
        }
      ],
      "source": [
        "# dataframe for first subject\n",
        "df1 = df[df.subj==1]\n",
        "\n",
        "# re-define the multiple linear regression model\n",
        "mod = ols(formula = 'estim ~ x1 + x2', data=df1)\n",
        "\n",
        "# fit to data again\n",
        "res = mod.fit()\n",
        "\n",
        "# print the summary\n",
        "res.summary()"
      ]
    },
    {
      "cell_type": "markdown",
      "metadata": {
        "id": "Un6ibZH2X-VC"
      },
      "source": [
        "## 3. Population analysis\n",
        "OK, this was just one subject. When we look for an effect in the general population, we use a two-level analysis:\n",
        "* 1) Fit the linear regression model for each subject, separately\n",
        "* 2) Compare the distribution of weights across subjects (e.g. with t-tests)\n",
        "\n",
        "**Use this two-level approach.** First, fit the same regression analysis for all subjects separately (with the two stimuli as regressors) and store the weights of all subjects. Then, plot the average value (across subjects) of the weights for stimulus 1 and stimulus 2 as a bar plot, with individual lines for the weights of individual subjects."
      ]
    },
    {
      "cell_type": "code",
      "execution_count": 16,
      "metadata": {
        "scrolled": true,
        "colab": {
          "base_uri": "https://localhost:8080/",
          "height": 449
        },
        "id": "NkxRadQJX-VC",
        "outputId": "b6ec997e-70fc-44d9-c66c-0349eb4bd663"
      },
      "outputs": [
        {
          "output_type": "display_data",
          "data": {
            "text/plain": [
              "<Figure size 640x480 with 1 Axes>"
            ],
            "image/png": "[encoded data removed]"
          },
          "metadata": {}
        }
      ],
      "source": [
        "#define numpy array where we will store the weights for all subjects (how many weights per subject?)\n",
        "pars = np.zeros((len(subjects),3))\n",
        "\n",
        "# loop through all subjects\n",
        "for i,s in enumerate(subjects):\n",
        "\n",
        "    # dataframe with data only for the corresponding subject\n",
        "    df_subj = df[df['subj']==s]\n",
        "\n",
        "    # define the corresponding model\n",
        "    mod = ols(formula = 'estim ~ x1 + x2', data=df_subj)\n",
        "\n",
        "    # fit the model\n",
        "    res = mod.fit()\n",
        "\n",
        "    # add the model weights to the array\n",
        "    pars[i,:] = res.params\n",
        "\n",
        "\n",
        "# compute the mean of all weights across subjects (axis defines if we average over rows or columns)\n",
        "mean_weights = np.mean(pars,axis=0)\n",
        "\n",
        "# create figure\n",
        "plt.figure;\n",
        "\n",
        "# bar plot for mean weights for stimulus 1 and 2\n",
        "plt.bar(range(2),mean_weights[1:]);\n",
        "\n",
        "# add grey lines for weights of individual subjects\n",
        "for i in range(len(subjects)):\n",
        "    plt.plot(range(2),pars[i,1:],'grey');\n",
        "\n",
        "# add labels for ticks and axes\n",
        "plt.xticks(range(2),('x1', 'x2'));\n",
        "plt.xlabel(\"stimulus\");\n",
        "plt.ylabel(\"weight\");"
      ]
    },
    {
      "cell_type": "markdown",
      "metadata": {
        "id": "bfE9tgEiX-VC"
      },
      "source": [
        "Now, **test formally whether there is a statistical difference across the population by using a *paired* t-test**. This is paired because for each subject we have a value for both distributions, that of the first and second stimulus weights. Paired t-tests are performed using `stats.ttest_rel`."
      ]
    },
    {
      "cell_type": "code",
      "execution_count": 17,
      "metadata": {
        "colab": {
          "base_uri": "https://localhost:8080/"
        },
        "id": "6NPNYs7fX-VC",
        "outputId": "dff05324-4de5-4c6b-b27a-a287bece7017"
      },
      "outputs": [
        {
          "output_type": "execute_result",
          "data": {
            "text/plain": [
              "TtestResult(statistic=np.float64(-2.1380748970935217), pvalue=np.float64(0.04503993674223998), df=np.int64(20))"
            ]
          },
          "metadata": {},
          "execution_count": 17
        }
      ],
      "source": [
        "# Importing library\n",
        "import scipy.stats as stats\n",
        "\n",
        "# Performing the paired sample t-test\n",
        "stats.ttest_rel(pars[:,1], pars[:,2])"
      ]
    },
    {
      "cell_type": "markdown",
      "metadata": {
        "id": "benGqmBJX-VC"
      },
      "source": [
        "**What do you conclude?**"
      ]
    },
    {
      "cell_type": "markdown",
      "metadata": {
        "id": "Rd3ArzEeX-VC"
      },
      "source": [
        "The p value <0.045 suggests statistically significant difference for two stimulus conditions. Therefore, we can reject H0. The t-test value of -2.18 indicates x2 is significantly greater for x1, where the participants is more influenced by the second stimulus when making their final decision.\n"
      ]
    },
    {
      "cell_type": "markdown",
      "metadata": {
        "id": "HGWwAAt5X-VC"
      },
      "source": [
        "## 3. Testing the confirmation bias\n",
        "We are now finally in a position to test the central hypothesis of the experiment: that the intermediate choice biases the perception of the subsequent stimulus, such that this second stimulus will have a larger weight on the final report if is consistent with the intermediate choice than if it is inconsistent. Take some time to make sure you get this, because now we will want to put this in a (simple) equation.\n",
        "But first, let's **define a boolean array for this consistency and add it to the dataframe**. The value of the array should be true if the sign of `binchoice` is the same as that of $x2$ (i.e. if they are both positive, it means that the subject responded \">50\" at the intermediate choice, and that the mean of the second stimulus is above 50), false otherwise. Check that you did good.\n",
        "\n",
        "Qs to test: is the weight on consistent trials larger than on inconsistent trials?"
      ]
    },
    {
      "cell_type": "code",
      "execution_count": 18,
      "metadata": {
        "scrolled": true,
        "colab": {
          "base_uri": "https://localhost:8080/",
          "height": 206
        },
        "id": "DdbjUXXFX-VC",
        "outputId": "7f02f247-9f13-4eda-f249-6833ec3e33d4"
      },
      "outputs": [
        {
          "output_type": "execute_result",
          "data": {
            "text/plain": [
              "      x1  binchoice      x2    xavg  estim  subj  consistent\n",
              "0 -4.625         -1  -8.375 -6.5000     44     1        True\n",
              "1 -2.500          1 -11.375 -6.9375     41     1       False\n",
              "2 -2.250          1   7.500  2.6250     54     1        True\n",
              "3 -3.375         -1 -11.625 -7.5000     40     1        True\n",
              "4 -2.750         -1  -8.625 -5.6875     45     1        True"
            ],
            "text/html": [
              "\n",
              "  <div id=\"df-033f4216-91b0-4f88-8ce2-5056713261ef\" class=\"colab-df-container\">\n",
              "    <div>\n",
              "<style scoped>\n",
              "    .dataframe tbody tr th:only-of-type {\n",
              "        vertical-align: middle;\n",
              "    }\n",
              "\n",
              "    .dataframe tbody tr th {\n",
              "        vertical-align: top;\n",
              "    }\n",
              "\n",
              "    .dataframe thead th {\n",
              "        text-align: right;\n",
              "    }\n",
              "</style>\n",
              "<table border=\"1\" class=\"dataframe\">\n",
              "  <thead>\n",
              "    <tr style=\"text-align: right;\">\n",
              "      <th></th>\n",
              "      <th>x1</th>\n",
              "      <th>binchoice</th>\n",
              "      <th>x2</th>\n",
              "      <th>xavg</th>\n",
              "      <th>estim</th>\n",
              "      <th>subj</th>\n",
              "      <th>consistent</th>\n",
              "    </tr>\n",
              "  </thead>\n",
              "  <tbody>\n",
              "    <tr>\n",
              "      <th>0</th>\n",
              "      <td>-4.625</td>\n",
              "      <td>-1</td>\n",
              "      <td>-8.375</td>\n",
              "      <td>-6.5000</td>\n",
              "      <td>44</td>\n",
              "      <td>1</td>\n",
              "      <td>True</td>\n",
              "    </tr>\n",
              "    <tr>\n",
              "      <th>1</th>\n",
              "      <td>-2.500</td>\n",
              "      <td>1</td>\n",
              "      <td>-11.375</td>\n",
              "      <td>-6.9375</td>\n",
              "      <td>41</td>\n",
              "      <td>1</td>\n",
              "      <td>False</td>\n",
              "    </tr>\n",
              "    <tr>\n",
              "      <th>2</th>\n",
              "      <td>-2.250</td>\n",
              "      <td>1</td>\n",
              "      <td>7.500</td>\n",
              "      <td>2.6250</td>\n",
              "      <td>54</td>\n",
              "      <td>1</td>\n",
              "      <td>True</td>\n",
              "    </tr>\n",
              "    <tr>\n",
              "      <th>3</th>\n",
              "      <td>-3.375</td>\n",
              "      <td>-1</td>\n",
              "      <td>-11.625</td>\n",
              "      <td>-7.5000</td>\n",
              "      <td>40</td>\n",
              "      <td>1</td>\n",
              "      <td>True</td>\n",
              "    </tr>\n",
              "    <tr>\n",
              "      <th>4</th>\n",
              "      <td>-2.750</td>\n",
              "      <td>-1</td>\n",
              "      <td>-8.625</td>\n",
              "      <td>-5.6875</td>\n",
              "      <td>45</td>\n",
              "      <td>1</td>\n",
              "      <td>True</td>\n",
              "    </tr>\n",
              "  </tbody>\n",
              "</table>\n",
              "</div>\n",
              "    <div class=\"colab-df-buttons\">\n",
              "\n",
              "  <div class=\"colab-df-container\">\n",
              "    <button class=\"colab-df-convert\" onclick=\"convertToInteractive('df-033f4216-91b0-4f88-8ce2-5056713261ef')\"\n",
              "            title=\"Convert this dataframe to an interactive table.\"\n",
              "            style=\"display:none;\">\n",
              "\n",
              "  <svg xmlns=\"http://www.w3.org/2000/svg\" height=\"24px\" viewBox=\"0 -960 960 960\">\n",
              "    <path d=\"M120-120v-720h720v720H120Zm60-500h600v-160H180v160Zm220 220h160v-160H400v160Zm0 220h160v-160H400v160ZM180-400h160v-160H180v160Zm440 0h160v-160H620v160ZM180-180h160v-160H180v160Zm440 0h160v-160H620v160Z\"/>\n",
              "  </svg>\n",
              "    </button>\n",
              "\n",
              "  <style>\n",
              "    .colab-df-container {\n",
              "      display:flex;\n",
              "      gap: 12px;\n",
              "    }\n",
              "\n",
              "    .colab-df-convert {\n",
              "      background-color: #E8F0FE;\n",
              "      border: none;\n",
              "      border-radius: 50%;\n",
              "      cursor: pointer;\n",
              "      display: none;\n",
              "      fill: #1967D2;\n",
              "      height: 32px;\n",
              "      padding: 0 0 0 0;\n",
              "      width: 32px;\n",
              "    }\n",
              "\n",
              "    .colab-df-convert:hover {\n",
              "      background-color: #E2EBFA;\n",
              "      box-shadow: 0px 1px 2px rgba(60, 64, 67, 0.3), 0px 1px 3px 1px rgba(60, 64, 67, 0.15);\n",
              "      fill: #174EA6;\n",
              "    }\n",
              "\n",
              "    .colab-df-buttons div {\n",
              "      margin-bottom: 4px;\n",
              "    }\n",
              "\n",
              "    [theme=dark] .colab-df-convert {\n",
              "      background-color: #3B4455;\n",
              "      fill: #D2E3FC;\n",
              "    }\n",
              "\n",
              "    [theme=dark] .colab-df-convert:hover {\n",
              "      background-color: #434B5C;\n",
              "      box-shadow: 0px 1px 3px 1px rgba(0, 0, 0, 0.15);\n",
              "      filter: drop-shadow(0px 1px 2px rgba(0, 0, 0, 0.3));\n",
              "      fill: #FFFFFF;\n",
              "    }\n",
              "  </style>\n",
              "\n",
              "    <script>\n",
              "      const buttonEl =\n",
              "        document.querySelector('#df-033f4216-91b0-4f88-8ce2-5056713261ef button.colab-df-convert');\n",
              "      buttonEl.style.display =\n",
              "        google.colab.kernel.accessAllowed ? 'block' : 'none';\n",
              "\n",
              "      async function convertToInteractive(key) {\n",
              "        const element = document.querySelector('#df-033f4216-91b0-4f88-8ce2-5056713261ef');\n",
              "        const dataTable =\n",
              "          await google.colab.kernel.invokeFunction('convertToInteractive',\n",
              "                                                    [key], {});\n",
              "        if (!dataTable) return;\n",
              "\n",
              "        const docLinkHtml = 'Like what you see? Visit the ' +\n",
              "          '<a target=\"_blank\" href=https://colab.research.google.com/notebooks/data_table.ipynb>data table notebook</a>'\n",
              "          + ' to learn more about interactive tables.';\n",
              "        element.innerHTML = '';\n",
              "        dataTable['output_type'] = 'display_data';\n",
              "        await google.colab.output.renderOutput(dataTable, element);\n",
              "        const docLink = document.createElement('div');\n",
              "        docLink.innerHTML = docLinkHtml;\n",
              "        element.appendChild(docLink);\n",
              "      }\n",
              "    </script>\n",
              "  </div>\n",
              "\n",
              "\n",
              "    <div id=\"df-cca5e45d-8eab-49fc-ada2-4f35589ace19\">\n",
              "      <button class=\"colab-df-quickchart\" onclick=\"quickchart('df-cca5e45d-8eab-49fc-ada2-4f35589ace19')\"\n",
              "                title=\"Suggest charts\"\n",
              "                style=\"display:none;\">\n",
              "\n",
              "<svg xmlns=\"http://www.w3.org/2000/svg\" height=\"24px\"viewBox=\"0 0 24 24\"\n",
              "     width=\"24px\">\n",
              "    <g>\n",
              "        <path d=\"M19 3H5c-1.1 0-2 .9-2 2v14c0 1.1.9 2 2 2h14c1.1 0 2-.9 2-2V5c0-1.1-.9-2-2-2zM9 17H7v-7h2v7zm4 0h-2V7h2v10zm4 0h-2v-4h2v4z\"/>\n",
              "    </g>\n",
              "</svg>\n",
              "      </button>\n",
              "\n",
              "<style>\n",
              "  .colab-df-quickchart {\n",
              "      --bg-color: #E8F0FE;\n",
              "      --fill-color: #1967D2;\n",
              "      --hover-bg-color: #E2EBFA;\n",
              "      --hover-fill-color: #174EA6;\n",
              "      --disabled-fill-color: #AAA;\n",
              "      --disabled-bg-color: #DDD;\n",
              "  }\n",
              "\n",
              "  [theme=dark] .colab-df-quickchart {\n",
              "      --bg-color: #3B4455;\n",
              "      --fill-color: #D2E3FC;\n",
              "      --hover-bg-color: #434B5C;\n",
              "      --hover-fill-color: #FFFFFF;\n",
              "      --disabled-bg-color: #3B4455;\n",
              "      --disabled-fill-color: #666;\n",
              "  }\n",
              "\n",
              "  .colab-df-quickchart {\n",
              "    background-color: var(--bg-color);\n",
              "    border: none;\n",
              "    border-radius: 50%;\n",
              "    cursor: pointer;\n",
              "    display: none;\n",
              "    fill: var(--fill-color);\n",
              "    height: 32px;\n",
              "    padding: 0;\n",
              "    width: 32px;\n",
              "  }\n",
              "\n",
              "  .colab-df-quickchart:hover {\n",
              "    background-color: var(--hover-bg-color);\n",
              "    box-shadow: 0 1px 2px rgba(60, 64, 67, 0.3), 0 1px 3px 1px rgba(60, 64, 67, 0.15);\n",
              "    fill: var(--button-hover-fill-color);\n",
              "  }\n",
              "\n",
              "  .colab-df-quickchart-complete:disabled,\n",
              "  .colab-df-quickchart-complete:disabled:hover {\n",
              "    background-color: var(--disabled-bg-color);\n",
              "    fill: var(--disabled-fill-color);\n",
              "    box-shadow: none;\n",
              "  }\n",
              "\n",
              "  .colab-df-spinner {\n",
              "    border: 2px solid var(--fill-color);\n",
              "    border-color: transparent;\n",
              "    border-bottom-color: var(--fill-color);\n",
              "    animation:\n",
              "      spin 1s steps(1) infinite;\n",
              "  }\n",
              "\n",
              "  @keyframes spin {\n",
              "    0% {\n",
              "      border-color: transparent;\n",
              "      border-bottom-color: var(--fill-color);\n",
              "      border-left-color: var(--fill-color);\n",
              "    }\n",
              "    20% {\n",
              "      border-color: transparent;\n",
              "      border-left-color: var(--fill-color);\n",
              "      border-top-color: var(--fill-color);\n",
              "    }\n",
              "    30% {\n",
              "      border-color: transparent;\n",
              "      border-left-color: var(--fill-color);\n",
              "      border-top-color: var(--fill-color);\n",
              "      border-right-color: var(--fill-color);\n",
              "    }\n",
              "    40% {\n",
              "      border-color: transparent;\n",
              "      border-right-color: var(--fill-color);\n",
              "      border-top-color: var(--fill-color);\n",
              "    }\n",
              "    60% {\n",
              "      border-color: transparent;\n",
              "      border-right-color: var(--fill-color);\n",
              "    }\n",
              "    80% {\n",
              "      border-color: transparent;\n",
              "      border-right-color: var(--fill-color);\n",
              "      border-bottom-color: var(--fill-color);\n",
              "    }\n",
              "    90% {\n",
              "      border-color: transparent;\n",
              "      border-bottom-color: var(--fill-color);\n",
              "    }\n",
              "  }\n",
              "</style>\n",
              "\n",
              "      <script>\n",
              "        async function quickchart(key) {\n",
              "          const quickchartButtonEl =\n",
              "            document.querySelector('#' + key + ' button');\n",
              "          quickchartButtonEl.disabled = true;  // To prevent multiple clicks.\n",
              "          quickchartButtonEl.classList.add('colab-df-spinner');\n",
              "          try {\n",
              "            const charts = await google.colab.kernel.invokeFunction(\n",
              "                'suggestCharts', [key], {});\n",
              "          } catch (error) {\n",
              "            console.error('Error during call to suggestCharts:', error);\n",
              "          }\n",
              "          quickchartButtonEl.classList.remove('colab-df-spinner');\n",
              "          quickchartButtonEl.classList.add('colab-df-quickchart-complete');\n",
              "        }\n",
              "        (() => {\n",
              "          let quickchartButtonEl =\n",
              "            document.querySelector('#df-cca5e45d-8eab-49fc-ada2-4f35589ace19 button');\n",
              "          quickchartButtonEl.style.display =\n",
              "            google.colab.kernel.accessAllowed ? 'block' : 'none';\n",
              "        })();\n",
              "      </script>\n",
              "    </div>\n",
              "\n",
              "    </div>\n",
              "  </div>\n"
            ],
            "application/vnd.google.colaboratory.intrinsic+json": {
              "type": "dataframe",
              "variable_name": "df",
              "summary": "{\n  \"name\": \"df\",\n  \"rows\": 1738,\n  \"fields\": [\n    {\n      \"column\": \"x1\",\n      \"properties\": {\n        \"dtype\": \"number\",\n        \"std\": 3.5428135338669704,\n        \"min\": -5.75,\n        \"max\": 5.375,\n        \"num_unique_values\": 49,\n        \"samples\": [\n          -4.5,\n          -2.625,\n          0.5\n        ],\n        \"semantic_type\": \"\",\n        \"description\": \"\"\n      }\n    },\n    {\n      \"column\": \"binchoice\",\n      \"properties\": {\n        \"dtype\": \"number\",\n        \"std\": 0,\n        \"min\": -1,\n        \"max\": 1,\n        \"num_unique_values\": 2,\n        \"samples\": [\n          1,\n          -1\n        ],\n        \"semantic_type\": \"\",\n        \"description\": \"\"\n      }\n    },\n    {\n      \"column\": \"x2\",\n      \"properties\": {\n        \"dtype\": \"number\",\n        \"std\": 7.059139895181619,\n        \"min\": -12.375,\n        \"max\": 12.5,\n        \"num_unique_values\": 77,\n        \"samples\": [\n          -8.625,\n          10.625\n        ],\n        \"semantic_type\": \"\",\n        \"description\": \"\"\n      }\n    },\n    {\n      \"column\": \"xavg\",\n      \"properties\": {\n        \"dtype\": \"number\",\n        \"std\": 4.123763788071366,\n        \"min\": -9.0,\n        \"max\": 8.0625,\n        \"num_unique_values\": 71,\n        \"samples\": [\n          1.25,\n          -6.5\n        ],\n        \"semantic_type\": \"\",\n        \"description\": \"\"\n      }\n    },\n    {\n      \"column\": \"estim\",\n      \"properties\": {\n        \"dtype\": \"number\",\n        \"std\": 6,\n        \"min\": 27,\n        \"max\": 73,\n        \"num_unique_values\": 42,\n        \"samples\": [\n          38,\n          61\n        ],\n        \"semantic_type\": \"\",\n        \"description\": \"\"\n      }\n    },\n    {\n      \"column\": \"subj\",\n      \"properties\": {\n        \"dtype\": \"number\",\n        \"std\": 6,\n        \"min\": 1,\n        \"max\": 21,\n        \"num_unique_values\": 21,\n        \"samples\": [\n          1,\n          18\n        ],\n        \"semantic_type\": \"\",\n        \"description\": \"\"\n      }\n    },\n    {\n      \"column\": \"consistent\",\n      \"properties\": {\n        \"dtype\": \"boolean\",\n        \"num_unique_values\": 2,\n        \"samples\": [\n          false,\n          true\n        ],\n        \"semantic_type\": \"\",\n        \"description\": \"\"\n      }\n    }\n  ]\n}"
            }
          },
          "metadata": {},
          "execution_count": 18
        }
      ],
      "source": [
        "# sign of x2\n",
        "sgn = np.sign(df.x2)\n",
        "\n",
        "# define boolean array for consistency\n",
        "consistent = np.sign(df.binchoice) == sgn\n",
        "\n",
        "\n",
        "\n",
        "# add to dataframe\n",
        "df['consistent'] = consistent\n",
        "df.head()"
      ]
    },
    {
      "cell_type": "markdown",
      "metadata": {
        "id": "5ig0qAf5X-VC"
      },
      "source": [
        "The previous model (with no impact of the intermediate binary choice on the judgment) can be written as $y = \\beta_0 + \\beta_1 x_1 + \\beta_2 x_2  + \\text{noise}.$\n",
        "How can we change this model to capture a different impact of the second stimulus depending on consistency with the intermediate choice?\n",
        "**Write the equation below** (or equivalently, the definition of the regressors)."
      ]
    },
    {
      "cell_type": "markdown",
      "metadata": {
        "id": "x93SAYA2X-VC"
      },
      "source": [
        "$$y = \\beta_0 + \\beta_1 x_1 + \\beta_2 x_2 + \\beta_3 (x_2 \\times \\text{consistent}) + \\text{noise}$$\n",
        "\n",
        "where the new regressors are:\\\n",
        "\"consistent\" as true or false variables (will be valued as either 0 or 1 depending on the consistent or non-consistent)\\\n",
        "\"interaction\"\n",
        "\\\n",
        "𝛽3 is the parameter that adds extra weight in conditions of consistency  "
      ]
    },
    {
      "cell_type": "markdown",
      "metadata": {
        "id": "th8XyJ6GX-VC"
      },
      "source": [
        "Now **add the two new regressors that you will need in the new regression model as variables to the dataframe.** Again, take some time to make sure on the first lines of the dataframe that the new variables do code what we expect them to code."
      ]
    },
    {
      "cell_type": "code",
      "execution_count": 19,
      "metadata": {
        "colab": {
          "base_uri": "https://localhost:8080/",
          "height": 206
        },
        "id": "PtkPCN3aX-VD",
        "outputId": "4d3c153b-3bf0-47b0-9cfd-1513bea734a9"
      },
      "outputs": [
        {
          "output_type": "execute_result",
          "data": {
            "text/plain": [
              "      x1  binchoice      x2    xavg  estim  subj  consistent  interaction\n",
              "0 -4.625         -1  -8.375 -6.5000     44     1        True       -8.375\n",
              "1 -2.500          1 -11.375 -6.9375     41     1       False       -0.000\n",
              "2 -2.250          1   7.500  2.6250     54     1        True        7.500\n",
              "3 -3.375         -1 -11.625 -7.5000     40     1        True      -11.625\n",
              "4 -2.750         -1  -8.625 -5.6875     45     1        True       -8.625"
            ],
            "text/html": [
              "\n",
              "  <div id=\"df-20c0ac35-9b98-437d-9345-01221adb21ff\" class=\"colab-df-container\">\n",
              "    <div>\n",
              "<style scoped>\n",
              "    .dataframe tbody tr th:only-of-type {\n",
              "        vertical-align: middle;\n",
              "    }\n",
              "\n",
              "    .dataframe tbody tr th {\n",
              "        vertical-align: top;\n",
              "    }\n",
              "\n",
              "    .dataframe thead th {\n",
              "        text-align: right;\n",
              "    }\n",
              "</style>\n",
              "<table border=\"1\" class=\"dataframe\">\n",
              "  <thead>\n",
              "    <tr style=\"text-align: right;\">\n",
              "      <th></th>\n",
              "      <th>x1</th>\n",
              "      <th>binchoice</th>\n",
              "      <th>x2</th>\n",
              "      <th>xavg</th>\n",
              "      <th>estim</th>\n",
              "      <th>subj</th>\n",
              "      <th>consistent</th>\n",
              "      <th>interaction</th>\n",
              "    </tr>\n",
              "  </thead>\n",
              "  <tbody>\n",
              "    <tr>\n",
              "      <th>0</th>\n",
              "      <td>-4.625</td>\n",
              "      <td>-1</td>\n",
              "      <td>-8.375</td>\n",
              "      <td>-6.5000</td>\n",
              "      <td>44</td>\n",
              "      <td>1</td>\n",
              "      <td>True</td>\n",
              "      <td>-8.375</td>\n",
              "    </tr>\n",
              "    <tr>\n",
              "      <th>1</th>\n",
              "      <td>-2.500</td>\n",
              "      <td>1</td>\n",
              "      <td>-11.375</td>\n",
              "      <td>-6.9375</td>\n",
              "      <td>41</td>\n",
              "      <td>1</td>\n",
              "      <td>False</td>\n",
              "      <td>-0.000</td>\n",
              "    </tr>\n",
              "    <tr>\n",
              "      <th>2</th>\n",
              "      <td>-2.250</td>\n",
              "      <td>1</td>\n",
              "      <td>7.500</td>\n",
              "      <td>2.6250</td>\n",
              "      <td>54</td>\n",
              "      <td>1</td>\n",
              "      <td>True</td>\n",
              "      <td>7.500</td>\n",
              "    </tr>\n",
              "    <tr>\n",
              "      <th>3</th>\n",
              "      <td>-3.375</td>\n",
              "      <td>-1</td>\n",
              "      <td>-11.625</td>\n",
              "      <td>-7.5000</td>\n",
              "      <td>40</td>\n",
              "      <td>1</td>\n",
              "      <td>True</td>\n",
              "      <td>-11.625</td>\n",
              "    </tr>\n",
              "    <tr>\n",
              "      <th>4</th>\n",
              "      <td>-2.750</td>\n",
              "      <td>-1</td>\n",
              "      <td>-8.625</td>\n",
              "      <td>-5.6875</td>\n",
              "      <td>45</td>\n",
              "      <td>1</td>\n",
              "      <td>True</td>\n",
              "      <td>-8.625</td>\n",
              "    </tr>\n",
              "  </tbody>\n",
              "</table>\n",
              "</div>\n",
              "    <div class=\"colab-df-buttons\">\n",
              "\n",
              "  <div class=\"colab-df-container\">\n",
              "    <button class=\"colab-df-convert\" onclick=\"convertToInteractive('df-20c0ac35-9b98-437d-9345-01221adb21ff')\"\n",
              "            title=\"Convert this dataframe to an interactive table.\"\n",
              "            style=\"display:none;\">\n",
              "\n",
              "  <svg xmlns=\"http://www.w3.org/2000/svg\" height=\"24px\" viewBox=\"0 -960 960 960\">\n",
              "    <path d=\"M120-120v-720h720v720H120Zm60-500h600v-160H180v160Zm220 220h160v-160H400v160Zm0 220h160v-160H400v160ZM180-400h160v-160H180v160Zm440 0h160v-160H620v160ZM180-180h160v-160H180v160Zm440 0h160v-160H620v160Z\"/>\n",
              "  </svg>\n",
              "    </button>\n",
              "\n",
              "  <style>\n",
              "    .colab-df-container {\n",
              "      display:flex;\n",
              "      gap: 12px;\n",
              "    }\n",
              "\n",
              "    .colab-df-convert {\n",
              "      background-color: #E8F0FE;\n",
              "      border: none;\n",
              "      border-radius: 50%;\n",
              "      cursor: pointer;\n",
              "      display: none;\n",
              "      fill: #1967D2;\n",
              "      height: 32px;\n",
              "      padding: 0 0 0 0;\n",
              "      width: 32px;\n",
              "    }\n",
              "\n",
              "    .colab-df-convert:hover {\n",
              "      background-color: #E2EBFA;\n",
              "      box-shadow: 0px 1px 2px rgba(60, 64, 67, 0.3), 0px 1px 3px 1px rgba(60, 64, 67, 0.15);\n",
              "      fill: #174EA6;\n",
              "    }\n",
              "\n",
              "    .colab-df-buttons div {\n",
              "      margin-bottom: 4px;\n",
              "    }\n",
              "\n",
              "    [theme=dark] .colab-df-convert {\n",
              "      background-color: #3B4455;\n",
              "      fill: #D2E3FC;\n",
              "    }\n",
              "\n",
              "    [theme=dark] .colab-df-convert:hover {\n",
              "      background-color: #434B5C;\n",
              "      box-shadow: 0px 1px 3px 1px rgba(0, 0, 0, 0.15);\n",
              "      filter: drop-shadow(0px 1px 2px rgba(0, 0, 0, 0.3));\n",
              "      fill: #FFFFFF;\n",
              "    }\n",
              "  </style>\n",
              "\n",
              "    <script>\n",
              "      const buttonEl =\n",
              "        document.querySelector('#df-20c0ac35-9b98-437d-9345-01221adb21ff button.colab-df-convert');\n",
              "      buttonEl.style.display =\n",
              "        google.colab.kernel.accessAllowed ? 'block' : 'none';\n",
              "\n",
              "      async function convertToInteractive(key) {\n",
              "        const element = document.querySelector('#df-20c0ac35-9b98-437d-9345-01221adb21ff');\n",
              "        const dataTable =\n",
              "          await google.colab.kernel.invokeFunction('convertToInteractive',\n",
              "                                                    [key], {});\n",
              "        if (!dataTable) return;\n",
              "\n",
              "        const docLinkHtml = 'Like what you see? Visit the ' +\n",
              "          '<a target=\"_blank\" href=https://colab.research.google.com/notebooks/data_table.ipynb>data table notebook</a>'\n",
              "          + ' to learn more about interactive tables.';\n",
              "        element.innerHTML = '';\n",
              "        dataTable['output_type'] = 'display_data';\n",
              "        await google.colab.output.renderOutput(dataTable, element);\n",
              "        const docLink = document.createElement('div');\n",
              "        docLink.innerHTML = docLinkHtml;\n",
              "        element.appendChild(docLink);\n",
              "      }\n",
              "    </script>\n",
              "  </div>\n",
              "\n",
              "\n",
              "    <div id=\"df-f225a8cc-6e69-41b0-8d66-85e6a640bfdd\">\n",
              "      <button class=\"colab-df-quickchart\" onclick=\"quickchart('df-f225a8cc-6e69-41b0-8d66-85e6a640bfdd')\"\n",
              "                title=\"Suggest charts\"\n",
              "                style=\"display:none;\">\n",
              "\n",
              "<svg xmlns=\"http://www.w3.org/2000/svg\" height=\"24px\"viewBox=\"0 0 24 24\"\n",
              "     width=\"24px\">\n",
              "    <g>\n",
              "        <path d=\"M19 3H5c-1.1 0-2 .9-2 2v14c0 1.1.9 2 2 2h14c1.1 0 2-.9 2-2V5c0-1.1-.9-2-2-2zM9 17H7v-7h2v7zm4 0h-2V7h2v10zm4 0h-2v-4h2v4z\"/>\n",
              "    </g>\n",
              "</svg>\n",
              "      </button>\n",
              "\n",
              "<style>\n",
              "  .colab-df-quickchart {\n",
              "      --bg-color: #E8F0FE;\n",
              "      --fill-color: #1967D2;\n",
              "      --hover-bg-color: #E2EBFA;\n",
              "      --hover-fill-color: #174EA6;\n",
              "      --disabled-fill-color: #AAA;\n",
              "      --disabled-bg-color: #DDD;\n",
              "  }\n",
              "\n",
              "  [theme=dark] .colab-df-quickchart {\n",
              "      --bg-color: #3B4455;\n",
              "      --fill-color: #D2E3FC;\n",
              "      --hover-bg-color: #434B5C;\n",
              "      --hover-fill-color: #FFFFFF;\n",
              "      --disabled-bg-color: #3B4455;\n",
              "      --disabled-fill-color: #666;\n",
              "  }\n",
              "\n",
              "  .colab-df-quickchart {\n",
              "    background-color: var(--bg-color);\n",
              "    border: none;\n",
              "    border-radius: 50%;\n",
              "    cursor: pointer;\n",
              "    display: none;\n",
              "    fill: var(--fill-color);\n",
              "    height: 32px;\n",
              "    padding: 0;\n",
              "    width: 32px;\n",
              "  }\n",
              "\n",
              "  .colab-df-quickchart:hover {\n",
              "    background-color: var(--hover-bg-color);\n",
              "    box-shadow: 0 1px 2px rgba(60, 64, 67, 0.3), 0 1px 3px 1px rgba(60, 64, 67, 0.15);\n",
              "    fill: var(--button-hover-fill-color);\n",
              "  }\n",
              "\n",
              "  .colab-df-quickchart-complete:disabled,\n",
              "  .colab-df-quickchart-complete:disabled:hover {\n",
              "    background-color: var(--disabled-bg-color);\n",
              "    fill: var(--disabled-fill-color);\n",
              "    box-shadow: none;\n",
              "  }\n",
              "\n",
              "  .colab-df-spinner {\n",
              "    border: 2px solid var(--fill-color);\n",
              "    border-color: transparent;\n",
              "    border-bottom-color: var(--fill-color);\n",
              "    animation:\n",
              "      spin 1s steps(1) infinite;\n",
              "  }\n",
              "\n",
              "  @keyframes spin {\n",
              "    0% {\n",
              "      border-color: transparent;\n",
              "      border-bottom-color: var(--fill-color);\n",
              "      border-left-color: var(--fill-color);\n",
              "    }\n",
              "    20% {\n",
              "      border-color: transparent;\n",
              "      border-left-color: var(--fill-color);\n",
              "      border-top-color: var(--fill-color);\n",
              "    }\n",
              "    30% {\n",
              "      border-color: transparent;\n",
              "      border-left-color: var(--fill-color);\n",
              "      border-top-color: var(--fill-color);\n",
              "      border-right-color: var(--fill-color);\n",
              "    }\n",
              "    40% {\n",
              "      border-color: transparent;\n",
              "      border-right-color: var(--fill-color);\n",
              "      border-top-color: var(--fill-color);\n",
              "    }\n",
              "    60% {\n",
              "      border-color: transparent;\n",
              "      border-right-color: var(--fill-color);\n",
              "    }\n",
              "    80% {\n",
              "      border-color: transparent;\n",
              "      border-right-color: var(--fill-color);\n",
              "      border-bottom-color: var(--fill-color);\n",
              "    }\n",
              "    90% {\n",
              "      border-color: transparent;\n",
              "      border-bottom-color: var(--fill-color);\n",
              "    }\n",
              "  }\n",
              "</style>\n",
              "\n",
              "      <script>\n",
              "        async function quickchart(key) {\n",
              "          const quickchartButtonEl =\n",
              "            document.querySelector('#' + key + ' button');\n",
              "          quickchartButtonEl.disabled = true;  // To prevent multiple clicks.\n",
              "          quickchartButtonEl.classList.add('colab-df-spinner');\n",
              "          try {\n",
              "            const charts = await google.colab.kernel.invokeFunction(\n",
              "                'suggestCharts', [key], {});\n",
              "          } catch (error) {\n",
              "            console.error('Error during call to suggestCharts:', error);\n",
              "          }\n",
              "          quickchartButtonEl.classList.remove('colab-df-spinner');\n",
              "          quickchartButtonEl.classList.add('colab-df-quickchart-complete');\n",
              "        }\n",
              "        (() => {\n",
              "          let quickchartButtonEl =\n",
              "            document.querySelector('#df-f225a8cc-6e69-41b0-8d66-85e6a640bfdd button');\n",
              "          quickchartButtonEl.style.display =\n",
              "            google.colab.kernel.accessAllowed ? 'block' : 'none';\n",
              "        })();\n",
              "      </script>\n",
              "    </div>\n",
              "\n",
              "    </div>\n",
              "  </div>\n"
            ],
            "application/vnd.google.colaboratory.intrinsic+json": {
              "type": "dataframe",
              "variable_name": "df",
              "summary": "{\n  \"name\": \"df\",\n  \"rows\": 1738,\n  \"fields\": [\n    {\n      \"column\": \"x1\",\n      \"properties\": {\n        \"dtype\": \"number\",\n        \"std\": 3.5428135338669704,\n        \"min\": -5.75,\n        \"max\": 5.375,\n        \"num_unique_values\": 49,\n        \"samples\": [\n          -4.5,\n          -2.625,\n          0.5\n        ],\n        \"semantic_type\": \"\",\n        \"description\": \"\"\n      }\n    },\n    {\n      \"column\": \"binchoice\",\n      \"properties\": {\n        \"dtype\": \"number\",\n        \"std\": 0,\n        \"min\": -1,\n        \"max\": 1,\n        \"num_unique_values\": 2,\n        \"samples\": [\n          1,\n          -1\n        ],\n        \"semantic_type\": \"\",\n        \"description\": \"\"\n      }\n    },\n    {\n      \"column\": \"x2\",\n      \"properties\": {\n        \"dtype\": \"number\",\n        \"std\": 7.059139895181619,\n        \"min\": -12.375,\n        \"max\": 12.5,\n        \"num_unique_values\": 77,\n        \"samples\": [\n          -8.625,\n          10.625\n        ],\n        \"semantic_type\": \"\",\n        \"description\": \"\"\n      }\n    },\n    {\n      \"column\": \"xavg\",\n      \"properties\": {\n        \"dtype\": \"number\",\n        \"std\": 4.123763788071366,\n        \"min\": -9.0,\n        \"max\": 8.0625,\n        \"num_unique_values\": 71,\n        \"samples\": [\n          1.25,\n          -6.5\n        ],\n        \"semantic_type\": \"\",\n        \"description\": \"\"\n      }\n    },\n    {\n      \"column\": \"estim\",\n      \"properties\": {\n        \"dtype\": \"number\",\n        \"std\": 6,\n        \"min\": 27,\n        \"max\": 73,\n        \"num_unique_values\": 42,\n        \"samples\": [\n          38,\n          61\n        ],\n        \"semantic_type\": \"\",\n        \"description\": \"\"\n      }\n    },\n    {\n      \"column\": \"subj\",\n      \"properties\": {\n        \"dtype\": \"number\",\n        \"std\": 6,\n        \"min\": 1,\n        \"max\": 21,\n        \"num_unique_values\": 21,\n        \"samples\": [\n          1,\n          18\n        ],\n        \"semantic_type\": \"\",\n        \"description\": \"\"\n      }\n    },\n    {\n      \"column\": \"consistent\",\n      \"properties\": {\n        \"dtype\": \"boolean\",\n        \"num_unique_values\": 2,\n        \"samples\": [\n          false,\n          true\n        ],\n        \"semantic_type\": \"\",\n        \"description\": \"\"\n      }\n    },\n    {\n      \"column\": \"interaction\",\n      \"properties\": {\n        \"dtype\": \"number\",\n        \"std\": 5.074488341599043,\n        \"min\": -12.375,\n        \"max\": 12.5,\n        \"num_unique_values\": 77,\n        \"samples\": [\n          -8.625,\n          0.125\n        ],\n        \"semantic_type\": \"\",\n        \"description\": \"\"\n      }\n    }\n  ]\n}"
            }
          },
          "metadata": {},
          "execution_count": 19
        }
      ],
      "source": [
        "#we need to create \"consistent\" regressor:\n",
        "consistent_reg = np.sign(df.binchoice) == np.sign(df.x2)\n",
        "interaction_reg = df.x2 * consistent_reg\n",
        "\n",
        "# add as variables in dataframe\n",
        "df['consistent'] = consistent_reg\n",
        "df['interaction'] = interaction_reg\n",
        "\n",
        "df.head()"
      ]
    },
    {
      "cell_type": "markdown",
      "metadata": {
        "id": "tKxyGo1JX-VD"
      },
      "source": [
        "Almost there! Now **fit the new regression model on all subjects separately and plot the values of the two types of x2 weights one against another**. Specifically, instead of plotting lines as we did for the previous model, we will represent each pair of weights using a scatter plot, with the value of one weight on the x-axis and of the other weight on the y-axis. This way, systematic differences between the weights will be seen as points lying more on one side or the other of the diagonal."
      ]
    },
    {
      "cell_type": "code",
      "execution_count": 20,
      "metadata": {
        "colab": {
          "base_uri": "https://localhost:8080/",
          "height": 449
        },
        "id": "iS36aDYrX-VD",
        "outputId": "1a67dd61-8201-4270-e10c-ec2e10f804c2"
      },
      "outputs": [
        {
          "output_type": "display_data",
          "data": {
            "text/plain": [
              "<Figure size 640x480 with 1 Axes>"
            ],
            "image/png": "[encoded data removed]"
          },
          "metadata": {}
        }
      ],
      "source": [
        "# create array for weights for each subject (how many weights per subject?)\n",
        "pars = np.zeros((len(subjects), 4))\n",
        "\n",
        "# loop through all subjects\n",
        "for i,s in enumerate(subjects):\n",
        "\n",
        "    # dataframe for this subject\n",
        "    df_subj = df[df['subj']== s]\n",
        "\n",
        "    # define and fit regression model\n",
        "    mod = ols('estim ~x1 + x2 + interaction', data= df_subj)\n",
        "    res = mod.fit()\n",
        "\n",
        "    # store values of the parameters\n",
        "    pars[i,:] = res.params\n",
        "\n",
        "# compute mean across subjects\n",
        "mean_weights = np.mean(pars, axis=0)\n",
        "\n",
        "# create figure\n",
        "plt.figure;\n",
        "\n",
        "# add scatter plot, with values of one set of weights as X, and of the other set of weights as Y\n",
        "# x-axis = inconsistent weight (β₂) which's pars[:,2]\n",
        "# y-axis = consistent weight ((β₂ + (β3))\n",
        "plt.scatter(pars[:,2], pars[:,2]+ pars[:,3])\n",
        "\n",
        "# add gray diagonal line\n",
        "plt.plot((0,.8),(0,.8),'gray');\n",
        "\n",
        "# vertical and horizontal lines at 0\n",
        "plt.plot(plt.xlim(),(0,0),'k');\n",
        "plt.plot((0,0),plt.ylim(),'k');\n",
        "\n",
        "# axis labels\n",
        "plt.xlabel('Weight on Inconsistent Trials (β₂)')\n",
        "plt.ylabel('Weight on Consistent Trials (β₂ + β₃)')\n",
        "plt.show()"
      ]
    },
    {
      "cell_type": "markdown",
      "metadata": {
        "id": "8f1LBx7xX-VD"
      },
      "source": [
        "**Perform a paired T-test between the two sets of weights.**"
      ]
    },
    {
      "cell_type": "code",
      "execution_count": 21,
      "metadata": {
        "scrolled": true,
        "colab": {
          "base_uri": "https://localhost:8080/"
        },
        "id": "-wDJW2e7X-VD",
        "outputId": "9d176781-d24c-4ae3-9a8b-2f00022d32dd"
      },
      "outputs": [
        {
          "output_type": "execute_result",
          "data": {
            "text/plain": [
              "TtestResult(statistic=np.float64(-6.775840240142286), pvalue=np.float64(1.3706538964575523e-06), df=np.int64(20))"
            ]
          },
          "metadata": {},
          "execution_count": 21
        }
      ],
      "source": [
        "# Performing the paired sample t-test\n",
        "stats.ttest_rel(pars[:,2], pars[:,2]+ pars[:,3])"
      ]
    },
    {
      "cell_type": "markdown",
      "metadata": {
        "id": "iJriFYtEX-VD"
      },
      "source": [
        "**What do you conclude?**"
      ]
    },
    {
      "cell_type": "markdown",
      "metadata": {
        "id": "FoQ5NVPrX-VD"
      },
      "source": [
        "p-value= 0.00000137\n",
        "Negative t-value suggests consistent weights > inconsistent weights.\n",
        "\n",
        "Putting all together, we can confidently conclude that seeing a difference between consistent and inconsistent weights of this magnitude is highly likely to be by change, suggesting a statistical significance for the difference. As a result, we can confidently use the model equation with added weight of B3.\n",
        "\n"
      ]
    },
    {
      "cell_type": "markdown",
      "metadata": {
        "id": "_ae0M6GJX-VD"
      },
      "source": [
        "## 4 Modelling the whole population with a single model\n",
        "\n",
        "### 4.1 Naive approach with categorical variables\n",
        "We have seen above the typical two-level analysis when looking for an effect in a population of subjects: fit one model on each subject separately, and then compare the distribution of weights across participants. We will now explore single-step approaches where we would capture the whole dataset with a single regression model. The challenge is to take into account the variability of effects between different subjects in a single model."
      ]
    },
    {
      "cell_type": "markdown",
      "metadata": {
        "id": "klu1tOD6M0E8"
      },
      "source": [
        "We will start with a naive approach that will illustrate how to use **categorical regressors**.\n",
        "So let's say we want to capture the variability of participant biases, i.e. their idiosyncratic tendency to over- or under-evaluate the stimulus mean in their reports. In the linear model, this is captured by the intercept $\\beta_0$.\n",
        "So what we would like is a different intercept for each subject. This is done by adding subject identity as a categorical regressor in the design of a general linear model, which means simply `C(subj)` to the formula. This will estimate one weight for each subject (except the first subject taken as the reference).\n",
        "Note that this is different from simply adding `subj`, which would introduce a continuous instead of categorical regressor (i.e. it would capture a linear trend for later subjects to over-estimate or under-estimate compared to earlier subjects - this is not what we want!).\n",
        "**Add subject as a categorical variable to the linear regression model with x1 and x2 as regressors, and fit to the whole dataset.**"
      ]
    },
    {
      "cell_type": "code",
      "execution_count": 23,
      "metadata": {
        "ExecuteTime": {
          "end_time": "2022-02-04T22:46:54.943241Z",
          "start_time": "2022-02-04T22:46:54.939949Z"
        },
        "colab": {
          "base_uri": "https://localhost:8080/",
          "height": 887
        },
        "id": "U0KMUTDDX-VD",
        "outputId": "f3af9fa7-95ab-4945-c860-b25e3b60faf7"
      },
      "outputs": [
        {
          "output_type": "execute_result",
          "data": {
            "text/plain": [
              "<class 'statsmodels.iolib.summary.Summary'>\n",
              "\"\"\"\n",
              "                            OLS Regression Results                            \n",
              "==============================================================================\n",
              "Dep. Variable:                  estim   R-squared:                       0.302\n",
              "Model:                            OLS   Adj. R-squared:                  0.293\n",
              "Method:                 Least Squares   F-statistic:                     33.74\n",
              "Date:                Sun, 19 Oct 2025   Prob (F-statistic):          4.89e-117\n",
              "Time:                        19:37:08   Log-Likelihood:                -5444.9\n",
              "No. Observations:                1738   AIC:                         1.094e+04\n",
              "Df Residuals:                    1715   BIC:                         1.106e+04\n",
              "Df Model:                          22                                         \n",
              "Covariance Type:            nonrobust                                         \n",
              "=================================================================================\n",
              "                    coef    std err          t      P>|t|      [0.025      0.975]\n",
              "---------------------------------------------------------------------------------\n",
              "Intercept        54.0018      0.618     87.348      0.000      52.789      55.214\n",
              "C(subj)[T.2]     -2.3611      0.867     -2.722      0.007      -4.062      -0.660\n",
              "C(subj)[T.3]     -7.4855      0.870     -8.604      0.000      -9.192      -5.779\n",
              "C(subj)[T.4]     -3.5873      0.867     -4.135      0.000      -5.289      -1.886\n",
              "C(subj)[T.5]     -4.6111      0.867     -5.316      0.000      -6.312      -2.910\n",
              "C(subj)[T.6]     -2.0998      0.870     -2.414      0.016      -3.806      -0.393\n",
              "C(subj)[T.7]     -2.9682      0.867     -3.422      0.001      -4.670      -1.267\n",
              "C(subj)[T.8]     -8.3966      0.875     -9.592      0.000     -10.114      -6.680\n",
              "C(subj)[T.9]     -1.7063      0.867     -1.967      0.049      -3.408      -0.005\n",
              "C(subj)[T.10]    -4.8730      0.867     -5.618      0.000      -6.574      -3.172\n",
              "C(subj)[T.11]    -5.6111      0.867     -6.468      0.000      -7.312      -3.910\n",
              "C(subj)[T.12]    -7.8611      0.867     -9.062      0.000      -9.562      -6.160\n",
              "C(subj)[T.13]    -3.1508      0.870     -3.621      0.000      -4.857      -1.444\n",
              "C(subj)[T.14]    -2.9948      0.870     -3.442      0.001      -4.701      -1.288\n",
              "C(subj)[T.15]    -6.3611      0.867     -7.333      0.000      -8.062      -4.660\n",
              "C(subj)[T.16]    -3.4682      0.867     -3.998      0.000      -5.170      -1.767\n",
              "C(subj)[T.17]    -1.8254      0.867     -2.104      0.035      -3.527      -0.124\n",
              "C(subj)[T.18]    -3.7897      0.867     -4.369      0.000      -5.491      -2.088\n",
              "C(subj)[T.19]    -4.4395      0.875     -5.072      0.000      -6.156      -2.723\n",
              "C(subj)[T.20]    -2.3928      0.873     -2.742      0.006      -4.104      -0.681\n",
              "C(subj)[T.21]    -0.5260      0.903     -0.583      0.560      -2.296       1.244\n",
              "x1                0.2900      0.038      7.615      0.000       0.215       0.365\n",
              "x2                0.3661      0.019     19.149      0.000       0.329       0.404\n",
              "==============================================================================\n",
              "Omnibus:                       13.102   Durbin-Watson:                   1.902\n",
              "Prob(Omnibus):                  0.001   Jarque-Bera (JB):               19.086\n",
              "Skew:                           0.002   Prob(JB):                     7.17e-05\n",
              "Kurtosis:                       3.513   Cond. No.                         156.\n",
              "==============================================================================\n",
              "\n",
              "Notes:\n",
              "[1] Standard Errors assume that the covariance matrix of the errors is correctly specified.\n",
              "\"\"\""
            ],
            "text/html": [
              "<table class=\"simpletable\">\n",
              "<caption>OLS Regression Results</caption>\n",
              "<tr>\n",
              "  <th>Dep. Variable:</th>          <td>estim</td>      <th>  R-squared:         </th> <td>   0.302</td> \n",
              "</tr>\n",
              "<tr>\n",
              "  <th>Model:</th>                   <td>OLS</td>       <th>  Adj. R-squared:    </th> <td>   0.293</td> \n",
              "</tr>\n",
              "<tr>\n",
              "  <th>Method:</th>             <td>Least Squares</td>  <th>  F-statistic:       </th> <td>   33.74</td> \n",
              "</tr>\n",
              "<tr>\n",
              "  <th>Date:</th>             <td>Sun, 19 Oct 2025</td> <th>  Prob (F-statistic):</th> <td>4.89e-117</td>\n",
              "</tr>\n",
              "<tr>\n",
              "  <th>Time:</th>                 <td>19:37:08</td>     <th>  Log-Likelihood:    </th> <td> -5444.9</td> \n",
              "</tr>\n",
              "<tr>\n",
              "  <th>No. Observations:</th>      <td>  1738</td>      <th>  AIC:               </th> <td>1.094e+04</td>\n",
              "</tr>\n",
              "<tr>\n",
              "  <th>Df Residuals:</th>          <td>  1715</td>      <th>  BIC:               </th> <td>1.106e+04</td>\n",
              "</tr>\n",
              "<tr>\n",
              "  <th>Df Model:</th>              <td>    22</td>      <th>                     </th>     <td> </td>    \n",
              "</tr>\n",
              "<tr>\n",
              "  <th>Covariance Type:</th>      <td>nonrobust</td>    <th>                     </th>     <td> </td>    \n",
              "</tr>\n",
              "</table>\n",
              "<table class=\"simpletable\">\n",
              "<tr>\n",
              "        <td></td>           <th>coef</th>     <th>std err</th>      <th>t</th>      <th>P>|t|</th>  <th>[0.025</th>    <th>0.975]</th>  \n",
              "</tr>\n",
              "<tr>\n",
              "  <th>Intercept</th>     <td>   54.0018</td> <td>    0.618</td> <td>   87.348</td> <td> 0.000</td> <td>   52.789</td> <td>   55.214</td>\n",
              "</tr>\n",
              "<tr>\n",
              "  <th>C(subj)[T.2]</th>  <td>   -2.3611</td> <td>    0.867</td> <td>   -2.722</td> <td> 0.007</td> <td>   -4.062</td> <td>   -0.660</td>\n",
              "</tr>\n",
              "<tr>\n",
              "  <th>C(subj)[T.3]</th>  <td>   -7.4855</td> <td>    0.870</td> <td>   -8.604</td> <td> 0.000</td> <td>   -9.192</td> <td>   -5.779</td>\n",
              "</tr>\n",
              "<tr>\n",
              "  <th>C(subj)[T.4]</th>  <td>   -3.5873</td> <td>    0.867</td> <td>   -4.135</td> <td> 0.000</td> <td>   -5.289</td> <td>   -1.886</td>\n",
              "</tr>\n",
              "<tr>\n",
              "  <th>C(subj)[T.5]</th>  <td>   -4.6111</td> <td>    0.867</td> <td>   -5.316</td> <td> 0.000</td> <td>   -6.312</td> <td>   -2.910</td>\n",
              "</tr>\n",
              "<tr>\n",
              "  <th>C(subj)[T.6]</th>  <td>   -2.0998</td> <td>    0.870</td> <td>   -2.414</td> <td> 0.016</td> <td>   -3.806</td> <td>   -0.393</td>\n",
              "</tr>\n",
              "<tr>\n",
              "  <th>C(subj)[T.7]</th>  <td>   -2.9682</td> <td>    0.867</td> <td>   -3.422</td> <td> 0.001</td> <td>   -4.670</td> <td>   -1.267</td>\n",
              "</tr>\n",
              "<tr>\n",
              "  <th>C(subj)[T.8]</th>  <td>   -8.3966</td> <td>    0.875</td> <td>   -9.592</td> <td> 0.000</td> <td>  -10.114</td> <td>   -6.680</td>\n",
              "</tr>\n",
              "<tr>\n",
              "  <th>C(subj)[T.9]</th>  <td>   -1.7063</td> <td>    0.867</td> <td>   -1.967</td> <td> 0.049</td> <td>   -3.408</td> <td>   -0.005</td>\n",
              "</tr>\n",
              "<tr>\n",
              "  <th>C(subj)[T.10]</th> <td>   -4.8730</td> <td>    0.867</td> <td>   -5.618</td> <td> 0.000</td> <td>   -6.574</td> <td>   -3.172</td>\n",
              "</tr>\n",
              "<tr>\n",
              "  <th>C(subj)[T.11]</th> <td>   -5.6111</td> <td>    0.867</td> <td>   -6.468</td> <td> 0.000</td> <td>   -7.312</td> <td>   -3.910</td>\n",
              "</tr>\n",
              "<tr>\n",
              "  <th>C(subj)[T.12]</th> <td>   -7.8611</td> <td>    0.867</td> <td>   -9.062</td> <td> 0.000</td> <td>   -9.562</td> <td>   -6.160</td>\n",
              "</tr>\n",
              "<tr>\n",
              "  <th>C(subj)[T.13]</th> <td>   -3.1508</td> <td>    0.870</td> <td>   -3.621</td> <td> 0.000</td> <td>   -4.857</td> <td>   -1.444</td>\n",
              "</tr>\n",
              "<tr>\n",
              "  <th>C(subj)[T.14]</th> <td>   -2.9948</td> <td>    0.870</td> <td>   -3.442</td> <td> 0.001</td> <td>   -4.701</td> <td>   -1.288</td>\n",
              "</tr>\n",
              "<tr>\n",
              "  <th>C(subj)[T.15]</th> <td>   -6.3611</td> <td>    0.867</td> <td>   -7.333</td> <td> 0.000</td> <td>   -8.062</td> <td>   -4.660</td>\n",
              "</tr>\n",
              "<tr>\n",
              "  <th>C(subj)[T.16]</th> <td>   -3.4682</td> <td>    0.867</td> <td>   -3.998</td> <td> 0.000</td> <td>   -5.170</td> <td>   -1.767</td>\n",
              "</tr>\n",
              "<tr>\n",
              "  <th>C(subj)[T.17]</th> <td>   -1.8254</td> <td>    0.867</td> <td>   -2.104</td> <td> 0.035</td> <td>   -3.527</td> <td>   -0.124</td>\n",
              "</tr>\n",
              "<tr>\n",
              "  <th>C(subj)[T.18]</th> <td>   -3.7897</td> <td>    0.867</td> <td>   -4.369</td> <td> 0.000</td> <td>   -5.491</td> <td>   -2.088</td>\n",
              "</tr>\n",
              "<tr>\n",
              "  <th>C(subj)[T.19]</th> <td>   -4.4395</td> <td>    0.875</td> <td>   -5.072</td> <td> 0.000</td> <td>   -6.156</td> <td>   -2.723</td>\n",
              "</tr>\n",
              "<tr>\n",
              "  <th>C(subj)[T.20]</th> <td>   -2.3928</td> <td>    0.873</td> <td>   -2.742</td> <td> 0.006</td> <td>   -4.104</td> <td>   -0.681</td>\n",
              "</tr>\n",
              "<tr>\n",
              "  <th>C(subj)[T.21]</th> <td>   -0.5260</td> <td>    0.903</td> <td>   -0.583</td> <td> 0.560</td> <td>   -2.296</td> <td>    1.244</td>\n",
              "</tr>\n",
              "<tr>\n",
              "  <th>x1</th>            <td>    0.2900</td> <td>    0.038</td> <td>    7.615</td> <td> 0.000</td> <td>    0.215</td> <td>    0.365</td>\n",
              "</tr>\n",
              "<tr>\n",
              "  <th>x2</th>            <td>    0.3661</td> <td>    0.019</td> <td>   19.149</td> <td> 0.000</td> <td>    0.329</td> <td>    0.404</td>\n",
              "</tr>\n",
              "</table>\n",
              "<table class=\"simpletable\">\n",
              "<tr>\n",
              "  <th>Omnibus:</th>       <td>13.102</td> <th>  Durbin-Watson:     </th> <td>   1.902</td>\n",
              "</tr>\n",
              "<tr>\n",
              "  <th>Prob(Omnibus):</th> <td> 0.001</td> <th>  Jarque-Bera (JB):  </th> <td>  19.086</td>\n",
              "</tr>\n",
              "<tr>\n",
              "  <th>Skew:</th>          <td> 0.002</td> <th>  Prob(JB):          </th> <td>7.17e-05</td>\n",
              "</tr>\n",
              "<tr>\n",
              "  <th>Kurtosis:</th>      <td> 3.513</td> <th>  Cond. No.          </th> <td>    156.</td>\n",
              "</tr>\n",
              "</table><br/><br/>Notes:<br/>[1] Standard Errors assume that the covariance matrix of the errors is correctly specified."
            ],
            "text/latex": "\\begin{center}\n\\begin{tabular}{lclc}\n\\toprule\n\\textbf{Dep. Variable:}    &      estim       & \\textbf{  R-squared:         } &     0.302   \\\\\n\\textbf{Model:}            &       OLS        & \\textbf{  Adj. R-squared:    } &     0.293   \\\\\n\\textbf{Method:}           &  Least Squares   & \\textbf{  F-statistic:       } &     33.74   \\\\\n\\textbf{Date:}             & Sun, 19 Oct 2025 & \\textbf{  Prob (F-statistic):} & 4.89e-117   \\\\\n\\textbf{Time:}             &     19:37:08     & \\textbf{  Log-Likelihood:    } &   -5444.9   \\\\\n\\textbf{No. Observations:} &        1738      & \\textbf{  AIC:               } & 1.094e+04   \\\\\n\\textbf{Df Residuals:}     &        1715      & \\textbf{  BIC:               } & 1.106e+04   \\\\\n\\textbf{Df Model:}         &          22      & \\textbf{                     } &             \\\\\n\\textbf{Covariance Type:}  &    nonrobust     & \\textbf{                     } &             \\\\\n\\bottomrule\n\\end{tabular}\n\\begin{tabular}{lcccccc}\n                       & \\textbf{coef} & \\textbf{std err} & \\textbf{t} & \\textbf{P$> |$t$|$} & \\textbf{[0.025} & \\textbf{0.975]}  \\\\\n\\midrule\n\\textbf{Intercept}     &      54.0018  &        0.618     &    87.348  &         0.000        &       52.789    &       55.214     \\\\\n\\textbf{C(subj)[T.2]}  &      -2.3611  &        0.867     &    -2.722  &         0.007        &       -4.062    &       -0.660     \\\\\n\\textbf{C(subj)[T.3]}  &      -7.4855  &        0.870     &    -8.604  &         0.000        &       -9.192    &       -5.779     \\\\\n\\textbf{C(subj)[T.4]}  &      -3.5873  &        0.867     &    -4.135  &         0.000        &       -5.289    &       -1.886     \\\\\n\\textbf{C(subj)[T.5]}  &      -4.6111  &        0.867     &    -5.316  &         0.000        &       -6.312    &       -2.910     \\\\\n\\textbf{C(subj)[T.6]}  &      -2.0998  &        0.870     &    -2.414  &         0.016        &       -3.806    &       -0.393     \\\\\n\\textbf{C(subj)[T.7]}  &      -2.9682  &        0.867     &    -3.422  &         0.001        &       -4.670    &       -1.267     \\\\\n\\textbf{C(subj)[T.8]}  &      -8.3966  &        0.875     &    -9.592  &         0.000        &      -10.114    &       -6.680     \\\\\n\\textbf{C(subj)[T.9]}  &      -1.7063  &        0.867     &    -1.967  &         0.049        &       -3.408    &       -0.005     \\\\\n\\textbf{C(subj)[T.10]} &      -4.8730  &        0.867     &    -5.618  &         0.000        &       -6.574    &       -3.172     \\\\\n\\textbf{C(subj)[T.11]} &      -5.6111  &        0.867     &    -6.468  &         0.000        &       -7.312    &       -3.910     \\\\\n\\textbf{C(subj)[T.12]} &      -7.8611  &        0.867     &    -9.062  &         0.000        &       -9.562    &       -6.160     \\\\\n\\textbf{C(subj)[T.13]} &      -3.1508  &        0.870     &    -3.621  &         0.000        &       -4.857    &       -1.444     \\\\\n\\textbf{C(subj)[T.14]} &      -2.9948  &        0.870     &    -3.442  &         0.001        &       -4.701    &       -1.288     \\\\\n\\textbf{C(subj)[T.15]} &      -6.3611  &        0.867     &    -7.333  &         0.000        &       -8.062    &       -4.660     \\\\\n\\textbf{C(subj)[T.16]} &      -3.4682  &        0.867     &    -3.998  &         0.000        &       -5.170    &       -1.767     \\\\\n\\textbf{C(subj)[T.17]} &      -1.8254  &        0.867     &    -2.104  &         0.035        &       -3.527    &       -0.124     \\\\\n\\textbf{C(subj)[T.18]} &      -3.7897  &        0.867     &    -4.369  &         0.000        &       -5.491    &       -2.088     \\\\\n\\textbf{C(subj)[T.19]} &      -4.4395  &        0.875     &    -5.072  &         0.000        &       -6.156    &       -2.723     \\\\\n\\textbf{C(subj)[T.20]} &      -2.3928  &        0.873     &    -2.742  &         0.006        &       -4.104    &       -0.681     \\\\\n\\textbf{C(subj)[T.21]} &      -0.5260  &        0.903     &    -0.583  &         0.560        &       -2.296    &        1.244     \\\\\n\\textbf{x1}            &       0.2900  &        0.038     &     7.615  &         0.000        &        0.215    &        0.365     \\\\\n\\textbf{x2}            &       0.3661  &        0.019     &    19.149  &         0.000        &        0.329    &        0.404     \\\\\n\\bottomrule\n\\end{tabular}\n\\begin{tabular}{lclc}\n\\textbf{Omnibus:}       & 13.102 & \\textbf{  Durbin-Watson:     } &    1.902  \\\\\n\\textbf{Prob(Omnibus):} &  0.001 & \\textbf{  Jarque-Bera (JB):  } &   19.086  \\\\\n\\textbf{Skew:}          &  0.002 & \\textbf{  Prob(JB):          } & 7.17e-05  \\\\\n\\textbf{Kurtosis:}      &  3.513 & \\textbf{  Cond. No.          } &     156.  \\\\\n\\bottomrule\n\\end{tabular}\n%\\caption{OLS Regression Results}\n\\end{center}\n\nNotes: \\newline\n [1] Standard Errors assume that the covariance matrix of the errors is correctly specified."
          },
          "metadata": {},
          "execution_count": 23
        }
      ],
      "source": [
        "# define the multiple linear regression model\n",
        "mod = ols(formula = 'estim ~ x1 + x2 + C(subj)', data= df)\n",
        "\n",
        "# fit to data\n",
        "res = mod.fit()\n",
        "\n",
        "# print the summary\n",
        "res.summary()"
      ]
    },
    {
      "cell_type": "markdown",
      "metadata": {
        "id": "viuKviHQX-VD"
      },
      "source": [
        "**Can you find the weights for the regressor of interest? Why are the other regressors not “of interest”? Why do we include them, then?**"
      ]
    },
    {
      "cell_type": "markdown",
      "metadata": {
        "id": "zFg93phRX-VD"
      },
      "source": [
        "Our regressor of interests are x1 and x2 and their weights are found in \"coef\" column. These coefficients will tell us the average effect of each stimulus (x1 and x2) across all subjects and help us test our hypothesis.\n",
        "\n",
        "Other regressors do not help us testing the hypothesis. We used \"intercept\", for example, as a mathematical baseline so that when all the regressors are zero, the model can predict the value of \"estim\". C(subj) is included to measure variability as a control for all random noise from each participant."
      ]
    },
    {
      "cell_type": "markdown",
      "metadata": {
        "id": "aYqGVeZ3X-VD"
      },
      "source": [
        "**How do you interpret subject weights?**"
      ]
    },
    {
      "cell_type": "markdown",
      "metadata": {
        "id": "Mr1wgSbkX-VD"
      },
      "source": [
        "The model picks a subject from the list as a reference -here's subject1 is replaced by intercept row, meaning model used it as a reference. Using this reference, model calculates the difference with each subject's value. Once we find reference subject, we can use the coefficients for each subject of interest to compare it to the reference by using simple calculation as: [reference (main intercept) + Indiviual weight of C(subj)] = personal intercept."
      ]
    },
    {
      "cell_type": "markdown",
      "metadata": {
        "id": "3F8BvIKGX-VD"
      },
      "source": [
        "### 4.2 Linear mixed models\n",
        "Now we will take is a more principled approach to it, *linear mixed models*. In this framework, we consider subjects as *random factors*, i.e. factors that are not of interest per se but that contribute to the variability. Instead of estimating one parameter per subject, these models directly estimate the variance of the weight across the population (assuming, again, Gaussian statistics). In this way, one parameter of variance will take care of the variability across participants. Linear models that include both fixed factors (the baseline effect in the whole population - what we are generally interested in) and random factors (a variance parameter accounting for a family of regressors) are called \"mixed models\". These are usually the way that we should model subjects in our designs. Mixed models in the case of linear regression are called linear mixed models."
      ]
    },
    {
      "cell_type": "markdown",
      "metadata": {
        "id": "tLJZ36R5X-VD"
      },
      "source": [
        "Let us implement a linear mixed model where the random factor for the intercept of each participant. This is very similar to the traditional linear regression model we just defined with subject-specific biases, except that now we directly estimate the distribution of biases across the population, rather than each subject bias."
      ]
    },
    {
      "cell_type": "code",
      "execution_count": 24,
      "metadata": {
        "ExecuteTime": {
          "end_time": "2022-02-04T22:46:55.260351Z",
          "start_time": "2022-02-04T22:46:54.971773Z"
        },
        "colab": {
          "base_uri": "https://localhost:8080/",
          "height": 269
        },
        "id": "OawmGQU2M0FF",
        "outputId": "3fd2dfe5-a183-44de-f74a-346e28ca4b56"
      },
      "outputs": [
        {
          "output_type": "execute_result",
          "data": {
            "text/plain": [
              "<class 'statsmodels.iolib.summary2.Summary'>\n",
              "\"\"\"\n",
              "         Mixed Linear Model Regression Results\n",
              "========================================================\n",
              "Model:            MixedLM Dependent Variable: estim     \n",
              "No. Observations: 1738    Method:             REML      \n",
              "No. Groups:       21      Scale:              31.2233   \n",
              "Min. group size:  72      Log-Likelihood:     -5487.8269\n",
              "Max. group size:  84      Converged:          Yes       \n",
              "Mean group size:  82.8                                  \n",
              "--------------------------------------------------------\n",
              "              Coef.  Std.Err.   z    P>|z| [0.025 0.975]\n",
              "--------------------------------------------------------\n",
              "Intercept     50.166    0.502 99.922 0.000 49.182 51.150\n",
              "x1             0.290    0.038  7.618 0.000  0.215  0.365\n",
              "x2             0.366    0.019 19.152 0.000  0.329  0.404\n",
              "Group Var      4.889    0.300                           \n",
              "========================================================\n",
              "\n",
              "\"\"\""
            ],
            "text/html": [
              "<table class=\"simpletable\">\n",
              "<tr>\n",
              "       <td>Model:</td>       <td>MixedLM</td> <td>Dependent Variable:</td>    <td>estim</td>  \n",
              "</tr>\n",
              "<tr>\n",
              "  <td>No. Observations:</td>  <td>1738</td>         <td>Method:</td>          <td>REML</td>   \n",
              "</tr>\n",
              "<tr>\n",
              "     <td>No. Groups:</td>      <td>21</td>          <td>Scale:</td>          <td>31.2233</td> \n",
              "</tr>\n",
              "<tr>\n",
              "  <td>Min. group size:</td>    <td>72</td>      <td>Log-Likelihood:</td>   <td>-5487.8269</td>\n",
              "</tr>\n",
              "<tr>\n",
              "  <td>Max. group size:</td>    <td>84</td>        <td>Converged:</td>          <td>Yes</td>   \n",
              "</tr>\n",
              "<tr>\n",
              "  <td>Mean group size:</td>   <td>82.8</td>            <td></td>                <td></td>     \n",
              "</tr>\n",
              "</table>\n",
              "<table class=\"simpletable\">\n",
              "<tr>\n",
              "      <td></td>       <th>Coef.</th> <th>Std.Err.</th>    <th>z</th>   <th>P>|z|</th> <th>[0.025</th> <th>0.975]</th>\n",
              "</tr>\n",
              "<tr>\n",
              "  <th>Intercept</th> <td>50.166</td>   <td>0.502</td>  <td>99.922</td> <td>0.000</td> <td>49.182</td> <td>51.150</td>\n",
              "</tr>\n",
              "<tr>\n",
              "  <th>x1</th>         <td>0.290</td>   <td>0.038</td>   <td>7.618</td> <td>0.000</td>  <td>0.215</td>  <td>0.365</td>\n",
              "</tr>\n",
              "<tr>\n",
              "  <th>x2</th>         <td>0.366</td>   <td>0.019</td>  <td>19.152</td> <td>0.000</td>  <td>0.329</td>  <td>0.404</td>\n",
              "</tr>\n",
              "<tr>\n",
              "  <th>Group Var</th>  <td>4.889</td>   <td>0.300</td>     <td></td>      <td></td>       <td></td>       <td></td>   \n",
              "</tr>\n",
              "</table><br/>\n"
            ],
            "text/latex": "\\begin{table}\n\\caption{Mixed Linear Model Regression Results}\n\\label{}\n\\begin{center}\n\\begin{tabular}{llll}\n\\hline\nModel:            & MixedLM & Dependent Variable: & estim       \\\\\nNo. Observations: & 1738    & Method:             & REML        \\\\\nNo. Groups:       & 21      & Scale:              & 31.2233     \\\\\nMin. group size:  & 72      & Log-Likelihood:     & -5487.8269  \\\\\nMax. group size:  & 84      & Converged:          & Yes         \\\\\nMean group size:  & 82.8    &                     &             \\\\\n\\hline\n\\end{tabular}\n\\end{center}\n\n\\begin{center}\n\\begin{tabular}{lrrrrrr}\n\\hline\n          &  Coef. & Std.Err. &      z & P$> |$z$|$ & [0.025 & 0.975]  \\\\\n\\hline\nIntercept & 50.166 &    0.502 & 99.922 &       0.000 & 49.182 & 51.150  \\\\\nx1        &  0.290 &    0.038 &  7.618 &       0.000 &  0.215 &  0.365  \\\\\nx2        &  0.366 &    0.019 & 19.152 &       0.000 &  0.329 &  0.404  \\\\\nGroup Var &  4.889 &    0.300 &        &             &        &         \\\\\n\\hline\n\\end{tabular}\n\\end{center}\n\\end{table}\n\\bigskip\n"
          },
          "metadata": {},
          "execution_count": 24
        }
      ],
      "source": [
        "# import package\n",
        "from statsmodels.formula.api import mixedlm\n",
        "\n",
        "# define model:\n",
        "# - the fixed effects are given in the formula as for ols\n",
        "# - the random factor is defined by 'groups' (variable 'subj')\n",
        "# - the random effects (which weights should vary per subject) is defined by re_formula (here, just the intercept so \"~1\")\n",
        "mod_sub = mixedlm(formula='estim ~ x1 + x2', data=df, groups=df['subj'], re_formula=\"~1\")\n",
        "\n",
        "# fit the model\n",
        "res_sub = mod_sub.fit(maxiter=500,method=\"nm\", reml=\"false\")\n",
        "\n",
        "# show summary\n",
        "res_sub.summary()"
      ]
    },
    {
      "cell_type": "markdown",
      "metadata": {
        "id": "RLreZyrIX-VE"
      },
      "source": [
        "This model gives us a similar result to what we got when we modeled subjects as fixed factors above. But actually subjects will differ not only because of their overall bias, but also because of a different weighting of stimulus information. So a better model will incorporate this variability, by adding the first and second stimuli as random factors."
      ]
    },
    {
      "cell_type": "code",
      "execution_count": 25,
      "metadata": {
        "ExecuteTime": {
          "end_time": "2022-02-04T22:46:56.059655Z",
          "start_time": "2022-02-04T22:46:55.261765Z"
        },
        "colab": {
          "base_uri": "https://localhost:8080/",
          "height": 498
        },
        "id": "DHdTeJjrX-VE",
        "outputId": "b77216ee-74a9-4b69-fced-5c25d3e6f2e3"
      },
      "outputs": [
        {
          "output_type": "stream",
          "name": "stderr",
          "text": [
            "/usr/local/lib/python3.12/dist-packages/statsmodels/base/model.py:607: ConvergenceWarning: Maximum Likelihood optimization failed to converge. Check mle_retvals\n",
            "  warnings.warn(\"Maximum Likelihood optimization failed to \"\n",
            "/usr/local/lib/python3.12/dist-packages/statsmodels/regression/mixed_linear_model.py:2206: ConvergenceWarning: MixedLM optimization failed, trying a different optimizer may help.\n",
            "  warnings.warn(msg, ConvergenceWarning)\n",
            "/usr/local/lib/python3.12/dist-packages/statsmodels/regression/mixed_linear_model.py:2218: ConvergenceWarning: Gradient optimization failed, |grad| = 22.063373\n",
            "  warnings.warn(msg, ConvergenceWarning)\n"
          ]
        },
        {
          "output_type": "execute_result",
          "data": {
            "text/plain": [
              "<class 'statsmodels.iolib.summary2.Summary'>\n",
              "\"\"\"\n",
              "          Mixed Linear Model Regression Results\n",
              "=========================================================\n",
              "Model:             MixedLM Dependent Variable: estim     \n",
              "No. Observations:  1738    Method:             REML      \n",
              "No. Groups:        21      Scale:              30.1139   \n",
              "Min. group size:   72      Log-Likelihood:     -5470.9465\n",
              "Max. group size:   84      Converged:          No        \n",
              "Mean group size:   82.8                                  \n",
              "---------------------------------------------------------\n",
              "               Coef.  Std.Err.   z    P>|z| [0.025 0.975]\n",
              "---------------------------------------------------------\n",
              "Intercept      50.167    0.502 99.912 0.000 49.183 51.151\n",
              "x1              0.289    0.046  6.291 0.000  0.199  0.379\n",
              "x2              0.365    0.034 10.696 0.000  0.298  0.432\n",
              "Group Var       4.904    0.319                           \n",
              "Group x x1 Cov -0.108    0.025                           \n",
              "x1 Var          0.015    0.004                           \n",
              "Group x x2 Cov  0.001    0.015                           \n",
              "x1 x x2 Cov     0.015    0.002                           \n",
              "x2 Var          0.017    0.001                           \n",
              "=========================================================\n",
              "\n",
              "\"\"\""
            ],
            "text/html": [
              "<table class=\"simpletable\">\n",
              "<tr>\n",
              "       <td>Model:</td>       <td>MixedLM</td> <td>Dependent Variable:</td>    <td>estim</td>  \n",
              "</tr>\n",
              "<tr>\n",
              "  <td>No. Observations:</td>  <td>1738</td>         <td>Method:</td>          <td>REML</td>   \n",
              "</tr>\n",
              "<tr>\n",
              "     <td>No. Groups:</td>      <td>21</td>          <td>Scale:</td>          <td>30.1139</td> \n",
              "</tr>\n",
              "<tr>\n",
              "  <td>Min. group size:</td>    <td>72</td>      <td>Log-Likelihood:</td>   <td>-5470.9465</td>\n",
              "</tr>\n",
              "<tr>\n",
              "  <td>Max. group size:</td>    <td>84</td>        <td>Converged:</td>          <td>No</td>    \n",
              "</tr>\n",
              "<tr>\n",
              "  <td>Mean group size:</td>   <td>82.8</td>            <td></td>                <td></td>     \n",
              "</tr>\n",
              "</table>\n",
              "<table class=\"simpletable\">\n",
              "<tr>\n",
              "         <td></td>         <th>Coef.</th> <th>Std.Err.</th>    <th>z</th>   <th>P>|z|</th> <th>[0.025</th> <th>0.975]</th>\n",
              "</tr>\n",
              "<tr>\n",
              "  <th>Intercept</th>      <td>50.167</td>   <td>0.502</td>  <td>99.912</td> <td>0.000</td> <td>49.183</td> <td>51.151</td>\n",
              "</tr>\n",
              "<tr>\n",
              "  <th>x1</th>              <td>0.289</td>   <td>0.046</td>   <td>6.291</td> <td>0.000</td>  <td>0.199</td>  <td>0.379</td>\n",
              "</tr>\n",
              "<tr>\n",
              "  <th>x2</th>              <td>0.365</td>   <td>0.034</td>  <td>10.696</td> <td>0.000</td>  <td>0.298</td>  <td>0.432</td>\n",
              "</tr>\n",
              "<tr>\n",
              "  <th>Group Var</th>       <td>4.904</td>   <td>0.319</td>     <td></td>      <td></td>       <td></td>       <td></td>   \n",
              "</tr>\n",
              "<tr>\n",
              "  <th>Group x x1 Cov</th> <td>-0.108</td>   <td>0.025</td>     <td></td>      <td></td>       <td></td>       <td></td>   \n",
              "</tr>\n",
              "<tr>\n",
              "  <th>x1 Var</th>          <td>0.015</td>   <td>0.004</td>     <td></td>      <td></td>       <td></td>       <td></td>   \n",
              "</tr>\n",
              "<tr>\n",
              "  <th>Group x x2 Cov</th>  <td>0.001</td>   <td>0.015</td>     <td></td>      <td></td>       <td></td>       <td></td>   \n",
              "</tr>\n",
              "<tr>\n",
              "  <th>x1 x x2 Cov</th>     <td>0.015</td>   <td>0.002</td>     <td></td>      <td></td>       <td></td>       <td></td>   \n",
              "</tr>\n",
              "<tr>\n",
              "  <th>x2 Var</th>          <td>0.017</td>   <td>0.001</td>     <td></td>      <td></td>       <td></td>       <td></td>   \n",
              "</tr>\n",
              "</table><br/>\n"
            ],
            "text/latex": "\\begin{table}\n\\caption{Mixed Linear Model Regression Results}\n\\label{}\n\\begin{center}\n\\begin{tabular}{llll}\n\\hline\nModel:            & MixedLM & Dependent Variable: & estim       \\\\\nNo. Observations: & 1738    & Method:             & REML        \\\\\nNo. Groups:       & 21      & Scale:              & 30.1139     \\\\\nMin. group size:  & 72      & Log-Likelihood:     & -5470.9465  \\\\\nMax. group size:  & 84      & Converged:          & No          \\\\\nMean group size:  & 82.8    &                     &             \\\\\n\\hline\n\\end{tabular}\n\\end{center}\n\n\\begin{center}\n\\begin{tabular}{lrrrrrr}\n\\hline\n               &  Coef. & Std.Err. &      z & P$> |$z$|$ & [0.025 & 0.975]  \\\\\n\\hline\nIntercept      & 50.167 &    0.502 & 99.912 &       0.000 & 49.183 & 51.151  \\\\\nx1             &  0.289 &    0.046 &  6.291 &       0.000 &  0.199 &  0.379  \\\\\nx2             &  0.365 &    0.034 & 10.696 &       0.000 &  0.298 &  0.432  \\\\\nGroup Var      &  4.904 &    0.319 &        &             &        &         \\\\\nGroup x x1 Cov & -0.108 &    0.025 &        &             &        &         \\\\\nx1 Var         &  0.015 &    0.004 &        &             &        &         \\\\\nGroup x x2 Cov &  0.001 &    0.015 &        &             &        &         \\\\\nx1 x x2 Cov    &  0.015 &    0.002 &        &             &        &         \\\\\nx2 Var         &  0.017 &    0.001 &        &             &        &         \\\\\n\\hline\n\\end{tabular}\n\\end{center}\n\\end{table}\n\\bigskip\n"
          },
          "metadata": {},
          "execution_count": 25
        }
      ],
      "source": [
        "from statsmodels.formula.api import mixedlm\n",
        "\n",
        "# same as above, but now the random effects include x1 and x2\n",
        "mod_sub = mixedlm(formula='estim ~ x1 + x2', data=df, groups=df['subj'], re_formula=\"~x1+x2\")\n",
        "res_sub = mod_sub.fit(maxiter=500,method=\"nm\", reml=\"false\")\n",
        "\n",
        "res_sub.summary()"
      ]
    }
  ],
  "metadata": {
    "colab": {
      "name": "assignment_4-full.ipynb",
      "provenance": []
    },
    "hide_input": false,
    "kernelspec": {
      "display_name": "Python 3 (ipykernel)",
      "language": "python",
      "name": "python3"
    },
    "language_info": {
      "codemirror_mode": {
        "name": "ipython",
        "version": 3
      },
      "file_extension": ".py",
      "mimetype": "text/x-python",
      "name": "python",
      "nbconvert_exporter": "python",
      "pygments_lexer": "ipython3",
      "version": "3.10.8"
    },
    "toc": {
      "base_numbering": 1,
      "nav_menu": {},
      "number_sections": true,
      "sideBar": true,
      "skip_h1_title": false,
      "title_cell": "Table of Contents",
      "title_sidebar": "Contents",
      "toc_cell": false,
      "toc_position": {},
      "toc_section_display": true,
      "toc_window_display": false
    },
    "varInspector": {
      "cols": {
        "lenName": 16,
        "lenType": 16,
        "lenVar": 40
      },
      "kernels_config": {
        "python": {
          "delete_cmd_postfix": "",
          "delete_cmd_prefix": "del ",
          "library": "var_list.py",
          "varRefreshCmd": "print(var_dic_list())"
        },
        "r": {
          "delete_cmd_postfix": ") ",
          "delete_cmd_prefix": "rm(",
          "library": "var_list.r",
          "varRefreshCmd": "cat(var_dic_list()) "
        }
      },
      "types_to_exclude": [
        "module",
        "function",
        "builtin_function_or_method",
        "instance",
        "_Feature"
      ],
      "window_display": false
    },
    "widgets": {
      "application/vnd.jupyter.widget-state+json": {
        "1892321592994cb295ac0a86ccbe235c": {
          "model_module": "@jupyter-widgets/controls",
          "model_name": "VBoxModel",
          "model_module_version": "1.5.0",
          "state": {
            "_dom_classes": [
              "widget-interact"
            ],
            "_model_module": "@jupyter-widgets/controls",
            "_model_module_version": "1.5.0",
            "_model_name": "VBoxModel",
            "_view_count": null,
            "_view_module": "@jupyter-widgets/controls",
            "_view_module_version": "1.5.0",
            "_view_name": "VBoxView",
            "box_style": "",
            "children": [
              "IPY_MODEL_d1e4afc9b1b443d1851bd0c0860c0643",
              "IPY_MODEL_9fb248c426384b7b9e80b252319a8edb",
              "IPY_MODEL_718c832c74ef4ca4a2923ef04903dd35"
            ],
            "layout": "IPY_MODEL_d736d3d5870647faad26ed94f9848482"
          }
        },
        "d1e4afc9b1b443d1851bd0c0860c0643": {
          "model_module": "@jupyter-widgets/controls",
          "model_name": "FloatSliderModel",
          "model_module_version": "1.5.0",
          "state": {
            "_dom_classes": [],
            "_model_module": "@jupyter-widgets/controls",
            "_model_module_version": "1.5.0",
            "_model_name": "FloatSliderModel",
            "_view_count": null,
            "_view_module": "@jupyter-widgets/controls",
            "_view_module_version": "1.5.0",
            "_view_name": "FloatSliderView",
            "continuous_update": true,
            "description": "beta0",
            "description_tooltip": null,
            "disabled": false,
            "layout": "IPY_MODEL_c9b41935a5e84b99b8dfafd094b442ca",
            "max": 50,
            "min": 0,
            "orientation": "horizontal",
            "readout": true,
            "readout_format": ".2f",
            "step": 0.1,
            "style": "IPY_MODEL_32e1f3d17d294dc685fb8bd6fac49208",
            "value": 20
          }
        },
        "9fb248c426384b7b9e80b252319a8edb": {
          "model_module": "@jupyter-widgets/controls",
          "model_name": "FloatSliderModel",
          "model_module_version": "1.5.0",
          "state": {
            "_dom_classes": [],
            "_model_module": "@jupyter-widgets/controls",
            "_model_module_version": "1.5.0",
            "_model_name": "FloatSliderModel",
            "_view_count": null,
            "_view_module": "@jupyter-widgets/controls",
            "_view_module_version": "1.5.0",
            "_view_name": "FloatSliderView",
            "continuous_update": true,
            "description": "beta1",
            "description_tooltip": null,
            "disabled": false,
            "layout": "IPY_MODEL_a86af344aabd43fd8bf2fa924c5a6c3f",
            "max": 1,
            "min": 0,
            "orientation": "horizontal",
            "readout": true,
            "readout_format": ".2f",
            "step": 0.1,
            "style": "IPY_MODEL_066d78a5a4e543f39b1e0a787da7ec17",
            "value": 0.1
          }
        },
        "718c832c74ef4ca4a2923ef04903dd35": {
          "model_module": "@jupyter-widgets/output",
          "model_name": "OutputModel",
          "model_module_version": "1.0.0",
          "state": {
            "_dom_classes": [],
            "_model_module": "@jupyter-widgets/output",
            "_model_module_version": "1.0.0",
            "_model_name": "OutputModel",
            "_view_count": null,
            "_view_module": "@jupyter-widgets/output",
            "_view_module_version": "1.0.0",
            "_view_name": "OutputView",
            "layout": "IPY_MODEL_90e12f3d31f84397b9c9d3243e1d11ab",
            "msg_id": "",
            "outputs": [
              {
                "output_type": "display_data",
                "data": {
                  "text/plain": "<Figure size 640x480 with 1 Axes>",
                  "image/png": "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\n"
                },
                "metadata": {}
              }
            ]
          }
        },
        "d736d3d5870647faad26ed94f9848482": {
          "model_module": "@jupyter-widgets/base",
          "model_name": "LayoutModel",
          "model_module_version": "1.2.0",
          "state": {
            "_model_module": "@jupyter-widgets/base",
            "_model_module_version": "1.2.0",
            "_model_name": "LayoutModel",
            "_view_count": null,
            "_view_module": "@jupyter-widgets/base",
            "_view_module_version": "1.2.0",
            "_view_name": "LayoutView",
            "align_content": null,
            "align_items": null,
            "align_self": null,
            "border": null,
            "bottom": null,
            "display": null,
            "flex": null,
            "flex_flow": null,
            "grid_area": null,
            "grid_auto_columns": null,
            "grid_auto_flow": null,
            "grid_auto_rows": null,
            "grid_column": null,
            "grid_gap": null,
            "grid_row": null,
            "grid_template_areas": null,
            "grid_template_columns": null,
            "grid_template_rows": null,
            "height": null,
            "justify_content": null,
            "justify_items": null,
            "left": null,
            "margin": null,
            "max_height": null,
            "max_width": null,
            "min_height": null,
            "min_width": null,
            "object_fit": null,
            "object_position": null,
            "order": null,
            "overflow": null,
            "overflow_x": null,
            "overflow_y": null,
            "padding": null,
            "right": null,
            "top": null,
            "visibility": null,
            "width": null
          }
        },
        "c9b41935a5e84b99b8dfafd094b442ca": {
          "model_module": "@jupyter-widgets/base",
          "model_name": "LayoutModel",
          "model_module_version": "1.2.0",
          "state": {
            "_model_module": "@jupyter-widgets/base",
            "_model_module_version": "1.2.0",
            "_model_name": "LayoutModel",
            "_view_count": null,
            "_view_module": "@jupyter-widgets/base",
            "_view_module_version": "1.2.0",
            "_view_name": "LayoutView",
            "align_content": null,
            "align_items": null,
            "align_self": null,
            "border": null,
            "bottom": null,
            "display": null,
            "flex": null,
            "flex_flow": null,
            "grid_area": null,
            "grid_auto_columns": null,
            "grid_auto_flow": null,
            "grid_auto_rows": null,
            "grid_column": null,
            "grid_gap": null,
            "grid_row": null,
            "grid_template_areas": null,
            "grid_template_columns": null,
            "grid_template_rows": null,
            "height": null,
            "justify_content": null,
            "justify_items": null,
            "left": null,
            "margin": null,
            "max_height": null,
            "max_width": null,
            "min_height": null,
            "min_width": null,
            "object_fit": null,
            "object_position": null,
            "order": null,
            "overflow": null,
            "overflow_x": null,
            "overflow_y": null,
            "padding": null,
            "right": null,
            "top": null,
            "visibility": null,
            "width": null
          }
        },
        "32e1f3d17d294dc685fb8bd6fac49208": {
          "model_module": "@jupyter-widgets/controls",
          "model_name": "SliderStyleModel",
          "model_module_version": "1.5.0",
          "state": {
            "_model_module": "@jupyter-widgets/controls",
            "_model_module_version": "1.5.0",
            "_model_name": "SliderStyleModel",
            "_view_count": null,
            "_view_module": "@jupyter-widgets/base",
            "_view_module_version": "1.2.0",
            "_view_name": "StyleView",
            "description_width": "",
            "handle_color": null
          }
        },
        "a86af344aabd43fd8bf2fa924c5a6c3f": {
          "model_module": "@jupyter-widgets/base",
          "model_name": "LayoutModel",
          "model_module_version": "1.2.0",
          "state": {
            "_model_module": "@jupyter-widgets/base",
            "_model_module_version": "1.2.0",
            "_model_name": "LayoutModel",
            "_view_count": null,
            "_view_module": "@jupyter-widgets/base",
            "_view_module_version": "1.2.0",
            "_view_name": "LayoutView",
            "align_content": null,
            "align_items": null,
            "align_self": null,
            "border": null,
            "bottom": null,
            "display": null,
            "flex": null,
            "flex_flow": null,
            "grid_area": null,
            "grid_auto_columns": null,
            "grid_auto_flow": null,
            "grid_auto_rows": null,
            "grid_column": null,
            "grid_gap": null,
            "grid_row": null,
            "grid_template_areas": null,
            "grid_template_columns": null,
            "grid_template_rows": null,
            "height": null,
            "justify_content": null,
            "justify_items": null,
            "left": null,
            "margin": null,
            "max_height": null,
            "max_width": null,
            "min_height": null,
            "min_width": null,
            "object_fit": null,
            "object_position": null,
            "order": null,
            "overflow": null,
            "overflow_x": null,
            "overflow_y": null,
            "padding": null,
            "right": null,
            "top": null,
            "visibility": null,
            "width": null
          }
        },
        "066d78a5a4e543f39b1e0a787da7ec17": {
          "model_module": "@jupyter-widgets/controls",
          "model_name": "SliderStyleModel",
          "model_module_version": "1.5.0",
          "state": {
            "_model_module": "@jupyter-widgets/controls",
            "_model_module_version": "1.5.0",
            "_model_name": "SliderStyleModel",
            "_view_count": null,
            "_view_module": "@jupyter-widgets/base",
            "_view_module_version": "1.2.0",
            "_view_name": "StyleView",
            "description_width": "",
            "handle_color": null
          }
        },
        "90e12f3d31f84397b9c9d3243e1d11ab": {
          "model_module": "@jupyter-widgets/base",
          "model_name": "LayoutModel",
          "model_module_version": "1.2.0",
          "state": {
            "_model_module": "@jupyter-widgets/base",
            "_model_module_version": "1.2.0",
            "_model_name": "LayoutModel",
            "_view_count": null,
            "_view_module": "@jupyter-widgets/base",
            "_view_module_version": "1.2.0",
            "_view_name": "LayoutView",
            "align_content": null,
            "align_items": null,
            "align_self": null,
            "border": null,
            "bottom": null,
            "display": null,
            "flex": null,
            "flex_flow": null,
            "grid_area": null,
            "grid_auto_columns": null,
            "grid_auto_flow": null,
            "grid_auto_rows": null,
            "grid_column": null,
            "grid_gap": null,
            "grid_row": null,
            "grid_template_areas": null,
            "grid_template_columns": null,
            "grid_template_rows": null,
            "height": null,
            "justify_content": null,
            "justify_items": null,
            "left": null,
            "margin": null,
            "max_height": null,
            "max_width": null,
            "min_height": null,
            "min_width": null,
            "object_fit": null,
            "object_position": null,
            "order": null,
            "overflow": null,
            "overflow_x": null,
            "overflow_y": null,
            "padding": null,
            "right": null,
            "top": null,
            "visibility": null,
            "width": null
          }
        },
        "75b898044b71424e9acbb58155c5e6e5": {
          "model_module": "@jupyter-widgets/controls",
          "model_name": "VBoxModel",
          "model_module_version": "1.5.0",
          "state": {
            "_dom_classes": [
              "widget-interact"
            ],
            "_model_module": "@jupyter-widgets/controls",
            "_model_module_version": "1.5.0",
            "_model_name": "VBoxModel",
            "_view_count": null,
            "_view_module": "@jupyter-widgets/controls",
            "_view_module_version": "1.5.0",
            "_view_name": "VBoxView",
            "box_style": "",
            "children": [
              "IPY_MODEL_9bd453abb2c54ff8b0c24212e1f194e1",
              "IPY_MODEL_c218b9d950cd4400a7b9e73caa8632b5",
              "IPY_MODEL_235ede16ceb446439ebf8ec6b0fcdeeb",
              "IPY_MODEL_70739901eda940c6b9be8dea74a27728"
            ],
            "layout": "IPY_MODEL_6496831f4d6e45a78b43657d338f20b2"
          }
        },
        "9bd453abb2c54ff8b0c24212e1f194e1": {
          "model_module": "@jupyter-widgets/controls",
          "model_name": "FloatSliderModel",
          "model_module_version": "1.5.0",
          "state": {
            "_dom_classes": [],
            "_model_module": "@jupyter-widgets/controls",
            "_model_module_version": "1.5.0",
            "_model_name": "FloatSliderModel",
            "_view_count": null,
            "_view_module": "@jupyter-widgets/controls",
            "_view_module_version": "1.5.0",
            "_view_name": "FloatSliderView",
            "continuous_update": true,
            "description": "beta0",
            "description_tooltip": null,
            "disabled": false,
            "layout": "IPY_MODEL_70458c23e4244a3ab2ae68ad9296fd94",
            "max": 50,
            "min": 0,
            "orientation": "horizontal",
            "readout": true,
            "readout_format": ".2f",
            "step": 0.1,
            "style": "IPY_MODEL_064050af27ae4136a869bb97804938ee",
            "value": 20
          }
        },
        "c218b9d950cd4400a7b9e73caa8632b5": {
          "model_module": "@jupyter-widgets/controls",
          "model_name": "FloatSliderModel",
          "model_module_version": "1.5.0",
          "state": {
            "_dom_classes": [],
            "_model_module": "@jupyter-widgets/controls",
            "_model_module_version": "1.5.0",
            "_model_name": "FloatSliderModel",
            "_view_count": null,
            "_view_module": "@jupyter-widgets/controls",
            "_view_module_version": "1.5.0",
            "_view_name": "FloatSliderView",
            "continuous_update": true,
            "description": "beta1",
            "description_tooltip": null,
            "disabled": false,
            "layout": "IPY_MODEL_b75b0f537d574d1083c1339b55f4495e",
            "max": 1,
            "min": 0,
            "orientation": "horizontal",
            "readout": true,
            "readout_format": ".2f",
            "step": 0.1,
            "style": "IPY_MODEL_4b2c049072cf46bf8637e06eeaf12dfe",
            "value": 0.1
          }
        },
        "235ede16ceb446439ebf8ec6b0fcdeeb": {
          "model_module": "@jupyter-widgets/controls",
          "model_name": "FloatSliderModel",
          "model_module_version": "1.5.0",
          "state": {
            "_dom_classes": [],
            "_model_module": "@jupyter-widgets/controls",
            "_model_module_version": "1.5.0",
            "_model_name": "FloatSliderModel",
            "_view_count": null,
            "_view_module": "@jupyter-widgets/controls",
            "_view_module_version": "1.5.0",
            "_view_name": "FloatSliderView",
            "continuous_update": true,
            "description": "sigma",
            "description_tooltip": null,
            "disabled": false,
            "layout": "IPY_MODEL_09136995dcf34fc9b77c60159a2095a8",
            "max": 20,
            "min": 0,
            "orientation": "horizontal",
            "readout": true,
            "readout_format": ".2f",
            "step": 0.1,
            "style": "IPY_MODEL_8bd986f527f244b3b6e5636eb375ec60",
            "value": 1
          }
        },
        "70739901eda940c6b9be8dea74a27728": {
          "model_module": "@jupyter-widgets/output",
          "model_name": "OutputModel",
          "model_module_version": "1.0.0",
          "state": {
            "_dom_classes": [],
            "_model_module": "@jupyter-widgets/output",
            "_model_module_version": "1.0.0",
            "_model_name": "OutputModel",
            "_view_count": null,
            "_view_module": "@jupyter-widgets/output",
            "_view_module_version": "1.0.0",
            "_view_name": "OutputView",
            "layout": "IPY_MODEL_de0c109016b94f73a3d7c1e378a98c8f",
            "msg_id": "",
            "outputs": [
              {
                "output_type": "display_data",
                "data": {
                  "text/plain": "<Figure size 640x480 with 1 Axes>",
                  "image/png": "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\n"
                },
                "metadata": {}
              }
            ]
          }
        },
        "6496831f4d6e45a78b43657d338f20b2": {
          "model_module": "@jupyter-widgets/base",
          "model_name": "LayoutModel",
          "model_module_version": "1.2.0",
          "state": {
            "_model_module": "@jupyter-widgets/base",
            "_model_module_version": "1.2.0",
            "_model_name": "LayoutModel",
            "_view_count": null,
            "_view_module": "@jupyter-widgets/base",
            "_view_module_version": "1.2.0",
            "_view_name": "LayoutView",
            "align_content": null,
            "align_items": null,
            "align_self": null,
            "border": null,
            "bottom": null,
            "display": null,
            "flex": null,
            "flex_flow": null,
            "grid_area": null,
            "grid_auto_columns": null,
            "grid_auto_flow": null,
            "grid_auto_rows": null,
            "grid_column": null,
            "grid_gap": null,
            "grid_row": null,
            "grid_template_areas": null,
            "grid_template_columns": null,
            "grid_template_rows": null,
            "height": null,
            "justify_content": null,
            "justify_items": null,
            "left": null,
            "margin": null,
            "max_height": null,
            "max_width": null,
            "min_height": null,
            "min_width": null,
            "object_fit": null,
            "object_position": null,
            "order": null,
            "overflow": null,
            "overflow_x": null,
            "overflow_y": null,
            "padding": null,
            "right": null,
            "top": null,
            "visibility": null,
            "width": null
          }
        },
        "70458c23e4244a3ab2ae68ad9296fd94": {
          "model_module": "@jupyter-widgets/base",
          "model_name": "LayoutModel",
          "model_module_version": "1.2.0",
          "state": {
            "_model_module": "@jupyter-widgets/base",
            "_model_module_version": "1.2.0",
            "_model_name": "LayoutModel",
            "_view_count": null,
            "_view_module": "@jupyter-widgets/base",
            "_view_module_version": "1.2.0",
            "_view_name": "LayoutView",
            "align_content": null,
            "align_items": null,
            "align_self": null,
            "border": null,
            "bottom": null,
            "display": null,
            "flex": null,
            "flex_flow": null,
            "grid_area": null,
            "grid_auto_columns": null,
            "grid_auto_flow": null,
            "grid_auto_rows": null,
            "grid_column": null,
            "grid_gap": null,
            "grid_row": null,
            "grid_template_areas": null,
            "grid_template_columns": null,
            "grid_template_rows": null,
            "height": null,
            "justify_content": null,
            "justify_items": null,
            "left": null,
            "margin": null,
            "max_height": null,
            "max_width": null,
            "min_height": null,
            "min_width": null,
            "object_fit": null,
            "object_position": null,
            "order": null,
            "overflow": null,
            "overflow_x": null,
            "overflow_y": null,
            "padding": null,
            "right": null,
            "top": null,
            "visibility": null,
            "width": null
          }
        },
        "064050af27ae4136a869bb97804938ee": {
          "model_module": "@jupyter-widgets/controls",
          "model_name": "SliderStyleModel",
          "model_module_version": "1.5.0",
          "state": {
            "_model_module": "@jupyter-widgets/controls",
            "_model_module_version": "1.5.0",
            "_model_name": "SliderStyleModel",
            "_view_count": null,
            "_view_module": "@jupyter-widgets/base",
            "_view_module_version": "1.2.0",
            "_view_name": "StyleView",
            "description_width": "",
            "handle_color": null
          }
        },
        "b75b0f537d574d1083c1339b55f4495e": {
          "model_module": "@jupyter-widgets/base",
          "model_name": "LayoutModel",
          "model_module_version": "1.2.0",
          "state": {
            "_model_module": "@jupyter-widgets/base",
            "_model_module_version": "1.2.0",
            "_model_name": "LayoutModel",
            "_view_count": null,
            "_view_module": "@jupyter-widgets/base",
            "_view_module_version": "1.2.0",
            "_view_name": "LayoutView",
            "align_content": null,
            "align_items": null,
            "align_self": null,
            "border": null,
            "bottom": null,
            "display": null,
            "flex": null,
            "flex_flow": null,
            "grid_area": null,
            "grid_auto_columns": null,
            "grid_auto_flow": null,
            "grid_auto_rows": null,
            "grid_column": null,
            "grid_gap": null,
            "grid_row": null,
            "grid_template_areas": null,
            "grid_template_columns": null,
            "grid_template_rows": null,
            "height": null,
            "justify_content": null,
            "justify_items": null,
            "left": null,
            "margin": null,
            "max_height": null,
            "max_width": null,
            "min_height": null,
            "min_width": null,
            "object_fit": null,
            "object_position": null,
            "order": null,
            "overflow": null,
            "overflow_x": null,
            "overflow_y": null,
            "padding": null,
            "right": null,
            "top": null,
            "visibility": null,
            "width": null
          }
        },
        "4b2c049072cf46bf8637e06eeaf12dfe": {
          "model_module": "@jupyter-widgets/controls",
          "model_name": "SliderStyleModel",
          "model_module_version": "1.5.0",
          "state": {
            "_model_module": "@jupyter-widgets/controls",
            "_model_module_version": "1.5.0",
            "_model_name": "SliderStyleModel",
            "_view_count": null,
            "_view_module": "@jupyter-widgets/base",
            "_view_module_version": "1.2.0",
            "_view_name": "StyleView",
            "description_width": "",
            "handle_color": null
          }
        },
        "09136995dcf34fc9b77c60159a2095a8": {
          "model_module": "@jupyter-widgets/base",
          "model_name": "LayoutModel",
          "model_module_version": "1.2.0",
          "state": {
            "_model_module": "@jupyter-widgets/base",
            "_model_module_version": "1.2.0",
            "_model_name": "LayoutModel",
            "_view_count": null,
            "_view_module": "@jupyter-widgets/base",
            "_view_module_version": "1.2.0",
            "_view_name": "LayoutView",
            "align_content": null,
            "align_items": null,
            "align_self": null,
            "border": null,
            "bottom": null,
            "display": null,
            "flex": null,
            "flex_flow": null,
            "grid_area": null,
            "grid_auto_columns": null,
            "grid_auto_flow": null,
            "grid_auto_rows": null,
            "grid_column": null,
            "grid_gap": null,
            "grid_row": null,
            "grid_template_areas": null,
            "grid_template_columns": null,
            "grid_template_rows": null,
            "height": null,
            "justify_content": null,
            "justify_items": null,
            "left": null,
            "margin": null,
            "max_height": null,
            "max_width": null,
            "min_height": null,
            "min_width": null,
            "object_fit": null,
            "object_position": null,
            "order": null,
            "overflow": null,
            "overflow_x": null,
            "overflow_y": null,
            "padding": null,
            "right": null,
            "top": null,
            "visibility": null,
            "width": null
          }
        },
        "8bd986f527f244b3b6e5636eb375ec60": {
          "model_module": "@jupyter-widgets/controls",
          "model_name": "SliderStyleModel",
          "model_module_version": "1.5.0",
          "state": {
            "_model_module": "@jupyter-widgets/controls",
            "_model_module_version": "1.5.0",
            "_model_name": "SliderStyleModel",
            "_view_count": null,
            "_view_module": "@jupyter-widgets/base",
            "_view_module_version": "1.2.0",
            "_view_name": "StyleView",
            "description_width": "",
            "handle_color": null
          }
        },
        "de0c109016b94f73a3d7c1e378a98c8f": {
          "model_module": "@jupyter-widgets/base",
          "model_name": "LayoutModel",
          "model_module_version": "1.2.0",
          "state": {
            "_model_module": "@jupyter-widgets/base",
            "_model_module_version": "1.2.0",
            "_model_name": "LayoutModel",
            "_view_count": null,
            "_view_module": "@jupyter-widgets/base",
            "_view_module_version": "1.2.0",
            "_view_name": "LayoutView",
            "align_content": null,
            "align_items": null,
            "align_self": null,
            "border": null,
            "bottom": null,
            "display": null,
            "flex": null,
            "flex_flow": null,
            "grid_area": null,
            "grid_auto_columns": null,
            "grid_auto_flow": null,
            "grid_auto_rows": null,
            "grid_column": null,
            "grid_gap": null,
            "grid_row": null,
            "grid_template_areas": null,
            "grid_template_columns": null,
            "grid_template_rows": null,
            "height": null,
            "justify_content": null,
            "justify_items": null,
            "left": null,
            "margin": null,
            "max_height": null,
            "max_width": null,
            "min_height": null,
            "min_width": null,
            "object_fit": null,
            "object_position": null,
            "order": null,
            "overflow": null,
            "overflow_x": null,
            "overflow_y": null,
            "padding": null,
            "right": null,
            "top": null,
            "visibility": null,
            "width": null
          }
        }
      }
    }
  },
  "nbformat": 4,
  "nbformat_minor": 0
}